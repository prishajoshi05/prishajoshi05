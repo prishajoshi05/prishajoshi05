{
 "cells": [
  {
   "cell_type": "markdown",
   "id": "be02a957-7133-4d02-818e-fedeb3cecb05",
   "metadata": {},
   "source": [
    "# Project X -- [Prisha ] [Joshi]"
   ]
  },
  {
   "cell_type": "markdown",
   "id": "a1228853-dd19-4ab2-89e0-0394d7d72de3",
   "metadata": {},
   "source": [
    "**TA Help:** John Smith, Alice Jones\n",
    "\n",
    "- Help with figuring out how to write a function.\n",
    "    \n",
    "**Collaboration:** Friend1, Friend2\n",
    "    \n",
    "- Helped figuring out how to load the dataset.\n",
    "- Helped debug error with my plot."
   ]
  },
  {
   "cell_type": "markdown",
   "id": "6180e742-8e39-4698-98ff-5b00c8cf8ea0",
   "metadata": {},
   "source": [
    "## Question 1"
   ]
  },
  {
   "cell_type": "code",
   "execution_count": 1,
   "id": "49445606-d363-41b4-b479-e319a9a84c01",
   "metadata": {},
   "outputs": [
    {
     "data": {
      "text/plain": [
       "x\n",
       "        F         M      <NA> \n",
       "0.4939664 0.5060336 0.0000000 "
      ]
     },
     "metadata": {},
     "output_type": "display_data"
    },
    {
     "data": {
      "text/plain": [
       "x\n",
       "          D           M           S           U           W        <NA> \n",
       "0.152388043 0.372463819 0.126575962 0.007112043 0.341460133 0.000000000 "
      ]
     },
     "metadata": {},
     "output_type": "display_data"
    }
   ],
   "source": [
    "# code here\n",
    "library(data.table)\n",
    "df <- fread(\"/anvil/projects/tdm/data/death_records/DeathRecords.csv\")\n",
    "makeatable <- function(x) {prop.table(table(x, useNA=\"always\"))}\n",
    "makeatable(df$Sex)\n",
    "makeatable(df$MaritalStatus)\n",
    "\n"
   ]
  },
  {
   "cell_type": "markdown",
   "id": "b456e57c-4a12-464b-999a-ef2df5af80c1",
   "metadata": {},
   "source": [
    "The table for death records is as shown. 49.39% females and 50.61% males are in the death records. 15.24% OF PEOPLE WERE DIVORCED, 37.25% WERE MARRIED, 12.65 WERE SINGLE , 7% WERE UNDER THE TITLE \"U\" (possibly unmarried ), AND 34.14% WERE WIDOWED "
   ]
  },
  {
   "cell_type": "markdown",
   "id": "fc601975-35ed-4680-a4e1-0273ee3cc047",
   "metadata": {},
   "source": [
    "## Question 2"
   ]
  },
  {
   "cell_type": "code",
   "execution_count": 3,
   "id": "a16336a1-1ef0-41e8-bc7c-49387db27497",
   "metadata": {},
   "outputs": [
    {
     "data": {
      "text/html": [
       "12643"
      ],
      "text/latex": [
       "12643"
      ],
      "text/markdown": [
       "12643"
      ],
      "text/plain": [
       "[1] 12643"
      ]
     },
     "metadata": {},
     "output_type": "display_data"
    },
    {
     "data": {
      "text/html": [
       "32250"
      ],
      "text/latex": [
       "32250"
      ],
      "text/markdown": [
       "32250"
      ],
      "text/plain": [
       "[1] 32250"
      ]
     },
     "metadata": {},
     "output_type": "display_data"
    }
   ],
   "source": [
    "# code here\n",
    "library(data.table)\n",
    "df1 <- fread(\"/anvil/projects/tdm/data/olympics/athlete_events.csv\")\n",
    "teenagecount <- function(x) {length(x[(x >= 13) & (x <= 19) & (!is.na(x))])}\n",
    "teenagecount(df$Age)\n",
    "teenagecount(df1$Age)"
   ]
  },
  {
   "cell_type": "markdown",
   "id": "14dc22d4-ddc3-41cc-a91a-cb0025bc0c80",
   "metadata": {},
   "source": [
    "12643 teenagers of the given age are present in death records data. Those many teenagers withing the age 13 and 19 died that year. 32250 teenagers were athletes in the olympics data. "
   ]
  },
  {
   "cell_type": "markdown",
   "id": "8e586edd-ff26-4ce2-8f6b-2424b26f2929",
   "metadata": {},
   "source": [
    "## Question 3"
   ]
  },
  {
   "cell_type": "code",
   "execution_count": 6,
   "id": "bbe0f40d-9655-4653-9ca8-886bdb61cb91",
   "metadata": {},
   "outputs": [
    {
     "data": {
      "text/html": [
       "'\\302\\240\\302\\240 32 fl oz brown glass Alesmith grumbler filled earlier today at The Growler Room in Austin, Texas, and stored in my fridge until consumption. Served into a Spaten stangekrug. Reviewed at low altitude live here in Austin on 08/31/13. Cost was $ $21 USD. Expectations are sky high given both its current ratings and the description \\342\\200\\223 which makes it sound tasty. This is my first Texan sour. Served frigid cold and allowed to warm following the initial pour. Side-poured with extra vigor as slight carbonation issues are anticipated given that it\\342\\200\\231s a growler pour. A: No bubble show forms as I pour. Pours a one finger wide head of gorgeous khaki colour. Great creaminess \\342\\200\\223 reminiscent actually of an Irish Dry Stout\\342\\200\\231s head. Good thickness. Supple. Has an appealing soft complexion. Okay lacing; some legs cling to the sides of the glass when I tilt it, but they quickly fall. Retention is pretty good \\342\\200\\223 about 3-4 minutes; not too shabby for a growler pour. Body colour is a nontransparent murky caramel-brown. Some light glowing translucency near the bottom of the glass; it\\342\\200\\231s certainly not opaque. No yeast particles are visible. It\\342\\200\\231s not incredible to look at, but there\\342\\200\\231s nothing overtly wrong with it. Looking forward to trying it. Sm: Tart acetic cherries, cherry pie crust, and accompanying sourness. It\\342\\200\\231s got more of a Flanders Red feel than anything else. Very light funkiness. I\\342\\200\\231m very impressed with the yeast-derived sourness and I\\342\\200\\231m rather curious what strain was used; this doesn\\342\\200\\231t have the sterile clinical feel of a sour brewed purely with lactobacillus (at least based on the aroma) \\342\\200\\223 there\\342\\200\\231s more complexity here, and the combination of well-integrated sourness with a subtle funkiness and complex tart character approximates lambic yeast. The yeast alone elevates the aroma beyond that of most wild ales. Unlike many subpar \\342\\200\\234wild\\342\\200\\235 ales, this one actually smells like it\\342\\200\\231s still alive \\342\\200\\223 and I don\\342\\200\\231t find myself doubting that wild yeast and bacteria were used in fermentation. It stops a bit short of evoking true spontaneous open fermentation, but I\\342\\200\\231m nitpicking. Very buried hints of vanilla and maple; they\\342\\200\\231re by no means overt. Layered caramel and biscuit malts. As it warms, the otherwise reticent oak notes begin to creep out; I don\\342\\200\\231t know that I\\342\\200\\231d say they\\342\\200\\231re evocative of a barrel per se. The cherry notes are dominant, a sound choice. No alcohol is detectable, nor is any significant hop character. A damn fine aroma for an American sour. Mild in strength, with well-executed subtlety. I\\342\\200\\231m impressed. I just hope the taste lives up to the smell. T: Tart cherries, acetic cherry pie crust notes (though not as prominent as I\\342\\200\\231d like), and a pleasant core sourness throughout are the first things I notice. It\\342\\200\\231s got a clean simple open comprised mainly of biscuit malts with a dash of caramalt in there too, a malty combination that continues on through the second act to form the body of the beer. Luckily, the malts don\\342\\200\\231t intrude and the beer\\342\\200\\231s sourness is allowed to take centre stage. Speaking of the sourness, it\\342\\200\\231s by no means puckerworthy. It\\342\\200\\231s somewhat tame yet still satisfying. This would be a good introduction to (American) sours for a beginner. Acidic. I have to retract what I said about the yeast above; it by no means approximates lambic yeast in the actual taste, and does suffer from the same sterile, clean, clinical feel of most American wild ales/sours. Unfortunate. Oak is present as a guiding undertone. Luckily, those vanilla and maple notes from the aroma are near imperceptible. No hop character or alcohol comes through. It\\342\\200\\231s got a good balance to it, and it\\342\\200\\231s nearest a Flanders Red Ale in terms of build. That said, it lacks the complexity of the best beers in that style; in fact, I\\342\\200\\231d say even Rodenbach Classic has a superior build in that respect. There is some nice subtlety here, but ultimately the second act feels a bit empty. More flavour depth and diversity is needed. Flavour duration and intensity are about average. Mf: Smooth and wet. Not oily, hot, gushed, or boozy. Acidic. Pretty good thickness and presence on the palate, if a bit unrefined for the style. Fits the attempted style well, but it doesn\\342\\200\\231t feel custom-tailored to this beer\\342\\200\\231s flavour profile specifically. Decent body. I would by no means call this a crisp beer. It\\342\\200\\231s undercarbonated, but I\\342\\200\\231m confident blaming that on the growler. I find myself tempted to smack my lips a biteen whilst consuming it; I consider that a good thing for a sour. Dr: Solid Flanders Red mimicry from the Yanks at Real Ale. I haven\\342\\200\\231t had the base beer, which I understand is their \\342\\200\\234Real Heavy\\342\\200\\235 scotch ale, but the beer never seems to out its base \\342\\200\\223 which seems favorable for a sour. I wouldn\\342\\200\\231t know the base was a wee heavy if I tried it blind, and I consider that alone a feat. This is ultimately a success from Real Ale, though the high price point as well as the availability of better cheaper offerings in the style will prevent me from buying it again. B- \\302\\240'"
      ],
      "text/latex": [
       "'\\textbackslash{}302\\textbackslash{}240\\textbackslash{}302\\textbackslash{}240 32 fl oz brown glass Alesmith grumbler filled earlier today at The Growler Room in Austin, Texas, and stored in my fridge until consumption. Served into a Spaten stangekrug. Reviewed at low altitude live here in Austin on 08/31/13. Cost was \\$ \\$21 USD. Expectations are sky high given both its current ratings and the description \\textbackslash{}342\\textbackslash{}200\\textbackslash{}223 which makes it sound tasty. This is my first Texan sour. Served frigid cold and allowed to warm following the initial pour. Side-poured with extra vigor as slight carbonation issues are anticipated given that it\\textbackslash{}342\\textbackslash{}200\\textbackslash{}231s a growler pour. A: No bubble show forms as I pour. Pours a one finger wide head of gorgeous khaki colour. Great creaminess \\textbackslash{}342\\textbackslash{}200\\textbackslash{}223 reminiscent actually of an Irish Dry Stout\\textbackslash{}342\\textbackslash{}200\\textbackslash{}231s head. Good thickness. Supple. Has an appealing soft complexion. Okay lacing; some legs cling to the sides of the glass when I tilt it, but they quickly fall. Retention is pretty good \\textbackslash{}342\\textbackslash{}200\\textbackslash{}223 about 3-4 minutes; not too shabby for a growler pour. Body colour is a nontransparent murky caramel-brown. Some light glowing translucency near the bottom of the glass; it\\textbackslash{}342\\textbackslash{}200\\textbackslash{}231s certainly not opaque. No yeast particles are visible. It\\textbackslash{}342\\textbackslash{}200\\textbackslash{}231s not incredible to look at, but there\\textbackslash{}342\\textbackslash{}200\\textbackslash{}231s nothing overtly wrong with it. Looking forward to trying it. Sm: Tart acetic cherries, cherry pie crust, and accompanying sourness. It\\textbackslash{}342\\textbackslash{}200\\textbackslash{}231s got more of a Flanders Red feel than anything else. Very light funkiness. I\\textbackslash{}342\\textbackslash{}200\\textbackslash{}231m very impressed with the yeast-derived sourness and I\\textbackslash{}342\\textbackslash{}200\\textbackslash{}231m rather curious what strain was used; this doesn\\textbackslash{}342\\textbackslash{}200\\textbackslash{}231t have the sterile clinical feel of a sour brewed purely with lactobacillus (at least based on the aroma) \\textbackslash{}342\\textbackslash{}200\\textbackslash{}223 there\\textbackslash{}342\\textbackslash{}200\\textbackslash{}231s more complexity here, and the combination of well-integrated sourness with a subtle funkiness and complex tart character approximates lambic yeast. The yeast alone elevates the aroma beyond that of most wild ales. Unlike many subpar \\textbackslash{}342\\textbackslash{}200\\textbackslash{}234wild\\textbackslash{}342\\textbackslash{}200\\textbackslash{}235 ales, this one actually smells like it\\textbackslash{}342\\textbackslash{}200\\textbackslash{}231s still alive \\textbackslash{}342\\textbackslash{}200\\textbackslash{}223 and I don\\textbackslash{}342\\textbackslash{}200\\textbackslash{}231t find myself doubting that wild yeast and bacteria were used in fermentation. It stops a bit short of evoking true spontaneous open fermentation, but I\\textbackslash{}342\\textbackslash{}200\\textbackslash{}231m nitpicking. Very buried hints of vanilla and maple; they\\textbackslash{}342\\textbackslash{}200\\textbackslash{}231re by no means overt. Layered caramel and biscuit malts. As it warms, the otherwise reticent oak notes begin to creep out; I don\\textbackslash{}342\\textbackslash{}200\\textbackslash{}231t know that I\\textbackslash{}342\\textbackslash{}200\\textbackslash{}231d say they\\textbackslash{}342\\textbackslash{}200\\textbackslash{}231re evocative of a barrel per se. The cherry notes are dominant, a sound choice. No alcohol is detectable, nor is any significant hop character. A damn fine aroma for an American sour. Mild in strength, with well-executed subtlety. I\\textbackslash{}342\\textbackslash{}200\\textbackslash{}231m impressed. I just hope the taste lives up to the smell. T: Tart cherries, acetic cherry pie crust notes (though not as prominent as I\\textbackslash{}342\\textbackslash{}200\\textbackslash{}231d like), and a pleasant core sourness throughout are the first things I notice. It\\textbackslash{}342\\textbackslash{}200\\textbackslash{}231s got a clean simple open comprised mainly of biscuit malts with a dash of caramalt in there too, a malty combination that continues on through the second act to form the body of the beer. Luckily, the malts don\\textbackslash{}342\\textbackslash{}200\\textbackslash{}231t intrude and the beer\\textbackslash{}342\\textbackslash{}200\\textbackslash{}231s sourness is allowed to take centre stage. Speaking of the sourness, it\\textbackslash{}342\\textbackslash{}200\\textbackslash{}231s by no means puckerworthy. It\\textbackslash{}342\\textbackslash{}200\\textbackslash{}231s somewhat tame yet still satisfying. This would be a good introduction to (American) sours for a beginner. Acidic. I have to retract what I said about the yeast above; it by no means approximates lambic yeast in the actual taste, and does suffer from the same sterile, clean, clinical feel of most American wild ales/sours. Unfortunate. Oak is present as a guiding undertone. Luckily, those vanilla and maple notes from the aroma are near imperceptible. No hop character or alcohol comes through. It\\textbackslash{}342\\textbackslash{}200\\textbackslash{}231s got a good balance to it, and it\\textbackslash{}342\\textbackslash{}200\\textbackslash{}231s nearest a Flanders Red Ale in terms of build. That said, it lacks the complexity of the best beers in that style; in fact, I\\textbackslash{}342\\textbackslash{}200\\textbackslash{}231d say even Rodenbach Classic has a superior build in that respect. There is some nice subtlety here, but ultimately the second act feels a bit empty. More flavour depth and diversity is needed. Flavour duration and intensity are about average. Mf: Smooth and wet. Not oily, hot, gushed, or boozy. Acidic. Pretty good thickness and presence on the palate, if a bit unrefined for the style. Fits the attempted style well, but it doesn\\textbackslash{}342\\textbackslash{}200\\textbackslash{}231t feel custom-tailored to this beer\\textbackslash{}342\\textbackslash{}200\\textbackslash{}231s flavour profile specifically. Decent body. I would by no means call this a crisp beer. It\\textbackslash{}342\\textbackslash{}200\\textbackslash{}231s undercarbonated, but I\\textbackslash{}342\\textbackslash{}200\\textbackslash{}231m confident blaming that on the growler. I find myself tempted to smack my lips a biteen whilst consuming it; I consider that a good thing for a sour. Dr: Solid Flanders Red mimicry from the Yanks at Real Ale. I haven\\textbackslash{}342\\textbackslash{}200\\textbackslash{}231t had the base beer, which I understand is their \\textbackslash{}342\\textbackslash{}200\\textbackslash{}234Real Heavy\\textbackslash{}342\\textbackslash{}200\\textbackslash{}235 scotch ale, but the beer never seems to out its base \\textbackslash{}342\\textbackslash{}200\\textbackslash{}223 which seems favorable for a sour. I wouldn\\textbackslash{}342\\textbackslash{}200\\textbackslash{}231t know the base was a wee heavy if I tried it blind, and I consider that alone a feat. This is ultimately a success from Real Ale, though the high price point as well as the availability of better cheaper offerings in the style will prevent me from buying it again. B- \\textbackslash{}302\\textbackslash{}240'"
      ],
      "text/markdown": [
       "'\\302\\240\\302\\240 32 fl oz brown glass Alesmith grumbler filled earlier today at The Growler Room in Austin, Texas, and stored in my fridge until consumption. Served into a Spaten stangekrug. Reviewed at low altitude live here in Austin on 08/31/13. Cost was $ $21 USD. Expectations are sky high given both its current ratings and the description \\342\\200\\223 which makes it sound tasty. This is my first Texan sour. Served frigid cold and allowed to warm following the initial pour. Side-poured with extra vigor as slight carbonation issues are anticipated given that it\\342\\200\\231s a growler pour. A: No bubble show forms as I pour. Pours a one finger wide head of gorgeous khaki colour. Great creaminess \\342\\200\\223 reminiscent actually of an Irish Dry Stout\\342\\200\\231s head. Good thickness. Supple. Has an appealing soft complexion. Okay lacing; some legs cling to the sides of the glass when I tilt it, but they quickly fall. Retention is pretty good \\342\\200\\223 about 3-4 minutes; not too shabby for a growler pour. Body colour is a nontransparent murky caramel-brown. Some light glowing translucency near the bottom of the glass; it\\342\\200\\231s certainly not opaque. No yeast particles are visible. It\\342\\200\\231s not incredible to look at, but there\\342\\200\\231s nothing overtly wrong with it. Looking forward to trying it. Sm: Tart acetic cherries, cherry pie crust, and accompanying sourness. It\\342\\200\\231s got more of a Flanders Red feel than anything else. Very light funkiness. I\\342\\200\\231m very impressed with the yeast-derived sourness and I\\342\\200\\231m rather curious what strain was used; this doesn\\342\\200\\231t have the sterile clinical feel of a sour brewed purely with lactobacillus (at least based on the aroma) \\342\\200\\223 there\\342\\200\\231s more complexity here, and the combination of well-integrated sourness with a subtle funkiness and complex tart character approximates lambic yeast. The yeast alone elevates the aroma beyond that of most wild ales. Unlike many subpar \\342\\200\\234wild\\342\\200\\235 ales, this one actually smells like it\\342\\200\\231s still alive \\342\\200\\223 and I don\\342\\200\\231t find myself doubting that wild yeast and bacteria were used in fermentation. It stops a bit short of evoking true spontaneous open fermentation, but I\\342\\200\\231m nitpicking. Very buried hints of vanilla and maple; they\\342\\200\\231re by no means overt. Layered caramel and biscuit malts. As it warms, the otherwise reticent oak notes begin to creep out; I don\\342\\200\\231t know that I\\342\\200\\231d say they\\342\\200\\231re evocative of a barrel per se. The cherry notes are dominant, a sound choice. No alcohol is detectable, nor is any significant hop character. A damn fine aroma for an American sour. Mild in strength, with well-executed subtlety. I\\342\\200\\231m impressed. I just hope the taste lives up to the smell. T: Tart cherries, acetic cherry pie crust notes (though not as prominent as I\\342\\200\\231d like), and a pleasant core sourness throughout are the first things I notice. It\\342\\200\\231s got a clean simple open comprised mainly of biscuit malts with a dash of caramalt in there too, a malty combination that continues on through the second act to form the body of the beer. Luckily, the malts don\\342\\200\\231t intrude and the beer\\342\\200\\231s sourness is allowed to take centre stage. Speaking of the sourness, it\\342\\200\\231s by no means puckerworthy. It\\342\\200\\231s somewhat tame yet still satisfying. This would be a good introduction to (American) sours for a beginner. Acidic. I have to retract what I said about the yeast above; it by no means approximates lambic yeast in the actual taste, and does suffer from the same sterile, clean, clinical feel of most American wild ales/sours. Unfortunate. Oak is present as a guiding undertone. Luckily, those vanilla and maple notes from the aroma are near imperceptible. No hop character or alcohol comes through. It\\342\\200\\231s got a good balance to it, and it\\342\\200\\231s nearest a Flanders Red Ale in terms of build. That said, it lacks the complexity of the best beers in that style; in fact, I\\342\\200\\231d say even Rodenbach Classic has a superior build in that respect. There is some nice subtlety here, but ultimately the second act feels a bit empty. More flavour depth and diversity is needed. Flavour duration and intensity are about average. Mf: Smooth and wet. Not oily, hot, gushed, or boozy. Acidic. Pretty good thickness and presence on the palate, if a bit unrefined for the style. Fits the attempted style well, but it doesn\\342\\200\\231t feel custom-tailored to this beer\\342\\200\\231s flavour profile specifically. Decent body. I would by no means call this a crisp beer. It\\342\\200\\231s undercarbonated, but I\\342\\200\\231m confident blaming that on the growler. I find myself tempted to smack my lips a biteen whilst consuming it; I consider that a good thing for a sour. Dr: Solid Flanders Red mimicry from the Yanks at Real Ale. I haven\\342\\200\\231t had the base beer, which I understand is their \\342\\200\\234Real Heavy\\342\\200\\235 scotch ale, but the beer never seems to out its base \\342\\200\\223 which seems favorable for a sour. I wouldn\\342\\200\\231t know the base was a wee heavy if I tried it blind, and I consider that alone a feat. This is ultimately a success from Real Ale, though the high price point as well as the availability of better cheaper offerings in the style will prevent me from buying it again. B- \\302\\240'"
      ],
      "text/plain": [
       "[1] \"\\302\\240\\302\\240 32 fl oz brown glass Alesmith grumbler filled earlier today at The Growler Room in Austin, Texas, and stored in my fridge until consumption. Served into a Spaten stangekrug. Reviewed at low altitude live here in Austin on 08/31/13. Cost was $ $21 USD. Expectations are sky high given both its current ratings and the description \\342\\200\\223 which makes it sound tasty. This is my first Texan sour. Served frigid cold and allowed to warm following the initial pour. Side-poured with extra vigor as slight carbonation issues are anticipated given that it\\342\\200\\231s a growler pour. A: No bubble show forms as I pour. Pours a one finger wide head of gorgeous khaki colour. Great creaminess \\342\\200\\223 reminiscent actually of an Irish Dry Stout\\342\\200\\231s head. Good thickness. Supple. Has an appealing soft complexion. Okay lacing; some legs cling to the sides of the glass when I tilt it, but they quickly fall. Retention is pretty good \\342\\200\\223 about 3-4 minutes; not too shabby for a growler pour. Body colour is a nontransparent murky caramel-brown. Some light glowing translucency near the bottom of the glass; it\\342\\200\\231s certainly not opaque. No yeast particles are visible. It\\342\\200\\231s not incredible to look at, but there\\342\\200\\231s nothing overtly wrong with it. Looking forward to trying it. Sm: Tart acetic cherries, cherry pie crust, and accompanying sourness. It\\342\\200\\231s got more of a Flanders Red feel than anything else. Very light funkiness. I\\342\\200\\231m very impressed with the yeast-derived sourness and I\\342\\200\\231m rather curious what strain was used; this doesn\\342\\200\\231t have the sterile clinical feel of a sour brewed purely with lactobacillus (at least based on the aroma) \\342\\200\\223 there\\342\\200\\231s more complexity here, and the combination of well-integrated sourness with a subtle funkiness and complex tart character approximates lambic yeast. The yeast alone elevates the aroma beyond that of most wild ales. Unlike many subpar \\342\\200\\234wild\\342\\200\\235 ales, this one actually smells like it\\342\\200\\231s still alive \\342\\200\\223 and I don\\342\\200\\231t find myself doubting that wild yeast and bacteria were used in fermentation. It stops a bit short of evoking true spontaneous open fermentation, but I\\342\\200\\231m nitpicking. Very buried hints of vanilla and maple; they\\342\\200\\231re by no means overt. Layered caramel and biscuit malts. As it warms, the otherwise reticent oak notes begin to creep out; I don\\342\\200\\231t know that I\\342\\200\\231d say they\\342\\200\\231re evocative of a barrel per se. The cherry notes are dominant, a sound choice. No alcohol is detectable, nor is any significant hop character. A damn fine aroma for an American sour. Mild in strength, with well-executed subtlety. I\\342\\200\\231m impressed. I just hope the taste lives up to the smell. T: Tart cherries, acetic cherry pie crust notes (though not as prominent as I\\342\\200\\231d like), and a pleasant core sourness throughout are the first things I notice. It\\342\\200\\231s got a clean simple open comprised mainly of biscuit malts with a dash of caramalt in there too, a malty combination that continues on through the second act to form the body of the beer. Luckily, the malts don\\342\\200\\231t intrude and the beer\\342\\200\\231s sourness is allowed to take centre stage. Speaking of the sourness, it\\342\\200\\231s by no means puckerworthy. It\\342\\200\\231s somewhat tame yet still satisfying. This would be a good introduction to (American) sours for a beginner. Acidic. I have to retract what I said about the yeast above; it by no means approximates lambic yeast in the actual taste, and does suffer from the same sterile, clean, clinical feel of most American wild ales/sours. Unfortunate. Oak is present as a guiding undertone. Luckily, those vanilla and maple notes from the aroma are near imperceptible. No hop character or alcohol comes through. It\\342\\200\\231s got a good balance to it, and it\\342\\200\\231s nearest a Flanders Red Ale in terms of build. That said, it lacks the complexity of the best beers in that style; in fact, I\\342\\200\\231d say even Rodenbach Classic has a superior build in that respect. There is some nice subtlety here, but ultimately the second act feels a bit empty. More flavour depth and diversity is needed. Flavour duration and intensity are about average. Mf: Smooth and wet. Not oily, hot, gushed, or boozy. Acidic. Pretty good thickness and presence on the palate, if a bit unrefined for the style. Fits the attempted style well, but it doesn\\342\\200\\231t feel custom-tailored to this beer\\342\\200\\231s flavour profile specifically. Decent body. I would by no means call this a crisp beer. It\\342\\200\\231s undercarbonated, but I\\342\\200\\231m confident blaming that on the growler. I find myself tempted to smack my lips a biteen whilst consuming it; I consider that a good thing for a sour. Dr: Solid Flanders Red mimicry from the Yanks at Real Ale. I haven\\342\\200\\231t had the base beer, which I understand is their \\342\\200\\234Real Heavy\\342\\200\\235 scotch ale, but the beer never seems to out its base \\342\\200\\223 which seems favorable for a sour. I wouldn\\342\\200\\231t know the base was a wee heavy if I tried it blind, and I consider that alone a feat. This is ultimately a success from Real Ale, though the high price point as well as the availability of better cheaper offerings in the style will prevent me from buying it again. B- \\302\\240\""
      ]
     },
     "metadata": {},
     "output_type": "display_data"
    },
    {
     "data": {
      "text/html": [
       "'REPUBLICAN NATIONAL COMMITTEE - CONTRIBUTIONS (AKA REPUBLICAN NATIONAL FINANCE COMMITTEE'"
      ],
      "text/latex": [
       "'REPUBLICAN NATIONAL COMMITTEE - CONTRIBUTIONS (AKA REPUBLICAN NATIONAL FINANCE COMMITTEE'"
      ],
      "text/markdown": [
       "'REPUBLICAN NATIONAL COMMITTEE - CONTRIBUTIONS (AKA REPUBLICAN NATIONAL FINANCE COMMITTEE'"
      ],
      "text/plain": [
       "[1] \"REPUBLICAN NATIONAL COMMITTEE - CONTRIBUTIONS (AKA REPUBLICAN NATIONAL FINANCE COMMITTEE\""
      ]
     },
     "metadata": {},
     "output_type": "display_data"
    }
   ],
   "source": [
    "library(data.table)\n",
    "myDF <- fread(\"/anvil/projects/tdm/data/election/itcont1980.txt\", quote=\"\")\n",
    "names(myDF) <- c(\"CMTE_ID\", \"AMNDT_IND\", \"RPT_TP\", \"TRANSACTION_PGI\", \"IMAGE_NUM\", \"TRANSACTION_TP\", \"ENTITY_TP\", \"NAME\", \"CITY\", \"STATE\", \"ZIP_CODE\", \"EMPLOYER\", \"OCCUPATION\", \"TRANSACTION_DT\", \"TRANSACTION_AMT\", \"OTHER_ID\", \"TRAN_ID\", \"FILE_NUM\", \"MEMO_CD\", \"MEMO_TEXT\", \"SUB_ID\")\n",
    "longesttest <- function(x) {x[which.max(nchar(x))]}\n",
    "df2 <- fread(\"/anvil/projects/tdm/data/beer/reviews_sample.csv\")\n",
    "longesttest(df2$text)\n",
    "longesttest(myDF$NAME)\n"
   ]
  },
  {
   "cell_type": "markdown",
   "id": "47c6229f-35f7-400c-8366-c442baa5cf47",
   "metadata": {},
   "source": [
    "the longest review is as shown above. The longest name in the elections data was the 'republican national committee - contributions (aka republican national finance committee'"
   ]
  },
  {
   "cell_type": "markdown",
   "id": "da22f29c-d245-4d2b-9fc1-ca14cb6087d9",
   "metadata": {},
   "source": [
    "## Question 4"
   ]
  },
  {
   "cell_type": "code",
   "execution_count": 8,
   "id": "8cffc767-d1c8-4d64-b7dc-f0d2ee8a80d1",
   "metadata": {},
   "outputs": [
    {
     "data": {
      "text/html": [
       "<time datetime=\"2017-03-17\">2017-03-17</time>"
      ],
      "text/latex": [
       "2017-03-17"
      ],
      "text/markdown": [
       "2017-03-17"
      ],
      "text/plain": [
       "[1] \"2017-03-17\""
      ]
     },
     "metadata": {},
     "output_type": "display_data"
    },
    {
     "data": {
      "text/html": [
       "10031979"
      ],
      "text/latex": [
       "10031979"
      ],
      "text/markdown": [
       "10031979"
      ],
      "text/plain": [
       "[1] 10031979"
      ]
     },
     "metadata": {},
     "output_type": "display_data"
    }
   ],
   "source": [
    "mostpopulardate <- function(x) {x[which.max(nchar(x))]}\n",
    "mostpopulardate(df2$date)\n",
    "mostpopulardate(myDF$TRANSACTION_DT)"
   ]
  },
  {
   "cell_type": "markdown",
   "id": "0d552245-b4d6-474a-9cc9-fa7b8e674d55",
   "metadata": {},
   "source": [
    "The most popular date in the beer reviews dataset is 17th march 2017. There were most of the reviews written on that date. The most popular date for the elections data is 10-03-1979. The most transactions were done on that date. "
   ]
  },
  {
   "cell_type": "markdown",
   "id": "88c9cdac-3e92-498f-83fa-e089bfc44ac8",
   "metadata": {},
   "source": [
    "## Question 5"
   ]
  },
  {
   "cell_type": "code",
   "execution_count": 1,
   "id": "d370d7c9-06db-42b9-b75f-240481a5c491",
   "metadata": {},
   "outputs": [
    {
     "data": {
      "text/html": [
       "5.96977225672878"
      ],
      "text/latex": [
       "5.96977225672878"
      ],
      "text/markdown": [
       "5.96977225672878"
      ],
      "text/plain": [
       "[1] 5.969772"
      ]
     },
     "metadata": {},
     "output_type": "display_data"
    },
    {
     "data": {
      "text/html": [
       "11.8572741063607"
      ],
      "text/latex": [
       "11.8572741063607"
      ],
      "text/markdown": [
       "11.8572741063607"
      ],
      "text/plain": [
       "[1] 11.85727"
      ]
     },
     "metadata": {},
     "output_type": "display_data"
    }
   ],
   "source": [
    "library(data.table)\n",
    "df3 <- fread(\"/anvil/projects/tdm/data/flights/subset/1990.csv\")\n",
    "myaveragedelay <- function(x) {mean(df3$DepDelay[df3$Origin == x],na.rm =TRUE)}\n",
    "myaveragedelay(\"IND\")\n",
    "myaveragedelay(\"JFK\")"
   ]
  },
  {
   "cell_type": "markdown",
   "id": "9fbf00fb-2418-460f-ae94-2a32b0c28952",
   "metadata": {},
   "source": [
    "The average delay for departure delay of flight from Indianapolis \"IND\" is 5.968 hours. The average delay for the departure delay of flight from JFK is 11.8573 hours. "
   ]
  },
  {
   "cell_type": "markdown",
   "id": "f76442d6-d02e-4f26-b9d6-c3183e1d6929",
   "metadata": {},
   "source": [
    "## Pledge\n",
    "\n",
    "By submitting this work I hereby pledge that this is my own, personal work. I've acknowledged in the designated place at the top of this file all sources that I used to complete said work, including but not limited to: online resources, books, and electronic communications. I've noted all collaboration with fellow students and/or TA's. I did not copy or plagiarize another's work.\n",
    "\n",
    "> As a Boilermaker pursuing academic excellence, I pledge to be honest and true in all that I do. Accountable together – We are Purdue."
   ]
  }
 ],
 "metadata": {
  "kernelspec": {
   "display_name": "seminar-r",
   "language": "R",
   "name": "seminar-r"
  },
  "language_info": {
   "codemirror_mode": "r",
   "file_extension": ".r",
   "mimetype": "text/x-r-source",
   "name": "R",
   "pygments_lexer": "r",
   "version": "4.4.1"
  }
 },
 "nbformat": 4,
 "nbformat_minor": 5
}
