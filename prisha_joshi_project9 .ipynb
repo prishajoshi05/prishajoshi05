{
 "cells": [
  {
   "cell_type": "markdown",
   "id": "be02a957-7133-4d02-818e-fedeb3cecb05",
   "metadata": {},
   "source": [
    "# Project X -- [Prisha ] [Joshi]"
   ]
  },
  {
   "cell_type": "markdown",
   "id": "a1228853-dd19-4ab2-89e0-0394d7d72de3",
   "metadata": {},
   "source": [
    "**TA Help:** John Smith, Alice Jones\n",
    "\n",
    "- Help with figuring out how to write a function.\n",
    "    \n",
    "**Collaboration:** Friend1, Friend2\n",
    "    \n",
    "- Helped figuring out how to load the dataset.\n",
    "- Helped debug error with my plot."
   ]
  },
  {
   "cell_type": "markdown",
   "id": "6180e742-8e39-4698-98ff-5b00c8cf8ea0",
   "metadata": {},
   "source": [
    "## Question 1"
   ]
  },
  {
   "cell_type": "code",
   "execution_count": 6,
   "id": "49445606-d363-41b4-b479-e319a9a84c01",
   "metadata": {},
   "outputs": [
    {
     "data": {
      "text/html": [
       "4.56032719836401"
      ],
      "text/latex": [
       "4.56032719836401"
      ],
      "text/markdown": [
       "4.56032719836401"
      ],
      "text/plain": [
       "[1] 4.560327"
      ]
     },
     "metadata": {},
     "output_type": "display_data"
    }
   ],
   "source": [
    "library(data.table)\n",
    "productsDF <- fread(\"/anvil/projects/tdm/data/icecream/combined/products.csv\")\n",
    "reviewsDF <- fread(\"/anvil/projects/tdm/data/icecream/combined/reviews.csv\")\n",
    "newmergedDF <- merge(productsDF, reviewsDF, by = c(\"brand\", \"key\") )\n",
    "ChocolateChipCookieDoughDF <- subset(newmergedDF, (brand == \"bj\") & (key == \"16_bj\"))\n",
    "meandf <- mean(ChocolateChipCookieDoughDF$stars, na.rm= TRUE)\n",
    "meandf"
   ]
  },
  {
   "cell_type": "markdown",
   "id": "b456e57c-4a12-464b-999a-ef2df5af80c1",
   "metadata": {},
   "source": [
    "the mean star rating for chocolatechip cookie dough icecream is 4.5603. "
   ]
  },
  {
   "cell_type": "markdown",
   "id": "fc601975-35ed-4680-a4e1-0273ee3cc047",
   "metadata": {},
   "source": [
    "## Question 2"
   ]
  },
  {
   "cell_type": "code",
   "execution_count": 20,
   "id": "a16336a1-1ef0-41e8-bc7c-49387db27497",
   "metadata": {},
   "outputs": [
    {
     "data": {
      "text/html": [
       "4.69570135746606"
      ],
      "text/latex": [
       "4.69570135746606"
      ],
      "text/markdown": [
       "4.69570135746606"
      ],
      "text/plain": [
       "[1] 4.695701"
      ]
     },
     "metadata": {},
     "output_type": "display_data"
    }
   ],
   "source": [
    "HalfBakedDF <- subset(newmergedDF,(name == \"Half Baked\\302\\256\"))\n",
    "starsdf <- mean(HalfBakedDF$stars)\n",
    "starsdf\n",
    "\n"
   ]
  },
  {
   "cell_type": "markdown",
   "id": "14dc22d4-ddc3-41cc-a91a-cb0025bc0c80",
   "metadata": {},
   "source": [
    "the average number of stars for the half baked ice cream is 4.6957. "
   ]
  },
  {
   "cell_type": "markdown",
   "id": "8e586edd-ff26-4ce2-8f6b-2424b26f2929",
   "metadata": {},
   "source": [
    "## Question 3"
   ]
  },
  {
   "cell_type": "code",
   "execution_count": 38,
   "id": "bbe0f40d-9655-4653-9ca8-886bdb61cb91",
   "metadata": {},
   "outputs": [
    {
     "data": {
      "text/html": [
       "4.15483336783275"
      ],
      "text/latex": [
       "4.15483336783275"
      ],
      "text/markdown": [
       "4.15483336783275"
      ],
      "text/plain": [
       "[1] 4.154833"
      ]
     },
     "metadata": {},
     "output_type": "display_data"
    }
   ],
   "source": [
    "chocolatedf <-  newmergedDF[grepl(\"Chocolate\",newmergedDF$name)]\n",
    "averagedf<- mean(chocolatedf$stars)\n",
    "averagedf"
   ]
  },
  {
   "cell_type": "markdown",
   "id": "47c6229f-35f7-400c-8366-c442baa5cf47",
   "metadata": {},
   "source": [
    "the average number of stars for any ice cream that had the word \"chocolate\" in it is 4.1548."
   ]
  },
  {
   "cell_type": "markdown",
   "id": "da22f29c-d245-4d2b-9fc1-ca14cb6087d9",
   "metadata": {},
   "source": [
    "## Question 4"
   ]
  },
  {
   "cell_type": "code",
   "execution_count": 2,
   "id": "8cffc767-d1c8-4d64-b7dc-f0d2ee8a80d1",
   "metadata": {},
   "outputs": [
    {
     "name": "stderr",
     "output_type": "stream",
     "text": [
      "Warning message in fread(\"/anvil/projects/tdm/data/flights/subset/airports.csv\"):\n",
      "\"Found and resolved improper quoting out-of-sample. First healed line 1253: <<\"DBN\",\"W. H. \\\"Bud\\\" Barron \",\"Dublin\",\"GA\",\"USA\",32.56445806,-82.98525556>>. If the fields are not quoted (e.g. field separator does not appear within any field), try quote=\"\" to avoid this warning.\"\n"
     ]
    },
    {
     "data": {
      "text/html": [
       "5.96977225672878"
      ],
      "text/latex": [
       "5.96977225672878"
      ],
      "text/markdown": [
       "5.96977225672878"
      ],
      "text/plain": [
       "[1] 5.969772"
      ]
     },
     "metadata": {},
     "output_type": "display_data"
    },
    {
     "data": {
      "text/html": [
       "0"
      ],
      "text/latex": [
       "0"
      ],
      "text/markdown": [
       "0"
      ],
      "text/plain": [
       "[1] 0"
      ]
     },
     "metadata": {},
     "output_type": "display_data"
    }
   ],
   "source": [
    "library(data.table)\n",
    "airportsDF <- fread(\"/anvil/projects/tdm/data/flights/subset/airports.csv\")\n",
    "flightdataDF <- fread(\"/anvil/projects/tdm/data/flights/subset/1990.csv\")\n",
    "mybigDF <- merge(airportsDF, flightdataDF, by.x = \"iata\", by.y = \"Origin\")\n",
    "newdf <-mean(mybigDF$DepDelay[mybigDF$iata == \"IND\"],na.rm=TRUE)\n",
    "newdf\n",
    "length(mybigDF$Origin )"
   ]
  },
  {
   "cell_type": "markdown",
   "id": "0d552245-b4d6-474a-9cc9-fa7b8e674d55",
   "metadata": {},
   "source": [
    "the average delay from the origin given us nan. this could mean that the merged df does not have origin as a column in the new df. even the function length(mybigDF$Origin) gives us 0 which might indicate the same thing. using ind as the iata code gives us the correct answer which is 5.9698. "
   ]
  },
  {
   "cell_type": "markdown",
   "id": "88c9cdac-3e92-498f-83fa-e089bfc44ac8",
   "metadata": {},
   "source": [
    "## Question 5"
   ]
  },
  {
   "cell_type": "code",
   "execution_count": 14,
   "id": "d370d7c9-06db-42b9-b75f-240481a5c491",
   "metadata": {},
   "outputs": [
    {
     "data": {
      "text/html": [
       "8.4465080186239"
      ],
      "text/latex": [
       "8.4465080186239"
      ],
      "text/markdown": [
       "8.4465080186239"
      ],
      "text/plain": [
       "[1] 8.446508"
      ]
     },
     "metadata": {},
     "output_type": "display_data"
    },
    {
     "data": {
      "text/html": [
       "6.47559103808483"
      ],
      "text/latex": [
       "6.47559103808483"
      ],
      "text/markdown": [
       "6.47559103808483"
      ],
      "text/plain": [
       "[1] 6.475591"
      ]
     },
     "metadata": {},
     "output_type": "display_data"
    }
   ],
   "source": [
    "newdf2 <-mean(mybigDF$DepDelay[mybigDF$iata == \"HOU\"],na.rm=TRUE)\n",
    "newdf2\n",
    "newdf3 <-mean(mybigDF$DepDelay[mybigDF$iata == \"IAH\"],na.rm=TRUE)\n",
    "newdf3"
   ]
  },
  {
   "cell_type": "markdown",
   "id": "9fbf00fb-2418-460f-ae94-2a32b0c28952",
   "metadata": {},
   "source": [
    "since there are two airports in houston texas ,their departure delays from different airport codes are shown above. "
   ]
  },
  {
   "cell_type": "markdown",
   "id": "f76442d6-d02e-4f26-b9d6-c3183e1d6929",
   "metadata": {},
   "source": [
    "## Pledge\n",
    "\n",
    "By submitting this work I hereby pledge that this is my own, personal work. I've acknowledged in the designated place at the top of this file all sources that I used to complete said work, including but not limited to: online resources, books, and electronic communications. I've noted all collaboration with fellow students and/or TA's. I did not copy or plagiarize another's work.\n",
    "\n",
    "> As a Boilermaker pursuing academic excellence, I pledge to be honest and true in all that I do. Accountable together – We are Purdue."
   ]
  }
 ],
 "metadata": {
  "kernelspec": {
   "display_name": "seminar-r",
   "language": "R",
   "name": "seminar-r"
  },
  "language_info": {
   "codemirror_mode": "r",
   "file_extension": ".r",
   "mimetype": "text/x-r-source",
   "name": "R",
   "pygments_lexer": "r",
   "version": "4.4.1"
  }
 },
 "nbformat": 4,
 "nbformat_minor": 5
}
