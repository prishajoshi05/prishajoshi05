{
 "cells": [
  {
   "cell_type": "markdown",
   "id": "be02a957-7133-4d02-818e-fedeb3cecb05",
   "metadata": {},
   "source": [
    "# Project X -- [Prisha] [Joshi]"
   ]
  },
  {
   "cell_type": "markdown",
   "id": "a1228853-dd19-4ab2-89e0-0394d7d72de3",
   "metadata": {},
   "source": [
    "**TA Help:** John Smith, Alice Jones\n",
    "\n",
    "- Help with figuring out how to write a function.\n",
    "    \n",
    "**Collaboration:** Friend1, Friend2\n",
    "    \n",
    "- Helped figuring out how to load the dataset.\n",
    "- Helped debug error with my plot."
   ]
  },
  {
   "cell_type": "markdown",
   "id": "6180e742-8e39-4698-98ff-5b00c8cf8ea0",
   "metadata": {},
   "source": [
    "## Question 1"
   ]
  },
  {
   "cell_type": "code",
   "execution_count": null,
   "id": "49445606-d363-41b4-b479-e319a9a84c01",
   "metadata": {},
   "outputs": [],
   "source": [
    "\n",
    "\n",
    "monthlydepdelays <- function(year) {\n",
    " \n",
    "  data <- read.csv(paste0(\"/anvil/projects/tdm/data/flights/subset/\", year, \".csv\"))\n",
    "  \n",
    " \n",
    "  ind_flights <- subset(data, Origin == \"IND\")\n",
    "  \n",
    "  \n",
    "  avg_monthly_delays <- tapply(ind_flights$DepDelay, ind_flights$Month, mean, na.rm = TRUE)\n",
    "  \n",
    "  return(avg_monthly_delays)\n",
    "}\n",
    "\n",
    "\n",
    "print(monthlydepdelays(1990))\n",
    "print(monthlydepdelays(1998))\n",
    "print(monthlydepdelays(2005))\n",
    "\n"
   ]
  },
  {
   "cell_type": "markdown",
   "id": "b456e57c-4a12-464b-999a-ef2df5af80c1",
   "metadata": {},
   "source": [
    "Markdown notes and sentences and analysis written here."
   ]
  },
  {
   "cell_type": "markdown",
   "id": "fc601975-35ed-4680-a4e1-0273ee3cc047",
   "metadata": {},
   "source": [
    "## Question 2"
   ]
  },
  {
   "cell_type": "code",
   "execution_count": null,
   "id": "a16336a1-1ef0-41e8-bc7c-49387db27497",
   "metadata": {},
   "outputs": [],
   "source": [
    "\n",
    "# Function to calculate average monthly departure delays for a given year at IND airport\n",
    "monthlydepdelays <- function(year) {\n",
    "  # Load flight data for the specified year\n",
    "  data <- read.csv(paste0(\"/anvil/projects/tdm/data/flights/subset/\", year, \".csv\"))\n",
    "  \n",
    "  # Filter for flights with origin at Indianapolis (IND)\n",
    "  ind_flights <- subset(data, Origin == \"IND\")\n",
    "  \n",
    "  # Calculate average departure delay by month\n",
    "  avg_monthly_delays <- tapply(ind_flights$DepDelay, ind_flights$Month, mean, na.rm = TRUE)\n",
    "  \n",
    "  return(avg_monthly_delays)\n",
    "}\n",
    "\n",
    "# Test the function on the specified years\n",
    "print(monthlydepdelays(1990))\n",
    "print(monthlydepdelays(1998))\n",
    "print(monthlydepdelays(2005))\n",
    "\n",
    "\n",
    "par(mfrow = c(3, 2))\n",
    "\n",
    "\n",
    "sapply(1988:1993, function(x) {\n",
    "  plot(monthlydepdelays(x), type = \"b\", main = paste(\"Year:\", x),\n",
    "       xlab = \"Month\", ylab = \"Average DepDelay\", pch = 19, col = \"blue\")\n",
    "})\n"
   ]
  },
  {
   "cell_type": "markdown",
   "id": "14dc22d4-ddc3-41cc-a91a-cb0025bc0c80",
   "metadata": {},
   "source": [
    "Markdown notes and sentences and analysis written here."
   ]
  },
  {
   "cell_type": "markdown",
   "id": "8e586edd-ff26-4ce2-8f6b-2424b26f2929",
   "metadata": {},
   "source": [
    "## Question 3"
   ]
  },
  {
   "cell_type": "code",
   "execution_count": 2,
   "id": "bbe0f40d-9655-4653-9ca8-886bdb61cb91",
   "metadata": {},
   "outputs": [
    {
     "name": "stdout",
     "output_type": "stream",
     "text": [
      "[1] \"1980\"\n"
     ]
    },
    {
     "data": {
      "text/html": [
       "<style>\n",
       ".dl-inline {width: auto; margin:0; padding: 0}\n",
       ".dl-inline>dt, .dl-inline>dd {float: none; width: auto; display: inline-block}\n",
       ".dl-inline>dt::after {content: \":\\0020\"; padding-right: .5ex}\n",
       ".dl-inline>dt:not(:first-of-type) {padding-left: .5ex}\n",
       "</style><dl class=dl-inline><dt>INDIANAPOLIS</dt><dd>9830126488</dd><dt>MUNCIE</dt><dd>1467869292</dd><dt>FORT WAYNE</dt><dd>1234830786</dd><dt>CARMEL</dt><dd>1125950577</dd><dt>FT WAYNE</dt><dd>1064891297</dd><dt>EVANSVILLE</dt><dd>961568924</dd><dt>ELKHART</dt><dd>936451305</dd><dt>SOUTH BEND</dt><dd>850143504</dd><dt>INDPLS</dt><dd>800133533</dd><dt>LAFAYETTE</dt><dd>515758276</dd></dl>\n"
      ],
      "text/latex": [
       "\\begin{description*}\n",
       "\\item[INDIANAPOLIS] 9830126488\n",
       "\\item[MUNCIE] 1467869292\n",
       "\\item[FORT WAYNE] 1234830786\n",
       "\\item[CARMEL] 1125950577\n",
       "\\item[FT WAYNE] 1064891297\n",
       "\\item[EVANSVILLE] 961568924\n",
       "\\item[ELKHART] 936451305\n",
       "\\item[SOUTH BEND] 850143504\n",
       "\\item[INDPLS] 800133533\n",
       "\\item[LAFAYETTE] 515758276\n",
       "\\end{description*}\n"
      ],
      "text/markdown": [
       "INDIANAPOLIS\n",
       ":   9830126488MUNCIE\n",
       ":   1467869292FORT WAYNE\n",
       ":   1234830786CARMEL\n",
       ":   1125950577FT WAYNE\n",
       ":   1064891297EVANSVILLE\n",
       ":   961568924ELKHART\n",
       ":   936451305SOUTH BEND\n",
       ":   850143504INDPLS\n",
       ":   800133533LAFAYETTE\n",
       ":   515758276\n",
       "\n"
      ],
      "text/plain": [
       "INDIANAPOLIS       MUNCIE   FORT WAYNE       CARMEL     FT WAYNE   EVANSVILLE \n",
       "  9830126488   1467869292   1234830786   1125950577   1064891297    961568924 \n",
       "     ELKHART   SOUTH BEND       INDPLS    LAFAYETTE \n",
       "   936451305    850143504    800133533    515758276 "
      ]
     },
     "metadata": {},
     "output_type": "display_data"
    },
    {
     "name": "stdout",
     "output_type": "stream",
     "text": [
      "[1] \"1986\"\n"
     ]
    },
    {
     "data": {
      "text/html": [
       "<style>\n",
       ".dl-inline {width: auto; margin:0; padding: 0}\n",
       ".dl-inline>dt, .dl-inline>dd {float: none; width: auto; display: inline-block}\n",
       ".dl-inline>dt::after {content: \":\\0020\"; padding-right: .5ex}\n",
       ".dl-inline>dt:not(:first-of-type) {padding-left: .5ex}\n",
       "</style><dl class=dl-inline><dt>INDIANAPOLIS</dt><dd>6040335199</dd><dt>FORT WAYNE</dt><dd>1109813717</dd><dt>ELKHART</dt><dd>866382378</dd><dt>MUNCIE</dt><dd>788650403</dd><dt>EVANSVILLE</dt><dd>749212465</dd><dt>CARMEL</dt><dd>531270849</dd><dt>SOUTH BEND</dt><dd>456978995</dd><dt>TERRE HAUTE</dt><dd>378637224</dd><dt>KOKOMO</dt><dd>342991340</dd><dt>ZIONSVILLE</dt><dd>297087301</dd></dl>\n"
      ],
      "text/latex": [
       "\\begin{description*}\n",
       "\\item[INDIANAPOLIS] 6040335199\n",
       "\\item[FORT WAYNE] 1109813717\n",
       "\\item[ELKHART] 866382378\n",
       "\\item[MUNCIE] 788650403\n",
       "\\item[EVANSVILLE] 749212465\n",
       "\\item[CARMEL] 531270849\n",
       "\\item[SOUTH BEND] 456978995\n",
       "\\item[TERRE HAUTE] 378637224\n",
       "\\item[KOKOMO] 342991340\n",
       "\\item[ZIONSVILLE] 297087301\n",
       "\\end{description*}\n"
      ],
      "text/markdown": [
       "INDIANAPOLIS\n",
       ":   6040335199FORT WAYNE\n",
       ":   1109813717ELKHART\n",
       ":   866382378MUNCIE\n",
       ":   788650403EVANSVILLE\n",
       ":   749212465CARMEL\n",
       ":   531270849SOUTH BEND\n",
       ":   456978995TERRE HAUTE\n",
       ":   378637224KOKOMO\n",
       ":   342991340ZIONSVILLE\n",
       ":   297087301\n",
       "\n"
      ],
      "text/plain": [
       "INDIANAPOLIS   FORT WAYNE      ELKHART       MUNCIE   EVANSVILLE       CARMEL \n",
       "  6040335199   1109813717    866382378    788650403    749212465    531270849 \n",
       "  SOUTH BEND  TERRE HAUTE       KOKOMO   ZIONSVILLE \n",
       "   456978995    378637224    342991340    297087301 "
      ]
     },
     "metadata": {},
     "output_type": "display_data"
    },
    {
     "name": "stdout",
     "output_type": "stream",
     "text": [
      "[1] \"1992\"\n"
     ]
    },
    {
     "data": {
      "text/html": [
       "<style>\n",
       ".dl-inline {width: auto; margin:0; padding: 0}\n",
       ".dl-inline>dt, .dl-inline>dd {float: none; width: auto; display: inline-block}\n",
       ".dl-inline>dt::after {content: \":\\0020\"; padding-right: .5ex}\n",
       ".dl-inline>dt:not(:first-of-type) {padding-left: .5ex}\n",
       "</style><dl class=dl-inline><dt>INDIANAPOLIS</dt><dd>24426233129</dd><dt>FORT WAYNE</dt><dd>5526229726</dd><dt>EVANSVILLE</dt><dd>4060525349</dd><dt>CARMEL</dt><dd>3719563018</dd><dt>SOUTH BEND</dt><dd>3134514533</dd><dt>MUNCIE</dt><dd>2717176839</dd><dt>COLUMBUS</dt><dd>2241863606</dd><dt>ELKHART</dt><dd>2001277307</dd><dt>BLOOMINGTON</dt><dd>1554040130</dd><dt>MUNSTER</dt><dd>1192680562</dd></dl>\n"
      ],
      "text/latex": [
       "\\begin{description*}\n",
       "\\item[INDIANAPOLIS] 24426233129\n",
       "\\item[FORT WAYNE] 5526229726\n",
       "\\item[EVANSVILLE] 4060525349\n",
       "\\item[CARMEL] 3719563018\n",
       "\\item[SOUTH BEND] 3134514533\n",
       "\\item[MUNCIE] 2717176839\n",
       "\\item[COLUMBUS] 2241863606\n",
       "\\item[ELKHART] 2001277307\n",
       "\\item[BLOOMINGTON] 1554040130\n",
       "\\item[MUNSTER] 1192680562\n",
       "\\end{description*}\n"
      ],
      "text/markdown": [
       "INDIANAPOLIS\n",
       ":   24426233129FORT WAYNE\n",
       ":   5526229726EVANSVILLE\n",
       ":   4060525349CARMEL\n",
       ":   3719563018SOUTH BEND\n",
       ":   3134514533MUNCIE\n",
       ":   2717176839COLUMBUS\n",
       ":   2241863606ELKHART\n",
       ":   2001277307BLOOMINGTON\n",
       ":   1554040130MUNSTER\n",
       ":   1192680562\n",
       "\n"
      ],
      "text/plain": [
       "INDIANAPOLIS   FORT WAYNE   EVANSVILLE       CARMEL   SOUTH BEND       MUNCIE \n",
       " 24426233129   5526229726   4060525349   3719563018   3134514533   2717176839 \n",
       "    COLUMBUS      ELKHART  BLOOMINGTON      MUNSTER \n",
       "  2241863606   2001277307   1554040130   1192680562 "
      ]
     },
     "metadata": {},
     "output_type": "display_data"
    }
   ],
   "source": [
    "library(data.table)\n",
    "\n",
    "myindycities <- function(myyear) {\n",
    "   \n",
    "    file_path <- paste0(\"/anvil/projects/tdm/data/election/itcont\", myyear, \".txt\")\n",
    "    \n",
    "    \n",
    "    DF <- fread(file_path, sep = \"|\", header = FALSE, quote = \"\", integer64 = \"character\")\n",
    "    \n",
    "  \n",
    "    \n",
    "  \n",
    "    myvalue <- DF[, .(City = V9, State = V10, Donations = suppressWarnings(as.numeric(V14)))]\n",
    "    \n",
    "    myvalue <- na.omit(myvalue)\n",
    "\n",
    " \n",
    "    indiana_donations <- myvalue[State == \"IN\"]\n",
    "\n",
    "   \n",
    "    donation_total <- tapply(indiana_donations$Donations, indiana_donations$City, sum, na.rm = TRUE)\n",
    "\n",
    "    top10 <- sort(donation_total, decreasing = TRUE)[1:10]\n",
    "    \n",
    "    return(top10)\n",
    "}\n",
    "\n",
    "\n",
    "print(\"1980\")\n",
    "myindycities(1980)\n",
    "print(\"1986\")\n",
    "myindycities(1986)\n",
    "print(\"1992\")\n",
    "myindycities(1992)"
   ]
  },
  {
   "cell_type": "markdown",
   "id": "47c6229f-35f7-400c-8366-c442baa5cf47",
   "metadata": {},
   "source": [
    "Markdown notes and sentences and analysis written here."
   ]
  },
  {
   "cell_type": "markdown",
   "id": "da22f29c-d245-4d2b-9fc1-ca14cb6087d9",
   "metadata": {},
   "source": [
    "## Question 4"
   ]
  },
  {
   "cell_type": "code",
   "execution_count": 3,
   "id": "8cffc767-d1c8-4d64-b7dc-f0d2ee8a80d1",
   "metadata": {},
   "outputs": [
    {
     "name": "stdout",
     "output_type": "stream",
     "text": [
      "$`1984`\n",
      "INDIANAPOLIS       INDPLS       MUNCIE      ELKHART   EVANSVILLE   SOUTH BEND \n",
      "  3226435470    827054351    746508034    722170343    719030362    534620525 \n",
      "    FT WAYNE   FORT WAYNE       CARMEL  TERRE HAUTE \n",
      "   453003064    418471000    340705058    306119188 \n",
      "\n",
      "$`1986`\n",
      "INDIANAPOLIS   FORT WAYNE      ELKHART       MUNCIE   EVANSVILLE       CARMEL \n",
      "  6040335199   1109813717    866382378    788650403    749212465    531270849 \n",
      "  SOUTH BEND  TERRE HAUTE       KOKOMO   ZIONSVILLE \n",
      "   456978995    378637224    342991340    297087301 \n",
      "\n",
      "$`1988`\n",
      "INDIANAPOLIS   FORT WAYNE      ELKHART       CARMEL   SOUTH BEND       MUNCIE \n",
      "  9101258051   1511923486   1395457579   1275707866   1111640026   1082165980 \n",
      "    COLUMBUS   EVANSVILLE      MUNSTER       INDPLS \n",
      "   952312319    840368533    551535103    487735243 \n",
      "\n",
      "$`1990`\n",
      "INDIANAPOLIS   FORT WAYNE       CARMEL   SOUTH BEND   EVANSVILLE       MUNCIE \n",
      " 16951751021   7976913868   2295391989   2262452678   2077174569   2038088357 \n",
      "    COLUMBUS      ELKHART      MUNSTER    GREENWOOD \n",
      "  1969770951   1843175158    877110747    802924777 \n",
      "\n",
      "$`1992`\n",
      "INDIANAPOLIS   FORT WAYNE   EVANSVILLE       CARMEL   SOUTH BEND       MUNCIE \n",
      " 24426233129   5526229726   4060525349   3719563018   3134514533   2717176839 \n",
      "    COLUMBUS      ELKHART  BLOOMINGTON      MUNSTER \n",
      "  2241863606   2001277307   1554040130   1192680562 \n",
      "\n",
      "$`1994`\n",
      "INDIANAPOLIS   FORT WAYNE       CARMEL   EVANSVILLE       MUNCIE     COLUMBUS \n",
      " 24267261811   6122290918   4198922041   3610470749   3546986442   1996281482 \n",
      "  SOUTH BEND   ZIONSVILLE      ELKHART  BLOOMINGTON \n",
      "  1843408147   1321806705   1266900844   1235002830 \n",
      "\n"
     ]
    },
    {
     "data": {
      "text/html": [
       "<ol>\n",
       "\t<li>NULL</li>\n",
       "\t<li>NULL</li>\n",
       "\t<li>NULL</li>\n",
       "\t<li>NULL</li>\n",
       "\t<li>NULL</li>\n",
       "\t<li>NULL</li>\n",
       "</ol>\n"
      ],
      "text/latex": [
       "\\begin{enumerate}\n",
       "\\item NULL\n",
       "\\item NULL\n",
       "\\item NULL\n",
       "\\item NULL\n",
       "\\item NULL\n",
       "\\item NULL\n",
       "\\end{enumerate}\n"
      ],
      "text/markdown": [
       "1. NULL\n",
       "2. NULL\n",
       "3. NULL\n",
       "4. NULL\n",
       "5. NULL\n",
       "6. NULL\n",
       "\n",
       "\n"
      ],
      "text/plain": [
       "[[1]]\n",
       "NULL\n",
       "\n",
       "[[2]]\n",
       "NULL\n",
       "\n",
       "[[3]]\n",
       "NULL\n",
       "\n",
       "[[4]]\n",
       "NULL\n",
       "\n",
       "[[5]]\n",
       "NULL\n",
       "\n",
       "[[6]]\n",
       "NULL\n"
      ]
     },
     "metadata": {},
     "output_type": "display_data"
    },
    {
     "data": {
      "image/png": "[encoded data removed]",
      "text/plain": [
       "Plot with title \"Top Donations by City - Year: 1994\""
      ]
     },
     "metadata": {
      "image/png": {
       "height": 420,
       "width": 420
      }
     },
     "output_type": "display_data"
    }
   ],
   "source": [
    "\n",
    "years <- seq(1984, 1994, by = 2)\n",
    "\n",
    "\n",
    "myresults <- lapply(years, myindycities)\n",
    "names(myresults) <- years\n",
    "\n",
    "\n",
    "print(myresults)\n",
    "\n",
    "\n",
    "par(mfrow = c(3, 2))\n",
    "\n",
    "\n",
    "sapply(years, function(x) {\n",
    "  top_cities <- myresults[[as.character(x)]]\n",
    "  if (!is.null(top_cities)) {\n",
    "    dotchart(as.numeric(top_cities), labels = names(top_cities),\n",
    "             main = paste(\"Top Donations by City - Year:\", x),\n",
    "             xlab = \"Donation Amount\")\n",
    "  }\n",
    "})"
   ]
  },
  {
   "cell_type": "markdown",
   "id": "0d552245-b4d6-474a-9cc9-fa7b8e674d55",
   "metadata": {},
   "source": [
    "Markdown notes and sentences and analysis written here."
   ]
  },
  {
   "cell_type": "markdown",
   "id": "88c9cdac-3e92-498f-83fa-e089bfc44ac8",
   "metadata": {},
   "source": [
    "## Question 5"
   ]
  },
  {
   "cell_type": "code",
   "execution_count": 4,
   "id": "d370d7c9-06db-42b9-b75f-240481a5c491",
   "metadata": {},
   "outputs": [
    {
     "name": "stdout",
     "output_type": "stream",
     "text": [
      "      bj  breyers       hd  talenti \n",
      "4.305804 4.027961 4.218475 4.311624 \n"
     ]
    }
   ],
   "source": [
    "\n",
    "myavgstars <- function(company) {\n",
    "  \n",
    "  file_path <- paste0(\"/anvil/projects/tdm/data/icecream/\", company, \"/reviews.csv\")\n",
    "  \n",
    " \n",
    "  if (!file.exists(file_path)) {\n",
    "    warning(paste(\"File not found for company:\", company))\n",
    "    return(NA) \n",
    "  }\n",
    "  \n",
    "  \n",
    "  data <- read.csv(file_path)\n",
    "  \n",
    "  \n",
    "  avg_stars <- mean(data$stars, na.rm = TRUE)\n",
    "  return(avg_stars)\n",
    "}\n",
    "\n",
    "\n",
    "companies <- c(\"bj\", \"breyers\", \"hd\", \"talenti\")\n",
    "\n",
    "\n",
    "average_stars <- sapply(companies, myavgstars)\n",
    "print(average_stars)"
   ]
  },
  {
   "cell_type": "markdown",
   "id": "9fbf00fb-2418-460f-ae94-2a32b0c28952",
   "metadata": {},
   "source": [
    "Markdown notes and sentences and analysis written here."
   ]
  },
  {
   "cell_type": "markdown",
   "id": "f76442d6-d02e-4f26-b9d6-c3183e1d6929",
   "metadata": {},
   "source": [
    "## Pledge\n",
    "\n",
    "By submitting this work I hereby pledge that this is my own, personal work. I've acknowledged in the designated place at the top of this file all sources that I used to complete said work, including but not limited to: online resources, books, and electronic communications. I've noted all collaboration with fellow students and/or TA's. I did not copy or plagiarize another's work.\n",
    "\n",
    "> As a Boilermaker pursuing academic excellence, I pledge to be honest and true in all that I do. Accountable together – We are Purdue."
   ]
  }
 ],
 "metadata": {
  "kernelspec": {
   "display_name": "seminar-r",
   "language": "R",
   "name": "seminar-r"
  },
  "language_info": {
   "codemirror_mode": "r",
   "file_extension": ".r",
   "mimetype": "text/x-r-source",
   "name": "R",
   "pygments_lexer": "r",
   "version": "4.4.1"
  }
 },
 "nbformat": 4,
 "nbformat_minor": 5
}
