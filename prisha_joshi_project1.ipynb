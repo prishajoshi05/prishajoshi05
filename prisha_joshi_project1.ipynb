{
 "cells": [
  {
   "cell_type": "markdown",
   "id": "be02a957-7133-4d02-818e-fedeb3cecb05",
   "metadata": {},
   "source": [
    "# Project 1 -- [Prisha] [Joshi]"
   ]
  },
  {
   "cell_type": "markdown",
   "id": "a1228853-dd19-4ab2-89e0-0394d7d72de3",
   "metadata": {},
   "source": [
    "**TA Help:** John Smith, Alice Jones\n",
    "\n",
    "- Help with figuring out how to write a function.\n",
    "    \n",
    "**Collaboration:** Friend1, Friend2\n",
    "    \n",
    "- Helped figuring out how to load the dataset.\n",
    "- Helped debug error with my plot."
   ]
  },
  {
   "cell_type": "markdown",
   "id": "6180e742-8e39-4698-98ff-5b00c8cf8ea0",
   "metadata": {},
   "source": [
    "## Question 1"
   ]
  },
  {
   "cell_type": "code",
   "execution_count": 1,
   "id": "49445606-d363-41b4-b479-e319a9a84c01",
   "metadata": {},
   "outputs": [
    {
     "data": {
      "text/html": [
       "<div>\n",
       "<style scoped>\n",
       "    .dataframe tbody tr th:only-of-type {\n",
       "        vertical-align: middle;\n",
       "    }\n",
       "\n",
       "    .dataframe tbody tr th {\n",
       "        vertical-align: top;\n",
       "    }\n",
       "\n",
       "    .dataframe thead th {\n",
       "        text-align: right;\n",
       "    }\n",
       "</style>\n",
       "<table border=\"1\" class=\"dataframe\">\n",
       "  <thead>\n",
       "    <tr style=\"text-align: right;\">\n",
       "      <th></th>\n",
       "      <th>iata</th>\n",
       "      <th>airport</th>\n",
       "      <th>city</th>\n",
       "      <th>state</th>\n",
       "      <th>country</th>\n",
       "      <th>lat</th>\n",
       "      <th>long</th>\n",
       "    </tr>\n",
       "  </thead>\n",
       "  <tbody>\n",
       "    <tr>\n",
       "      <th>0</th>\n",
       "      <td>00M</td>\n",
       "      <td>Thigpen</td>\n",
       "      <td>Bay Springs</td>\n",
       "      <td>MS</td>\n",
       "      <td>USA</td>\n",
       "      <td>31.953765</td>\n",
       "      <td>-89.234505</td>\n",
       "    </tr>\n",
       "    <tr>\n",
       "      <th>1</th>\n",
       "      <td>00R</td>\n",
       "      <td>Livingston Municipal</td>\n",
       "      <td>Livingston</td>\n",
       "      <td>TX</td>\n",
       "      <td>USA</td>\n",
       "      <td>30.685861</td>\n",
       "      <td>-95.017928</td>\n",
       "    </tr>\n",
       "    <tr>\n",
       "      <th>2</th>\n",
       "      <td>00V</td>\n",
       "      <td>Meadow Lake</td>\n",
       "      <td>Colorado Springs</td>\n",
       "      <td>CO</td>\n",
       "      <td>USA</td>\n",
       "      <td>38.945749</td>\n",
       "      <td>-104.569893</td>\n",
       "    </tr>\n",
       "    <tr>\n",
       "      <th>3</th>\n",
       "      <td>01G</td>\n",
       "      <td>Perry-Warsaw</td>\n",
       "      <td>Perry</td>\n",
       "      <td>NY</td>\n",
       "      <td>USA</td>\n",
       "      <td>42.741347</td>\n",
       "      <td>-78.052081</td>\n",
       "    </tr>\n",
       "    <tr>\n",
       "      <th>4</th>\n",
       "      <td>01J</td>\n",
       "      <td>Hilliard Airpark</td>\n",
       "      <td>Hilliard</td>\n",
       "      <td>FL</td>\n",
       "      <td>USA</td>\n",
       "      <td>30.688012</td>\n",
       "      <td>-81.905944</td>\n",
       "    </tr>\n",
       "  </tbody>\n",
       "</table>\n",
       "</div>"
      ],
      "text/plain": [
       "  iata               airport              city state country        lat  \\\n",
       "0  00M              Thigpen        Bay Springs    MS     USA  31.953765   \n",
       "1  00R  Livingston Municipal        Livingston    TX     USA  30.685861   \n",
       "2  00V           Meadow Lake  Colorado Springs    CO     USA  38.945749   \n",
       "3  01G          Perry-Warsaw             Perry    NY     USA  42.741347   \n",
       "4  01J      Hilliard Airpark          Hilliard    FL     USA  30.688012   \n",
       "\n",
       "         long  \n",
       "0  -89.234505  \n",
       "1  -95.017928  \n",
       "2 -104.569893  \n",
       "3  -78.052081  \n",
       "4  -81.905944  "
      ]
     },
     "execution_count": 1,
     "metadata": {},
     "output_type": "execute_result"
    }
   ],
   "source": [
    "# code here\n",
    "import pandas as pd\n",
    "myDF = pd.read_csv(\"/anvil/projects/tdm/data/flights/subset/airports.csv\")\n",
    "myDF.head()"
   ]
  },
  {
   "cell_type": "markdown",
   "id": "b456e57c-4a12-464b-999a-ef2df5af80c1",
   "metadata": {},
   "source": [
    "imported pandas and loaded the first 5 rows airport dataset"
   ]
  },
  {
   "cell_type": "markdown",
   "id": "fc601975-35ed-4680-a4e1-0273ee3cc047",
   "metadata": {},
   "source": [
    "## Question 2"
   ]
  },
  {
   "cell_type": "code",
   "execution_count": 1,
   "id": "a16336a1-1ef0-41e8-bc7c-49387db27497",
   "metadata": {},
   "outputs": [
    {
     "data": {
      "text/html": [
       "<table class=\"dataframe\">\n",
       "<caption>A data.frame: 6 x 7</caption>\n",
       "<thead>\n",
       "\t<tr><th></th><th scope=col>iata</th><th scope=col>airport</th><th scope=col>city</th><th scope=col>state</th><th scope=col>country</th><th scope=col>lat</th><th scope=col>long</th></tr>\n",
       "\t<tr><th></th><th scope=col>&lt;chr&gt;</th><th scope=col>&lt;chr&gt;</th><th scope=col>&lt;chr&gt;</th><th scope=col>&lt;chr&gt;</th><th scope=col>&lt;chr&gt;</th><th scope=col>&lt;dbl&gt;</th><th scope=col>&lt;dbl&gt;</th></tr>\n",
       "</thead>\n",
       "<tbody>\n",
       "\t<tr><th scope=row>1</th><td>00M</td><td>Thigpen             </td><td>Bay Springs     </td><td>MS</td><td>USA</td><td>31.95376</td><td> -89.23450</td></tr>\n",
       "\t<tr><th scope=row>2</th><td>00R</td><td>Livingston Municipal</td><td>Livingston      </td><td>TX</td><td>USA</td><td>30.68586</td><td> -95.01793</td></tr>\n",
       "\t<tr><th scope=row>3</th><td>00V</td><td>Meadow Lake         </td><td>Colorado Springs</td><td>CO</td><td>USA</td><td>38.94575</td><td>-104.56989</td></tr>\n",
       "\t<tr><th scope=row>4</th><td>01G</td><td>Perry-Warsaw        </td><td>Perry           </td><td>NY</td><td>USA</td><td>42.74135</td><td> -78.05208</td></tr>\n",
       "\t<tr><th scope=row>5</th><td>01J</td><td>Hilliard Airpark    </td><td>Hilliard        </td><td>FL</td><td>USA</td><td>30.68801</td><td> -81.90594</td></tr>\n",
       "\t<tr><th scope=row>6</th><td>01M</td><td>Tishomingo County   </td><td>Belmont         </td><td>MS</td><td>USA</td><td>34.49167</td><td> -88.20111</td></tr>\n",
       "</tbody>\n",
       "</table>\n"
      ],
      "text/latex": [
       "A data.frame: 6 x 7\n",
       "\\begin{tabular}{r|lllllll}\n",
       "  & iata & airport & city & state & country & lat & long\\\\\n",
       "  & <chr> & <chr> & <chr> & <chr> & <chr> & <dbl> & <dbl>\\\\\n",
       "\\hline\n",
       "\t1 & 00M & Thigpen              & Bay Springs      & MS & USA & 31.95376 &  -89.23450\\\\\n",
       "\t2 & 00R & Livingston Municipal & Livingston       & TX & USA & 30.68586 &  -95.01793\\\\\n",
       "\t3 & 00V & Meadow Lake          & Colorado Springs & CO & USA & 38.94575 & -104.56989\\\\\n",
       "\t4 & 01G & Perry-Warsaw         & Perry            & NY & USA & 42.74135 &  -78.05208\\\\\n",
       "\t5 & 01J & Hilliard Airpark     & Hilliard         & FL & USA & 30.68801 &  -81.90594\\\\\n",
       "\t6 & 01M & Tishomingo County    & Belmont          & MS & USA & 34.49167 &  -88.20111\\\\\n",
       "\\end{tabular}\n"
      ],
      "text/markdown": [
       "\n",
       "A data.frame: 6 x 7\n",
       "\n",
       "| <!--/--> | iata &lt;chr&gt; | airport &lt;chr&gt; | city &lt;chr&gt; | state &lt;chr&gt; | country &lt;chr&gt; | lat &lt;dbl&gt; | long &lt;dbl&gt; |\n",
       "|---|---|---|---|---|---|---|---|\n",
       "| 1 | 00M | Thigpen              | Bay Springs      | MS | USA | 31.95376 |  -89.23450 |\n",
       "| 2 | 00R | Livingston Municipal | Livingston       | TX | USA | 30.68586 |  -95.01793 |\n",
       "| 3 | 00V | Meadow Lake          | Colorado Springs | CO | USA | 38.94575 | -104.56989 |\n",
       "| 4 | 01G | Perry-Warsaw         | Perry            | NY | USA | 42.74135 |  -78.05208 |\n",
       "| 5 | 01J | Hilliard Airpark     | Hilliard         | FL | USA | 30.68801 |  -81.90594 |\n",
       "| 6 | 01M | Tishomingo County    | Belmont          | MS | USA | 34.49167 |  -88.20111 |\n",
       "\n"
      ],
      "text/plain": [
       "  iata airport              city             state country lat      long      \n",
       "1 00M  Thigpen              Bay Springs      MS    USA     31.95376  -89.23450\n",
       "2 00R  Livingston Municipal Livingston       TX    USA     30.68586  -95.01793\n",
       "3 00V  Meadow Lake          Colorado Springs CO    USA     38.94575 -104.56989\n",
       "4 01G  Perry-Warsaw         Perry            NY    USA     42.74135  -78.05208\n",
       "5 01J  Hilliard Airpark     Hilliard         FL    USA     30.68801  -81.90594\n",
       "6 01M  Tishomingo County    Belmont          MS    USA     34.49167  -88.20111"
      ]
     },
     "metadata": {},
     "output_type": "display_data"
    }
   ],
   "source": [
    "# code here\n",
    "myDF <- read.csv(\"/anvil/projects/tdm/data/flights/subset/airports.csv\")\n",
    "head(myDF)"
   ]
  },
  {
   "cell_type": "markdown",
   "id": "14dc22d4-ddc3-41cc-a91a-cb0025bc0c80",
   "metadata": {},
   "source": [
    "loading 6 rows of the airports form the datatset in R while understanding how to switch kernela "
   ]
  },
  {
   "cell_type": "markdown",
   "id": "8e586edd-ff26-4ce2-8f6b-2424b26f2929",
   "metadata": {},
   "source": [
    "## Question 3"
   ]
  },
  {
   "cell_type": "code",
   "execution_count": 2,
   "id": "bbe0f40d-9655-4653-9ca8-886bdb61cb91",
   "metadata": {},
   "outputs": [
    {
     "data": {
      "text/plain": [
       "\n",
       " AK  AL  AR  AS  AZ  CA  CO  CQ  CT  DC  DE  FL  GA  GU  HI  IA  ID  IL  IN  KS \n",
       "263  73  74   3  59 205  49   4  15   1   5 100  97   1  16  78  37  88  65  78 \n",
       " KY  LA  MA  MD  ME  MI  MN  MO  MS  MT  NC  ND  NE  NH  NJ  NM  NV  NY  OH  OK \n",
       " 50  55  30  18  34  94  89  74  72  71  72  52  73  14  35  51  32  97 100 102 \n",
       " OR  PA  PR  RI  SC  SD  TN  TX  UT  VA  VI  VT  WA  WI  WV  WY \n",
       " 57  71  11   6  52  57  70 209  35  47   5  13  65  84  24  32 "
      ]
     },
     "metadata": {},
     "output_type": "display_data"
    },
    {
     "data": {
      "text/plain": [
       "\n",
       " DC  GU  AS  CQ  DE  VI  RI  PR  VT  NH  CT  HI  MD  WV  MA  NV  WY  ME  NJ  UT \n",
       "  1   1   3   4   5   5   6  11  13  14  15  16  18  24  30  32  32  34  35  35 \n",
       " ID  VA  CO  KY  NM  ND  SC  LA  OR  SD  AZ  IN  WA  TN  MT  PA  MS  NC  AL  NE \n",
       " 37  47  49  50  51  52  52  55  57  57  59  65  65  70  71  71  72  72  73  73 \n",
       " AR  MO  IA  KS  WI  IL  MN  MI  GA  NY  FL  OH  OK  CA  TX  AK \n",
       " 74  74  78  78  84  88  89  94  97  97 100 100 102 205 209 263 "
      ]
     },
     "metadata": {},
     "output_type": "display_data"
    }
   ],
   "source": [
    "# code here\n",
    "table(myDF$state)\n",
    "sort(table(myDF$state))"
   ]
  },
  {
   "cell_type": "markdown",
   "id": "47c6229f-35f7-400c-8366-c442baa5cf47",
   "metadata": {},
   "source": [
    "the output shows the list of airports in every state from most to least .according to the dataset , alaska(AK) has the largest number of airports (263 )"
   ]
  },
  {
   "cell_type": "markdown",
   "id": "da22f29c-d245-4d2b-9fc1-ca14cb6087d9",
   "metadata": {},
   "source": [
    "## Question 4"
   ]
  },
  {
   "cell_type": "code",
   "execution_count": 10,
   "id": "8cffc767-d1c8-4d64-b7dc-f0d2ee8a80d1",
   "metadata": {},
   "outputs": [
    {
     "data": {
      "text/html": [
       "<table class=\"dataframe\">\n",
       "<caption>A data.frame: 6 x 8</caption>\n",
       "<thead>\n",
       "\t<tr><th></th><th scope=col>brand</th><th scope=col>key</th><th scope=col>name</th><th scope=col>subhead</th><th scope=col>description</th><th scope=col>rating</th><th scope=col>rating_count</th><th scope=col>ingredients</th></tr>\n",
       "\t<tr><th></th><th scope=col>&lt;chr&gt;</th><th scope=col>&lt;chr&gt;</th><th scope=col>&lt;chr&gt;</th><th scope=col>&lt;chr&gt;</th><th scope=col>&lt;chr&gt;</th><th scope=col>&lt;dbl&gt;</th><th scope=col>&lt;int&gt;</th><th scope=col>&lt;chr&gt;</th></tr>\n",
       "</thead>\n",
       "<tbody>\n",
       "\t<tr><th scope=row>1</th><td>bj</td><td>0_bj</td><td><span style=white-space:pre-wrap>Salted Caramel Core                 </span></td><td><span style=white-space:pre-wrap>Sweet Cream Ice Cream with Blonde Brownies &amp; a Salted Caramel Core                                 </span></td><td><span style=white-space:pre-wrap>Find your way to the ultimate ice cream experience with our Cores. Whether your primal urges lead you to the center of salted caramel or directly to the blonde brownies, you<e2><80><99>ll be in total control of your own ice cream destiny.                                                                                                      </span></td><td>3.7</td><td>208</td><td><span style=white-space:pre-wrap>CREAM, SKIM MILK, LIQUID SUGAR (SUGAR, WATER), WATER, BROWN SUGAR, SUGAR, MILK, WHEAT FLOUR, EGG YOLKS, CORN SYRUP, EGGS, BUTTER (CREAM, SALT), BUTTEROIL, PECTIN, SEA SALT, SOYBEAN OIL, VANILLA EXTRACT, GUAR GUM, SOY LECITHIN, BAKING POWDER (SODIUM ACID PYROPHOSPHATE, SODIUM BICARBONATE, CORN STARCH, MONOCALCIUM PHOSPHATE), BAKING SODA, SALT, CARRAGEENAN, LACTASE                                                        </span></td></tr>\n",
       "\t<tr><th scope=row>2</th><td>bj</td><td>1_bj</td><td><span style=white-space:pre-wrap>Netflix &amp; Chilll'd<e2><84><a2>      </span></td><td><span style=white-space:pre-wrap>Peanut Butter Ice Cream with Sweet &amp; Salty Pretzel Swirls &amp; Fudge Brownies                         </span></td><td>There<e2><80><99>s something for everyone to watch on Netflix &amp; flavors for everyone to enjoy from Ben &amp; Jerry<e2><80><99>s, so we<e2><80><99>ve teamed up to bring you a chillaxing new creation that<e2><80><99>s certain to satisfy any sweet or salty snack craving. It<e2><80><99>s a flavorful world, and everyone is invited to grab a spoon.</td><td>4.0</td><td>127</td><td><span style=white-space:pre-wrap>CREAM, SKIM MILK, LIQUID SUGAR (SUGAR, WATER), WATER, SUGAR, PEANUTS, WHEAT FLOUR, CANOLA OIL, EGG YOLKS, CORN STARCH, PEANUT OIL, COCOA POWDER, SALT, SOYBEAN OIL, INVERT CANE SUGAR, MILK FAT, EGGS, EGG WHITES, GUAR GUM, SOY LECITHIN, TAPIOCA STARCH, BAKING SODA, CARRAGEENAN, VANILLA EXTRACT, BARLEY MALT, MALTED BARLEY FLOUR                                                                                               </span></td></tr>\n",
       "\t<tr><th scope=row>3</th><td>bj</td><td>2_bj</td><td><span style=white-space:pre-wrap>Chip Happens                        </span></td><td><span style=white-space:pre-wrap>A Cold Mess of Chocolate Ice Cream with Fudge Chips &amp; Crunchy Potato Chip Swirls                   </span></td><td><span style=white-space:pre-wrap>Sometimes <e2><80><9c>chip<e2><80><9d> happens and everything<e2><80><99>s a mess, but we Nailed It! with this chip-filled limited batch. When smooth chocolate ice cream meets fudge chips &amp; salty swirls, they pack a serious one-two crunch. The best part? There won<e2><80><99>t be anything left to clean up.                                 </span></td><td>4.7</td><td>130</td><td><span style=white-space:pre-wrap>CREAM, LIQUID SUGAR (SUGAR, WATER), SKIM MILK, WATER, SUGAR, COCOA (PROCESSED WITH ALKALI), POTATO, COCONUT OIL, CORN SYRUP SOLIDS, SOYBEAN OIL, EGG YOLKS, RICE STARCH, SUNFLOWER OIL, BARLEY MALT, COCOA POWDER, WHEAT FLOUR, MILK, SALT, SOY LECITHIN, YEAST EXTRACT, NATURAL FLAVOR, GUAR GUM, SEA SALT, MILKFAT, VANILLA EXTRACT, ENZYMES, CARRAGEENAN, BAKING SODA. CONTAINS MILK, EGGS, WHEAT AND SOY                         </span></td></tr>\n",
       "\t<tr><th scope=row>4</th><td>bj</td><td>3_bj</td><td><span style=white-space:pre-wrap>Cannoli                             </span></td><td><span style=white-space:pre-wrap>Mascarpone Ice Cream with Fudge-Covered Pastry Shell Pieces &amp; Mascarpone Swirls                    </span></td><td><span style=white-space:pre-wrap>As a Limited Batch that captured the rapture of the classic Sicilian dessert, our Cannoli captivated fans like no other Cannoli could. Now that it<e2><80><99>s a full-time flavor, you and your Cannoli can re-capture the rapture all over again.                                                                                                 </span></td><td>3.6</td><td> 70</td><td><span style=white-space:pre-wrap>CREAM, SKIM MILK, LIQUID SUGAR (SUGAR, WATER),  WATER, CORN SYRUP, COCONUT OIL, SUGAR, DRIED CANE SYRUP, EGG YOLKS, WHEAT FLOUR, MILK, COCOA, NATURAL FLAVOR, GUAR GUM, SOY LECITHIN, BUTTER OIL, NATURAL FLAVORS, LOCUST BEAN GUM, SALT, CITRIC ACID, VANILLA BEAN SEEDS, SOYBEAN OIL, TAPIOCA STARCH, LACTIC ACID, CARRAGEENAN                                                                                                     </span></td></tr>\n",
       "\t<tr><th scope=row>5</th><td>bj</td><td>4_bj</td><td>Gimme S<e2><80><99>more!<e2><84><a2></td><td><span style=white-space:pre-wrap>Toasted Marshmallow Ice Cream with Chocolate Cookie Swirls, Graham Cracker Swirls &amp; Fudge Flakes   </span></td><td><span style=white-space:pre-wrap>It<e2><80><99>s a gimme: there<e2><80><99>s always room for s<e2><80><99>more. And we<e2><80><99>re pretty sure you<e2><80><99>ll want to make s<e2><80><99>more room in your freezer for this <e2><80><98>shmallowy-rich, graham-good-<e2><80><98>n-chocolatey concoction now that it's full time flavor!.                                         </span></td><td>4.5</td><td>281</td><td><span style=white-space:pre-wrap>CREAM, SKIM MILK, WATER, LIQUID SUGAR (SUGAR, WATER), SUGAR, CANOLA OIL, SOYBEAN OIL, EGG YOLKS, CORN SYRUP, WHEAT FLOUR, COCONUT OIL, CORN STARCH, COCOA (PROCESSED WITH ALKALI), CORN SYRUP SOLIDS, COCOA, GRAHAM FLOUR, SALT, EGG WHITES, BUTTEROIL, TAPIOCA STARCH, GUAR GUM, SOY LECITHIN, BAKING SODA, NATURAL FLAVOR, MOLASSES, HONEY, VANILLA EXTRACT, PECTIN, CARAMELIZED SUGAR SYRUP, CARRAGEENAN                          </span></td></tr>\n",
       "\t<tr><th scope=row>6</th><td>bj</td><td>5_bj</td><td><span style=white-space:pre-wrap>Peanut Butter Half Baked<c2><ae>    </span></td><td>Chocolate &amp; Peanut Butter Ice Creams Mixed with Gobs of Peanut Butter Cookie Dough &amp; Fudge Brownies</td><td><span style=white-space:pre-wrap>If you were more than a little bit smitten with half baked<c2><ae><e2><80><99>s peanut buttery cousin when it was a Limited Batch, we expect you could be a whole lot smittener now that it<e2><80><99>s a full-time flavor. Enjoy!                                                                                                                 </span></td><td>4.9</td><td> 14</td><td>CREAM, LIQUID SUGAR (SUGAR, WATER), SKIM MILK, WATER, SUGAR, WHEAT FLOUR, PEANUTS, COCOA (PROCESSED WITH ALKALI), BROWN SUGAR, EGG YOLKS, COCOA POWDER, PEANUT OIL, SOYBEAN OIL, BUTTER (CREAM, SALT), INVERT CANE SUGAR, SALT, CHOCOLATE LIQUOR, EGGS, TAPIOCA FLOUR, PEANUT FLOUR, PEANUT EXTRACT, VANILLA EXTRACT, EGG WHITES, GUAR GUM, COCOA BUTTER, NATURAL FLAVOR, CARRAGEENAN, SOY LECITHIN, BAKING SODA, MALTED BARLEY FLOUR</td></tr>\n",
       "</tbody>\n",
       "</table>\n"
      ],
      "text/latex": [
       "A data.frame: 6 x 8\n",
       "\\begin{tabular}{r|llllllll}\n",
       "  & brand & key & name & subhead & description & rating & rating\\_count & ingredients\\\\\n",
       "  & <chr> & <chr> & <chr> & <chr> & <chr> & <dbl> & <int> & <chr>\\\\\n",
       "\\hline\n",
       "\t1 & bj & 0\\_bj & Salted Caramel Core                  & Sweet Cream Ice Cream with Blonde Brownies \\& a Salted Caramel Core                                  & Find your way to the ultimate ice cream experience with our Cores. Whether your primal urges lead you to the center of salted caramel or directly to the blonde brownies, you<e2><80><99>ll be in total control of your own ice cream destiny.                                                                                                       & 3.7 & 208 & CREAM, SKIM MILK, LIQUID SUGAR (SUGAR, WATER), WATER, BROWN SUGAR, SUGAR, MILK, WHEAT FLOUR, EGG YOLKS, CORN SYRUP, EGGS, BUTTER (CREAM, SALT), BUTTEROIL, PECTIN, SEA SALT, SOYBEAN OIL, VANILLA EXTRACT, GUAR GUM, SOY LECITHIN, BAKING POWDER (SODIUM ACID PYROPHOSPHATE, SODIUM BICARBONATE, CORN STARCH, MONOCALCIUM PHOSPHATE), BAKING SODA, SALT, CARRAGEENAN, LACTASE                                                        \\\\\n",
       "\t2 & bj & 1\\_bj & Netflix \\& Chilll'd<e2><84><a2>       & Peanut Butter Ice Cream with Sweet \\& Salty Pretzel Swirls \\& Fudge Brownies                          & There<e2><80><99>s something for everyone to watch on Netflix \\& flavors for everyone to enjoy from Ben \\& Jerry<e2><80><99>s, so we<e2><80><99>ve teamed up to bring you a chillaxing new creation that<e2><80><99>s certain to satisfy any sweet or salty snack craving. It<e2><80><99>s a flavorful world, and everyone is invited to grab a spoon. & 4.0 & 127 & CREAM, SKIM MILK, LIQUID SUGAR (SUGAR, WATER), WATER, SUGAR, PEANUTS, WHEAT FLOUR, CANOLA OIL, EGG YOLKS, CORN STARCH, PEANUT OIL, COCOA POWDER, SALT, SOYBEAN OIL, INVERT CANE SUGAR, MILK FAT, EGGS, EGG WHITES, GUAR GUM, SOY LECITHIN, TAPIOCA STARCH, BAKING SODA, CARRAGEENAN, VANILLA EXTRACT, BARLEY MALT, MALTED BARLEY FLOUR                                                                                               \\\\\n",
       "\t3 & bj & 2\\_bj & Chip Happens                         & A Cold Mess of Chocolate Ice Cream with Fudge Chips \\& Crunchy Potato Chip Swirls                    & Sometimes <e2><80><9c>chip<e2><80><9d> happens and everything<e2><80><99>s a mess, but we Nailed It! with this chip-filled limited batch. When smooth chocolate ice cream meets fudge chips \\& salty swirls, they pack a serious one-two crunch. The best part? There won<e2><80><99>t be anything left to clean up.                                  & 4.7 & 130 & CREAM, LIQUID SUGAR (SUGAR, WATER), SKIM MILK, WATER, SUGAR, COCOA (PROCESSED WITH ALKALI), POTATO, COCONUT OIL, CORN SYRUP SOLIDS, SOYBEAN OIL, EGG YOLKS, RICE STARCH, SUNFLOWER OIL, BARLEY MALT, COCOA POWDER, WHEAT FLOUR, MILK, SALT, SOY LECITHIN, YEAST EXTRACT, NATURAL FLAVOR, GUAR GUM, SEA SALT, MILKFAT, VANILLA EXTRACT, ENZYMES, CARRAGEENAN, BAKING SODA. CONTAINS MILK, EGGS, WHEAT AND SOY                         \\\\\n",
       "\t4 & bj & 3\\_bj & Cannoli                              & Mascarpone Ice Cream with Fudge-Covered Pastry Shell Pieces \\& Mascarpone Swirls                     & As a Limited Batch that captured the rapture of the classic Sicilian dessert, our Cannoli captivated fans like no other Cannoli could. Now that it<e2><80><99>s a full-time flavor, you and your Cannoli can re-capture the rapture all over again.                                                                                                  & 3.6 &  70 & CREAM, SKIM MILK, LIQUID SUGAR (SUGAR, WATER),  WATER, CORN SYRUP, COCONUT OIL, SUGAR, DRIED CANE SYRUP, EGG YOLKS, WHEAT FLOUR, MILK, COCOA, NATURAL FLAVOR, GUAR GUM, SOY LECITHIN, BUTTER OIL, NATURAL FLAVORS, LOCUST BEAN GUM, SALT, CITRIC ACID, VANILLA BEAN SEEDS, SOYBEAN OIL, TAPIOCA STARCH, LACTIC ACID, CARRAGEENAN                                                                                                     \\\\\n",
       "\t5 & bj & 4\\_bj & Gimme S<e2><80><99>more!<e2><84><a2> & Toasted Marshmallow Ice Cream with Chocolate Cookie Swirls, Graham Cracker Swirls \\& Fudge Flakes    & It<e2><80><99>s a gimme: there<e2><80><99>s always room for s<e2><80><99>more. And we<e2><80><99>re pretty sure you<e2><80><99>ll want to make s<e2><80><99>more room in your freezer for this <e2><80><98>shmallowy-rich, graham-good-<e2><80><98>n-chocolatey concoction now that it's full time flavor!.                                          & 4.5 & 281 & CREAM, SKIM MILK, WATER, LIQUID SUGAR (SUGAR, WATER), SUGAR, CANOLA OIL, SOYBEAN OIL, EGG YOLKS, CORN SYRUP, WHEAT FLOUR, COCONUT OIL, CORN STARCH, COCOA (PROCESSED WITH ALKALI), CORN SYRUP SOLIDS, COCOA, GRAHAM FLOUR, SALT, EGG WHITES, BUTTEROIL, TAPIOCA STARCH, GUAR GUM, SOY LECITHIN, BAKING SODA, NATURAL FLAVOR, MOLASSES, HONEY, VANILLA EXTRACT, PECTIN, CARAMELIZED SUGAR SYRUP, CARRAGEENAN                          \\\\\n",
       "\t6 & bj & 5\\_bj & Peanut Butter Half Baked<c2><ae>     & Chocolate \\& Peanut Butter Ice Creams Mixed with Gobs of Peanut Butter Cookie Dough \\& Fudge Brownies & If you were more than a little bit smitten with half baked<c2><ae><e2><80><99>s peanut buttery cousin when it was a Limited Batch, we expect you could be a whole lot smittener now that it<e2><80><99>s a full-time flavor. Enjoy!                                                                                                                  & 4.9 &  14 & CREAM, LIQUID SUGAR (SUGAR, WATER), SKIM MILK, WATER, SUGAR, WHEAT FLOUR, PEANUTS, COCOA (PROCESSED WITH ALKALI), BROWN SUGAR, EGG YOLKS, COCOA POWDER, PEANUT OIL, SOYBEAN OIL, BUTTER (CREAM, SALT), INVERT CANE SUGAR, SALT, CHOCOLATE LIQUOR, EGGS, TAPIOCA FLOUR, PEANUT FLOUR, PEANUT EXTRACT, VANILLA EXTRACT, EGG WHITES, GUAR GUM, COCOA BUTTER, NATURAL FLAVOR, CARRAGEENAN, SOY LECITHIN, BAKING SODA, MALTED BARLEY FLOUR\\\\\n",
       "\\end{tabular}\n"
      ],
      "text/markdown": [
       "\n",
       "A data.frame: 6 x 8\n",
       "\n",
       "| <!--/--> | brand &lt;chr&gt; | key &lt;chr&gt; | name &lt;chr&gt; | subhead &lt;chr&gt; | description &lt;chr&gt; | rating &lt;dbl&gt; | rating_count &lt;int&gt; | ingredients &lt;chr&gt; |\n",
       "|---|---|---|---|---|---|---|---|---|\n",
       "| 1 | bj | 0_bj | Salted Caramel Core                  | Sweet Cream Ice Cream with Blonde Brownies &amp; a Salted Caramel Core                                  | Find your way to the ultimate ice cream experience with our Cores. Whether your primal urges lead you to the center of salted caramel or directly to the blonde brownies, you<e2><80><99>ll be in total control of your own ice cream destiny.                                                                                                       | 3.7 | 208 | CREAM, SKIM MILK, LIQUID SUGAR (SUGAR, WATER), WATER, BROWN SUGAR, SUGAR, MILK, WHEAT FLOUR, EGG YOLKS, CORN SYRUP, EGGS, BUTTER (CREAM, SALT), BUTTEROIL, PECTIN, SEA SALT, SOYBEAN OIL, VANILLA EXTRACT, GUAR GUM, SOY LECITHIN, BAKING POWDER (SODIUM ACID PYROPHOSPHATE, SODIUM BICARBONATE, CORN STARCH, MONOCALCIUM PHOSPHATE), BAKING SODA, SALT, CARRAGEENAN, LACTASE                                                         |\n",
       "| 2 | bj | 1_bj | Netflix &amp; Chilll'd<e2><84><a2>       | Peanut Butter Ice Cream with Sweet &amp; Salty Pretzel Swirls &amp; Fudge Brownies                          | There<e2><80><99>s something for everyone to watch on Netflix &amp; flavors for everyone to enjoy from Ben &amp; Jerry<e2><80><99>s, so we<e2><80><99>ve teamed up to bring you a chillaxing new creation that<e2><80><99>s certain to satisfy any sweet or salty snack craving. It<e2><80><99>s a flavorful world, and everyone is invited to grab a spoon. | 4.0 | 127 | CREAM, SKIM MILK, LIQUID SUGAR (SUGAR, WATER), WATER, SUGAR, PEANUTS, WHEAT FLOUR, CANOLA OIL, EGG YOLKS, CORN STARCH, PEANUT OIL, COCOA POWDER, SALT, SOYBEAN OIL, INVERT CANE SUGAR, MILK FAT, EGGS, EGG WHITES, GUAR GUM, SOY LECITHIN, TAPIOCA STARCH, BAKING SODA, CARRAGEENAN, VANILLA EXTRACT, BARLEY MALT, MALTED BARLEY FLOUR                                                                                                |\n",
       "| 3 | bj | 2_bj | Chip Happens                         | A Cold Mess of Chocolate Ice Cream with Fudge Chips &amp; Crunchy Potato Chip Swirls                    | Sometimes <e2><80><9c>chip<e2><80><9d> happens and everything<e2><80><99>s a mess, but we Nailed It! with this chip-filled limited batch. When smooth chocolate ice cream meets fudge chips &amp; salty swirls, they pack a serious one-two crunch. The best part? There won<e2><80><99>t be anything left to clean up.                                  | 4.7 | 130 | CREAM, LIQUID SUGAR (SUGAR, WATER), SKIM MILK, WATER, SUGAR, COCOA (PROCESSED WITH ALKALI), POTATO, COCONUT OIL, CORN SYRUP SOLIDS, SOYBEAN OIL, EGG YOLKS, RICE STARCH, SUNFLOWER OIL, BARLEY MALT, COCOA POWDER, WHEAT FLOUR, MILK, SALT, SOY LECITHIN, YEAST EXTRACT, NATURAL FLAVOR, GUAR GUM, SEA SALT, MILKFAT, VANILLA EXTRACT, ENZYMES, CARRAGEENAN, BAKING SODA. CONTAINS MILK, EGGS, WHEAT AND SOY                          |\n",
       "| 4 | bj | 3_bj | Cannoli                              | Mascarpone Ice Cream with Fudge-Covered Pastry Shell Pieces &amp; Mascarpone Swirls                     | As a Limited Batch that captured the rapture of the classic Sicilian dessert, our Cannoli captivated fans like no other Cannoli could. Now that it<e2><80><99>s a full-time flavor, you and your Cannoli can re-capture the rapture all over again.                                                                                                  | 3.6 |  70 | CREAM, SKIM MILK, LIQUID SUGAR (SUGAR, WATER),  WATER, CORN SYRUP, COCONUT OIL, SUGAR, DRIED CANE SYRUP, EGG YOLKS, WHEAT FLOUR, MILK, COCOA, NATURAL FLAVOR, GUAR GUM, SOY LECITHIN, BUTTER OIL, NATURAL FLAVORS, LOCUST BEAN GUM, SALT, CITRIC ACID, VANILLA BEAN SEEDS, SOYBEAN OIL, TAPIOCA STARCH, LACTIC ACID, CARRAGEENAN                                                                                                      |\n",
       "| 5 | bj | 4_bj | Gimme S<e2><80><99>more!<e2><84><a2> | Toasted Marshmallow Ice Cream with Chocolate Cookie Swirls, Graham Cracker Swirls &amp; Fudge Flakes    | It<e2><80><99>s a gimme: there<e2><80><99>s always room for s<e2><80><99>more. And we<e2><80><99>re pretty sure you<e2><80><99>ll want to make s<e2><80><99>more room in your freezer for this <e2><80><98>shmallowy-rich, graham-good-<e2><80><98>n-chocolatey concoction now that it's full time flavor!.                                          | 4.5 | 281 | CREAM, SKIM MILK, WATER, LIQUID SUGAR (SUGAR, WATER), SUGAR, CANOLA OIL, SOYBEAN OIL, EGG YOLKS, CORN SYRUP, WHEAT FLOUR, COCONUT OIL, CORN STARCH, COCOA (PROCESSED WITH ALKALI), CORN SYRUP SOLIDS, COCOA, GRAHAM FLOUR, SALT, EGG WHITES, BUTTEROIL, TAPIOCA STARCH, GUAR GUM, SOY LECITHIN, BAKING SODA, NATURAL FLAVOR, MOLASSES, HONEY, VANILLA EXTRACT, PECTIN, CARAMELIZED SUGAR SYRUP, CARRAGEENAN                           |\n",
       "| 6 | bj | 5_bj | Peanut Butter Half Baked<c2><ae>     | Chocolate &amp; Peanut Butter Ice Creams Mixed with Gobs of Peanut Butter Cookie Dough &amp; Fudge Brownies | If you were more than a little bit smitten with half baked<c2><ae><e2><80><99>s peanut buttery cousin when it was a Limited Batch, we expect you could be a whole lot smittener now that it<e2><80><99>s a full-time flavor. Enjoy!                                                                                                                  | 4.9 |  14 | CREAM, LIQUID SUGAR (SUGAR, WATER), SKIM MILK, WATER, SUGAR, WHEAT FLOUR, PEANUTS, COCOA (PROCESSED WITH ALKALI), BROWN SUGAR, EGG YOLKS, COCOA POWDER, PEANUT OIL, SOYBEAN OIL, BUTTER (CREAM, SALT), INVERT CANE SUGAR, SALT, CHOCOLATE LIQUOR, EGGS, TAPIOCA FLOUR, PEANUT FLOUR, PEANUT EXTRACT, VANILLA EXTRACT, EGG WHITES, GUAR GUM, COCOA BUTTER, NATURAL FLAVOR, CARRAGEENAN, SOY LECITHIN, BAKING SODA, MALTED BARLEY FLOUR |\n",
       "\n"
      ],
      "text/plain": [
       "  brand key  name                                \n",
       "1 bj    0_bj Salted Caramel Core                 \n",
       "2 bj    1_bj Netflix & Chilll'd\\342\\204\\242      \n",
       "3 bj    2_bj Chip Happens                        \n",
       "4 bj    3_bj Cannoli                             \n",
       "5 bj    4_bj Gimme S\\342\\200\\231more!\\342\\204\\242\n",
       "6 bj    5_bj Peanut Butter Half Baked\\302\\256    \n",
       "  subhead                                                                                            \n",
       "1 Sweet Cream Ice Cream with Blonde Brownies & a Salted Caramel Core                                 \n",
       "2 Peanut Butter Ice Cream with Sweet & Salty Pretzel Swirls & Fudge Brownies                         \n",
       "3 A Cold Mess of Chocolate Ice Cream with Fudge Chips & Crunchy Potato Chip Swirls                   \n",
       "4 Mascarpone Ice Cream with Fudge-Covered Pastry Shell Pieces & Mascarpone Swirls                    \n",
       "5 Toasted Marshmallow Ice Cream with Chocolate Cookie Swirls, Graham Cracker Swirls & Fudge Flakes   \n",
       "6 Chocolate & Peanut Butter Ice Creams Mixed with Gobs of Peanut Butter Cookie Dough & Fudge Brownies\n",
       "  description                                                                                                                                                                                                                                                                                                                                         \n",
       "1 Find your way to the ultimate ice cream experience with our Cores. Whether your primal urges lead you to the center of salted caramel or directly to the blonde brownies, you\\342\\200\\231ll be in total control of your own ice cream destiny.                                                                                                      \n",
       "2 There\\342\\200\\231s something for everyone to watch on Netflix & flavors for everyone to enjoy from Ben & Jerry\\342\\200\\231s, so we\\342\\200\\231ve teamed up to bring you a chillaxing new creation that\\342\\200\\231s certain to satisfy any sweet or salty snack craving. It\\342\\200\\231s a flavorful world, and everyone is invited to grab a spoon.\n",
       "3 Sometimes \\342\\200\\234chip\\342\\200\\235 happens and everything\\342\\200\\231s a mess, but we Nailed It! with this chip-filled limited batch. When smooth chocolate ice cream meets fudge chips & salty swirls, they pack a serious one-two crunch. The best part? There won\\342\\200\\231t be anything left to clean up.                                 \n",
       "4 As a Limited Batch that captured the rapture of the classic Sicilian dessert, our Cannoli captivated fans like no other Cannoli could. Now that it\\342\\200\\231s a full-time flavor, you and your Cannoli can re-capture the rapture all over again.                                                                                                 \n",
       "5 It\\342\\200\\231s a gimme: there\\342\\200\\231s always room for s\\342\\200\\231more. And we\\342\\200\\231re pretty sure you\\342\\200\\231ll want to make s\\342\\200\\231more room in your freezer for this \\342\\200\\230shmallowy-rich, graham-good-\\342\\200\\230n-chocolatey concoction now that it's full time flavor!.                                         \n",
       "6 If you were more than a little bit smitten with half baked\\302\\256\\342\\200\\231s peanut buttery cousin when it was a Limited Batch, we expect you could be a whole lot smittener now that it\\342\\200\\231s a full-time flavor. Enjoy!                                                                                                                 \n",
       "  rating rating_count\n",
       "1 3.7    208         \n",
       "2 4.0    127         \n",
       "3 4.7    130         \n",
       "4 3.6     70         \n",
       "5 4.5    281         \n",
       "6 4.9     14         \n",
       "  ingredients                                                                                                                                                                                                                                                                                                                                                                                                                          \n",
       "1 CREAM, SKIM MILK, LIQUID SUGAR (SUGAR, WATER), WATER, BROWN SUGAR, SUGAR, MILK, WHEAT FLOUR, EGG YOLKS, CORN SYRUP, EGGS, BUTTER (CREAM, SALT), BUTTEROIL, PECTIN, SEA SALT, SOYBEAN OIL, VANILLA EXTRACT, GUAR GUM, SOY LECITHIN, BAKING POWDER (SODIUM ACID PYROPHOSPHATE, SODIUM BICARBONATE, CORN STARCH, MONOCALCIUM PHOSPHATE), BAKING SODA, SALT, CARRAGEENAN, LACTASE                                                        \n",
       "2 CREAM, SKIM MILK, LIQUID SUGAR (SUGAR, WATER), WATER, SUGAR, PEANUTS, WHEAT FLOUR, CANOLA OIL, EGG YOLKS, CORN STARCH, PEANUT OIL, COCOA POWDER, SALT, SOYBEAN OIL, INVERT CANE SUGAR, MILK FAT, EGGS, EGG WHITES, GUAR GUM, SOY LECITHIN, TAPIOCA STARCH, BAKING SODA, CARRAGEENAN, VANILLA EXTRACT, BARLEY MALT, MALTED BARLEY FLOUR                                                                                               \n",
       "3 CREAM, LIQUID SUGAR (SUGAR, WATER), SKIM MILK, WATER, SUGAR, COCOA (PROCESSED WITH ALKALI), POTATO, COCONUT OIL, CORN SYRUP SOLIDS, SOYBEAN OIL, EGG YOLKS, RICE STARCH, SUNFLOWER OIL, BARLEY MALT, COCOA POWDER, WHEAT FLOUR, MILK, SALT, SOY LECITHIN, YEAST EXTRACT, NATURAL FLAVOR, GUAR GUM, SEA SALT, MILKFAT, VANILLA EXTRACT, ENZYMES, CARRAGEENAN, BAKING SODA. CONTAINS MILK, EGGS, WHEAT AND SOY                         \n",
       "4 CREAM, SKIM MILK, LIQUID SUGAR (SUGAR, WATER),  WATER, CORN SYRUP, COCONUT OIL, SUGAR, DRIED CANE SYRUP, EGG YOLKS, WHEAT FLOUR, MILK, COCOA, NATURAL FLAVOR, GUAR GUM, SOY LECITHIN, BUTTER OIL, NATURAL FLAVORS, LOCUST BEAN GUM, SALT, CITRIC ACID, VANILLA BEAN SEEDS, SOYBEAN OIL, TAPIOCA STARCH, LACTIC ACID, CARRAGEENAN                                                                                                     \n",
       "5 CREAM, SKIM MILK, WATER, LIQUID SUGAR (SUGAR, WATER), SUGAR, CANOLA OIL, SOYBEAN OIL, EGG YOLKS, CORN SYRUP, WHEAT FLOUR, COCONUT OIL, CORN STARCH, COCOA (PROCESSED WITH ALKALI), CORN SYRUP SOLIDS, COCOA, GRAHAM FLOUR, SALT, EGG WHITES, BUTTEROIL, TAPIOCA STARCH, GUAR GUM, SOY LECITHIN, BAKING SODA, NATURAL FLAVOR, MOLASSES, HONEY, VANILLA EXTRACT, PECTIN, CARAMELIZED SUGAR SYRUP, CARRAGEENAN                          \n",
       "6 CREAM, LIQUID SUGAR (SUGAR, WATER), SKIM MILK, WATER, SUGAR, WHEAT FLOUR, PEANUTS, COCOA (PROCESSED WITH ALKALI), BROWN SUGAR, EGG YOLKS, COCOA POWDER, PEANUT OIL, SOYBEAN OIL, BUTTER (CREAM, SALT), INVERT CANE SUGAR, SALT, CHOCOLATE LIQUOR, EGGS, TAPIOCA FLOUR, PEANUT FLOUR, PEANUT EXTRACT, VANILLA EXTRACT, EGG WHITES, GUAR GUM, COCOA BUTTER, NATURAL FLAVOR, CARRAGEENAN, SOY LECITHIN, BAKING SODA, MALTED BARLEY FLOUR"
      ]
     },
     "metadata": {},
     "output_type": "display_data"
    }
   ],
   "source": [
    "# code here\n",
    "\n",
    "myDF1 <- read.csv(\"/anvil/projects/tdm/data/icecream/combined/products.csv\")\n",
    "head(myDF1)\n"
   ]
  },
  {
   "cell_type": "code",
   "execution_count": 17,
   "id": "519c4c32-88ed-43ad-81a6-0a07285aae84",
   "metadata": {},
   "outputs": [
    {
     "data": {
      "text/html": [
       "<table class=\"dataframe\">\n",
       "<caption>A data.frame: 6 x 8</caption>\n",
       "<thead>\n",
       "\t<tr><th></th><th scope=col>brand</th><th scope=col>key</th><th scope=col>name</th><th scope=col>subhead</th><th scope=col>description</th><th scope=col>rating</th><th scope=col>rating_count</th><th scope=col>ingredients</th></tr>\n",
       "\t<tr><th></th><th scope=col>&lt;chr&gt;</th><th scope=col>&lt;chr&gt;</th><th scope=col>&lt;chr&gt;</th><th scope=col>&lt;chr&gt;</th><th scope=col>&lt;chr&gt;</th><th scope=col>&lt;dbl&gt;</th><th scope=col>&lt;int&gt;</th><th scope=col>&lt;chr&gt;</th></tr>\n",
       "</thead>\n",
       "<tbody>\n",
       "\t<tr><th scope=row>236</th><td>breyers</td><td>63_breyers</td><td>Chocolate Snack Cups 10ct              </td><td></td><td>Breyers<c2><ae> Chocolate ice cream - rich, creamy, with just the right amount of sweetness and real cocoa! Who can resist? It<e2><80><99>s deliciously snackable in a perfectly portioned 3 fl oz. serving ice cream cup.\n",
       "\n",
       "America loves chocolate ice cream and so do we! That fresh cream taste in Breyers<c2><ae> Chocolate ice cream is thanks in part to our partnerships with American farmers, who ensure the highest quality of dairy for our desserts.\n",
       "\n",
       "And that rich chocolate satisfying your taste buds? That<e2><80><99>s real cocoa we use. In fact, we only use real ingredients and colors and flavors from natural sources. Starting with real high quality ingredients is what we think makes the best chocolate ice cream.\n",
       "\n",
       "Try it and see if you agree! Or give Breyers<c2><ae> Chocolate a twist with one of our fun recipes at .\n",
       "\n",
       "*The FDA states that no significant difference has been shown between dairy derived from rBST-treated and non-rBST-treated cows.                                                                                                                                                                                                                                                                                                    </td><td>4.9</td><td>26</td><td>MILK, CREAM, SUGAR, WATER, DUTCHED COCOA (PROCESSED WITH ALKALI), WHEY, VEGETABLE GUM (TARA), NATURAL FLAVOR                                                                                                                                                                                                                                                                                                                                                                                                                                                                                                                                                                                                                                                                                                                                                                                                                                                                                                                 </td></tr>\n",
       "\t<tr><th scope=row>237</th><td>breyers</td><td>64_breyers</td><td>CINNABON<c2><ae>                       </td><td></td><td>Calling all cinnamon roll lovers! We teamed up with CINNABON<c2><ae>, one of our favorite treats, to create our bakery-inspired Breyers<c2><ae> CINNABON<c2><ae>.\n",
       "\n",
       "Bring home the magic of CINNABON<c2><ae> and Breyers<c2><ae> with swirls of gooey cinnamon roll flavor and delicious dough bites in a sweet cinnamon flavored base. It<e2><80><99>s a twist on your classic CINNABON<c2><ae> cinnamon roll that will take your senses on a tasty trip.\n",
       "\n",
       "Not only delicious, but also made with high quality ingredients like fresh cream, sugar and milk. In fact, our milk and cream is 100% Grade A from American cows not treated with artificial growth hormones*. We use colors and flavors from natural sources and only sustainably farmed fruit and vanilla**. Our commitment to using high quality ingredients goes back more than 150 years to give you a great tasting dessert.\n",
       "\n",
       "Try out our Breyers<c2><ae> CINNABON<c2><ae> and let us know what you think at !\n",
       "\n",
       "*The FDA states that no significant difference has been shown between dairy derived from rBST-treated and non-rBST-treated cows. ** Our product, before the inclusion of any candies, cookies, sauces or fruit from other suppliers, will fully abide by this claim. Raspberries are not sustainably farmed.</td><td>4.0</td><td>28</td><td>MILK, CORN SYRUP, SUGAR, BROWN SUGAR, SOYBEAN OIL, WATER, BUTTER, CREAM, SALT, CORN SYRUP, SPICE, SALT, SOYBEAN LECITHIN, VANILLA EXTRACT, DRIED CANE SYRUP, UNBLEACHED UNENRICHED WHEAT FLOUR, COCONUT OIL, WATER, BUTTER, CREAM, SALT, MOLASSES, SODIUM BICARBONATE, SPICE, CORN SYRUP, SOY LECITHIN, SALT, FRUCTOSE, COCONUT OIL, WHEY, CREAM, VEGETABLE GUMS, GUAR, CAROB BEAN, MONO AND DIGLYCERIDES, NATURAL FLAVOR                                                                                                                                                                                                                                                                                                                                                                                                                                                                                                                                                                                                    </td></tr>\n",
       "\t<tr><th scope=row>238</th><td>breyers</td><td>65_breyers</td><td>CarbSmart<e2><84><a2> Caramel Swirl Bar</td><td></td><td>Watching your grams of sugar or carbs? Try our Breyers<c2><ae> CarbSmart<e2><84><a2> Caramel Swirl Bars, with 60 calories, 4g net carbs, 4g sugar, and 3g fiber+ per serving! Sometimes, you just need a treat that you can grab and go and maybe even eat in four bites!\n",
       "\n",
       "We start with fresh 100% Grade A cream from American cows not treated with artificial growth hormones*. Our fruit and vanilla is sustainably farmed and we only use colors and flavors from natural sources. So, while you<e2><80><99>re walking around and enjoying the 4 grams of sugar of a Breyers<c2><ae> CarbSmart<e2><84><a2> Caramel Swirl Bar, you know that even after more than 150 years, we<e2><80><99>re following the spirit of William<e2><80><99>s Pledge of Purity.\n",
       "\n",
       "We hope that you give our Caramel Swirl Bars a try and see if you love them! Or, give our other flavors a try like Almond Bars, Vanilla Bars, and our Fudge Bars!\n",
       "\n",
       "*The FDA states that no significant difference has been shown between dairy derived from rBST-treated and non-rBST-treated cows. +SEE NUTRITION FACTS FOR MORE INFORMATION +NET CARBS ARE CALCULATED BY SUBTRACTING TOTAL DIETARY FIBER AND SUGAR ALCOHOL FROM TOTAL CARBOHYDRATES                                                                        </td><td>4.7</td><td>18</td><td>MILK, WATER, CARAMEL SWIRL, SUGAR, WATER, CORN SYRUP, HIGH FRUCTOSE CORN SYRUP, NONFAT MILK SOLIDS, BUTTER, CREAM, SALT, SALT, MOLASSES, PECTIN, SOY LECITHIN, NATURAL FLAVOR, POTASSIUM SORBATE (PRESERVATIVE), SODIUM CITRATE, LACTIC ACID, MALTITOL SYRUP, POLYDEXTROSE, COCONUT OIL, WHEY, GLYCERIN, CREAM, SOLUBLE CORN FIBER, VEGETABLE GUMS, CAROB BEAN GUM, GUAR GUM, CARAMEL (FOR COLOR), MONO AND DIGLYCERIDES, NATURAL FLAVOR, ACESULFAME POTASSIUM, SUCRALOSE                                                                                                                                                                                                                                                                                                                                                                                                                                                                                                                                                    </td></tr>\n",
       "\t<tr><th scope=row>239</th><td>breyers</td><td>66_breyers</td><td>Layered Dessert S'mores                </td><td></td><td>Calling all S'mores lovers! Make sure you don't miss out on our Layered Dessert S'mores. We start with smooth Breyers<c2><ae> and stir in sweet graham pieces between two layers of chocolate with marshmallows.\n",
       "\n",
       "Not only delicious, but also made with high quality ingredients like fresh cream, sugar and milk. In fact, our milk and cream is 100% Grade A from American cows not treated with artificial growth hormones*. Our commitment to using high quality ingredients goes back more than 150 years to give you a great tasting dessert.\n",
       "\n",
       "Try Breyers<c2><ae> Layered Dessert S'mores and let us know what you think at !\n",
       "\n",
       "*The FDA states that no significant difference has been shown between dairy derived from rBST-treated and non-rBST-treated cows.                                                                                                                                                                                                                                                                                                                                                                                                                                                                                                                        </td><td>2.5</td><td>31</td><td>MILK, CORN SYRUP, SUGAR, WHEAT FLOUR, BUTTER, CREAM (MILK), SALT, PALM OIL, CORN SYRUP, NONFAT MILK, WATER, RICE FLOUR, NATURAL FLAVORS, SALT, WHEAT FLOUR, SUGAR, PALM OIL, MOLASSES, SPICES, SALT, BAKING SODA, NATURAL FLAVOR, SOYBEAN LECITHIN, FRUCTOSE, COCONUT OIL, DUTCHED COCOA (PROCESSED WITH ALKALI), WHEY, CREAM, VEGETABLE GUMS, GUAR, CAROB BEAN, MONO AND DIGLYCERIDES, NATURAL FLAVOR, VANILLA EXTRACT                                                                                                                                                                                                                                                                                                                                                                                                                                                                                                                                                                                                      </td></tr>\n",
       "\t<tr><th scope=row>240</th><td>breyers</td><td>67_breyers</td><td><span style=white-space:pre-wrap>Layered Dessert Peach Cobbler          </span></td><td></td><td><span style=white-space:pre-wrap>Love peach cobbler topped with Breyers<c2><ae>? Then make sure you don't miss out on our Limited Edition Peach Cobbler Layered Dessert. We start with smooth Breyers<c2><ae> and stir in real buttery shortbread pieces between two layers of peach with peach pieces. The experience of peach cobbler topped with Breyers, all in one scoop!\n",
       "\n",
       "Not only delicious, but also made with high quality ingredients like fresh cream, sugar and milk. In fact, our milk and cream is 100% Grade A from American cows not treated with artificial growth hormones*. We use colors and flavors from natural sources and only sustainably farmed fruit and vanilla**.\n",
       "\n",
       "Try Breyers<c2><ae> Layered Dessert Peach Cobbler and let us know what you think at !\n",
       "\n",
       "*The FDA states that no significant difference has been shown between dairy derived from rBST-treated and non-rBST-treated cows. **In Breyers<c2><ae> Cookies &amp; Candies, our product, before the inclusion of other cookies, candies, sauces or fruit from other suppliers, will abide by this claim. Raspberries are not sustainably farmed.                                                                                                                                                                                            </span></td><td>3.2</td><td>38</td><td><span style=white-space:pre-wrap>MILK, CORN SYRUP, ENRICHED WHEAT FLOUR, WHEAT FLOUR, NIACIN, REDUCED IRON, THIAMIN MONONITRATE, RIBOFLAVIN, FOLIC ACID, SUGAR, BUTTER, CREAM, SALT, CANOLA OIL, SKIM MILK POWDER, SALT, SODIUM BICARBONATE, PEACHES, FRUCTOSE, COCONUT OIL, SUGAR, WHEY, CREAM, VEGETABLE GUMS, GUAR GUM, CAROB BEAN GUM, TARA GUM, MONO AND DIGLYCERIDES, NATURAL FLAVOR, VANILLA BEANS, ANNATTO (FOR COLOR), VANILLA EXTRACT                                                                                                                                                                                                                                                                                                                                                                                                                                                                                                                                                                                                               </span></td></tr>\n",
       "\t<tr><th scope=row>241</th><td>breyers</td><td>68_breyers</td><td>Layered Dessert Brownie Cheesecake     </td><td></td><td>Love brownie cheesecake? What about Breyers<c2><ae>? Now you can get both delicious desserts in just one scoop! We start with smooth cheesecake Breyers<c2><ae> and stir in real cheesecake pieces and surround it by two layers of chocolate with brownies.\n",
       "\n",
       "Not only delicious, but also made with high quality ingredients like fresh cream, sugar and milk. In fact, our milk and cream is 100% Grade A from American cows not treated with artificial growth hormones*. We use colors and flavors from natural sources and only sustainably farmed fruit and vanilla**. Our commitment to using high quality ingredients goes back more than 150 years to give you a great tasting dessert.\n",
       "\n",
       "Make sure you don't miss out on our Breyers<c2><ae> Layered Dessert Brownie Cheesecake. Try it and let us know what you think at !\n",
       "\n",
       "*The FDA states that no significant difference has been shown between dairy derived from rBST-treated and non-rBST-treated cows. **Our product, before the inclusion of any candies, cookies, sauces or fruit from other suppliers, will fully abide by this claim. Raspberries are not sustainably farmed.                                                                                                                                              </td><td>2.8</td><td>25</td><td>MILK, CORN SYRUP, SUGAR, ENRICHED WHEAT FLOUR, WHEAT FLOUR, NIACIN, REDUCED IRON, THIAMINE MONONITRATE (VITAMIN B1), RIBOFLAVIN (VITAMIN B2), FOLIC ACID, POWDERED SUGAR, SUGAR, CORNSTARCH, COCOA (PROCESSED WITH ALKALI), WATER, PALM KERNEL OIL, SOYBEAN OIL, NONFAT DRY MILK, SOY LECITHIN (EMULSIFIER), NATURAL FLAVORS, FRUCTOSE, CHEESECAKE PIECES WITH GRAHAM CRUST, CREAM CHEESE, PASTEURIZED MILK, CREAM, CHEESE CULTURES, SALT, CAROB BEAN GUM, SUGAR, PASTEURIZED WHOLE EGGS, GRAHAM CRUMB, UNBLEACHED UNENRICHED WHEAT FLOUR, WHOLE WHEAT/GRAHAM FLOUR, SUGAR, CANOLA OIL, MOLASSES, HONEY, SALT, SODIUM BICARBONATE, CORNSTARCH, PALM OIL, NATURAL FLAVOR, SWEETENED LEMON ZEST, LEMON PEEL, SUGAR, LEMON OIL, GUAR GUM, COCONUT OIL, DUTCHED COCOA (PROCESSED WITH ALKALI), WHEY, CREAM, CREAM CHEESE, PASTEURIZED MILK, CREAM, CHEESE CULTURES, SALT, CAROB BEAN GUM, DRIED CANE SYRUP, VEGETABLE GUMS, GUAR, CAROB BEAN GUM, MONO AND DIGLYCERIDES, NATURAL FLAVOR, SALT, PECTIN, SUGAR, ANNATTO (FOR COLOR)</td></tr>\n",
       "</tbody>\n",
       "</table>\n"
      ],
      "text/latex": [
       "A data.frame: 6 x 8\n",
       "\\begin{tabular}{r|llllllll}\n",
       "  & brand & key & name & subhead & description & rating & rating\\_count & ingredients\\\\\n",
       "  & <chr> & <chr> & <chr> & <chr> & <chr> & <dbl> & <int> & <chr>\\\\\n",
       "\\hline\n",
       "\t236 & breyers & 63\\_breyers & Chocolate Snack Cups 10ct               &  & Breyers<c2><ae> Chocolate ice cream - rich, creamy, with just the right amount of sweetness and real cocoa! Who can resist? It<e2><80><99>s deliciously snackable in a perfectly portioned 3 fl oz. serving ice cream cup.\n",
       "\n",
       "America loves chocolate ice cream and so do we! That fresh cream taste in Breyers<c2><ae> Chocolate ice cream is thanks in part to our partnerships with American farmers, who ensure the highest quality of dairy for our desserts.\n",
       "\n",
       "And that rich chocolate satisfying your taste buds? That<e2><80><99>s real cocoa we use. In fact, we only use real ingredients and colors and flavors from natural sources. Starting with real high quality ingredients is what we think makes the best chocolate ice cream.\n",
       "\n",
       "Try it and see if you agree! Or give Breyers<c2><ae> Chocolate a twist with one of our fun recipes at .\n",
       "\n",
       "*The FDA states that no significant difference has been shown between dairy derived from rBST-treated and non-rBST-treated cows.                                                                                                                                                                                                                                                                                                     & 4.9 & 26 & MILK, CREAM, SUGAR, WATER, DUTCHED COCOA (PROCESSED WITH ALKALI), WHEY, VEGETABLE GUM (TARA), NATURAL FLAVOR                                                                                                                                                                                                                                                                                                                                                                                                                                                                                                                                                                                                                                                                                                                                                                                                                                                                                                                 \\\\\n",
       "\t237 & breyers & 64\\_breyers & CINNABON<c2><ae>                        &  & Calling all cinnamon roll lovers! We teamed up with CINNABON<c2><ae>, one of our favorite treats, to create our bakery-inspired Breyers<c2><ae> CINNABON<c2><ae>.\n",
       "\n",
       "Bring home the magic of CINNABON<c2><ae> and Breyers<c2><ae> with swirls of gooey cinnamon roll flavor and delicious dough bites in a sweet cinnamon flavored base. It<e2><80><99>s a twist on your classic CINNABON<c2><ae> cinnamon roll that will take your senses on a tasty trip.\n",
       "\n",
       "Not only delicious, but also made with high quality ingredients like fresh cream, sugar and milk. In fact, our milk and cream is 100\\% Grade A from American cows not treated with artificial growth hormones*. We use colors and flavors from natural sources and only sustainably farmed fruit and vanilla**. Our commitment to using high quality ingredients goes back more than 150 years to give you a great tasting dessert.\n",
       "\n",
       "Try out our Breyers<c2><ae> CINNABON<c2><ae> and let us know what you think at !\n",
       "\n",
       "*The FDA states that no significant difference has been shown between dairy derived from rBST-treated and non-rBST-treated cows. ** Our product, before the inclusion of any candies, cookies, sauces or fruit from other suppliers, will fully abide by this claim. Raspberries are not sustainably farmed. & 4.0 & 28 & MILK, CORN SYRUP, SUGAR, BROWN SUGAR, SOYBEAN OIL, WATER, BUTTER, CREAM, SALT, CORN SYRUP, SPICE, SALT, SOYBEAN LECITHIN, VANILLA EXTRACT, DRIED CANE SYRUP, UNBLEACHED UNENRICHED WHEAT FLOUR, COCONUT OIL, WATER, BUTTER, CREAM, SALT, MOLASSES, SODIUM BICARBONATE, SPICE, CORN SYRUP, SOY LECITHIN, SALT, FRUCTOSE, COCONUT OIL, WHEY, CREAM, VEGETABLE GUMS, GUAR, CAROB BEAN, MONO AND DIGLYCERIDES, NATURAL FLAVOR                                                                                                                                                                                                                                                                                                                                                                                                                                                                                                                                                                                                    \\\\\n",
       "\t238 & breyers & 65\\_breyers & CarbSmart<e2><84><a2> Caramel Swirl Bar &  & Watching your grams of sugar or carbs? Try our Breyers<c2><ae> CarbSmart<e2><84><a2> Caramel Swirl Bars, with 60 calories, 4g net carbs, 4g sugar, and 3g fiber+ per serving! Sometimes, you just need a treat that you can grab and go and maybe even eat in four bites!\n",
       "\n",
       "We start with fresh 100\\% Grade A cream from American cows not treated with artificial growth hormones*. Our fruit and vanilla is sustainably farmed and we only use colors and flavors from natural sources. So, while you<e2><80><99>re walking around and enjoying the 4 grams of sugar of a Breyers<c2><ae> CarbSmart<e2><84><a2> Caramel Swirl Bar, you know that even after more than 150 years, we<e2><80><99>re following the spirit of William<e2><80><99>s Pledge of Purity.\n",
       "\n",
       "We hope that you give our Caramel Swirl Bars a try and see if you love them! Or, give our other flavors a try like Almond Bars, Vanilla Bars, and our Fudge Bars!\n",
       "\n",
       "*The FDA states that no significant difference has been shown between dairy derived from rBST-treated and non-rBST-treated cows. +SEE NUTRITION FACTS FOR MORE INFORMATION +NET CARBS ARE CALCULATED BY SUBTRACTING TOTAL DIETARY FIBER AND SUGAR ALCOHOL FROM TOTAL CARBOHYDRATES                                                                         & 4.7 & 18 & MILK, WATER, CARAMEL SWIRL, SUGAR, WATER, CORN SYRUP, HIGH FRUCTOSE CORN SYRUP, NONFAT MILK SOLIDS, BUTTER, CREAM, SALT, SALT, MOLASSES, PECTIN, SOY LECITHIN, NATURAL FLAVOR, POTASSIUM SORBATE (PRESERVATIVE), SODIUM CITRATE, LACTIC ACID, MALTITOL SYRUP, POLYDEXTROSE, COCONUT OIL, WHEY, GLYCERIN, CREAM, SOLUBLE CORN FIBER, VEGETABLE GUMS, CAROB BEAN GUM, GUAR GUM, CARAMEL (FOR COLOR), MONO AND DIGLYCERIDES, NATURAL FLAVOR, ACESULFAME POTASSIUM, SUCRALOSE                                                                                                                                                                                                                                                                                                                                                                                                                                                                                                                                                    \\\\\n",
       "\t239 & breyers & 66\\_breyers & Layered Dessert S'mores                 &  & Calling all S'mores lovers! Make sure you don't miss out on our Layered Dessert S'mores. We start with smooth Breyers<c2><ae> and stir in sweet graham pieces between two layers of chocolate with marshmallows.\n",
       "\n",
       "Not only delicious, but also made with high quality ingredients like fresh cream, sugar and milk. In fact, our milk and cream is 100\\% Grade A from American cows not treated with artificial growth hormones*. Our commitment to using high quality ingredients goes back more than 150 years to give you a great tasting dessert.\n",
       "\n",
       "Try Breyers<c2><ae> Layered Dessert S'mores and let us know what you think at !\n",
       "\n",
       "*The FDA states that no significant difference has been shown between dairy derived from rBST-treated and non-rBST-treated cows.                                                                                                                                                                                                                                                                                                                                                                                                                                                                                                                         & 2.5 & 31 & MILK, CORN SYRUP, SUGAR, WHEAT FLOUR, BUTTER, CREAM (MILK), SALT, PALM OIL, CORN SYRUP, NONFAT MILK, WATER, RICE FLOUR, NATURAL FLAVORS, SALT, WHEAT FLOUR, SUGAR, PALM OIL, MOLASSES, SPICES, SALT, BAKING SODA, NATURAL FLAVOR, SOYBEAN LECITHIN, FRUCTOSE, COCONUT OIL, DUTCHED COCOA (PROCESSED WITH ALKALI), WHEY, CREAM, VEGETABLE GUMS, GUAR, CAROB BEAN, MONO AND DIGLYCERIDES, NATURAL FLAVOR, VANILLA EXTRACT                                                                                                                                                                                                                                                                                                                                                                                                                                                                                                                                                                                                      \\\\\n",
       "\t240 & breyers & 67\\_breyers & Layered Dessert Peach Cobbler           &  & Love peach cobbler topped with Breyers<c2><ae>? Then make sure you don't miss out on our Limited Edition Peach Cobbler Layered Dessert. We start with smooth Breyers<c2><ae> and stir in real buttery shortbread pieces between two layers of peach with peach pieces. The experience of peach cobbler topped with Breyers, all in one scoop!\n",
       "\n",
       "Not only delicious, but also made with high quality ingredients like fresh cream, sugar and milk. In fact, our milk and cream is 100\\% Grade A from American cows not treated with artificial growth hormones*. We use colors and flavors from natural sources and only sustainably farmed fruit and vanilla**.\n",
       "\n",
       "Try Breyers<c2><ae> Layered Dessert Peach Cobbler and let us know what you think at !\n",
       "\n",
       "*The FDA states that no significant difference has been shown between dairy derived from rBST-treated and non-rBST-treated cows. **In Breyers<c2><ae> Cookies \\& Candies, our product, before the inclusion of other cookies, candies, sauces or fruit from other suppliers, will abide by this claim. Raspberries are not sustainably farmed.                                                                                                                                                                                             & 3.2 & 38 & MILK, CORN SYRUP, ENRICHED WHEAT FLOUR, WHEAT FLOUR, NIACIN, REDUCED IRON, THIAMIN MONONITRATE, RIBOFLAVIN, FOLIC ACID, SUGAR, BUTTER, CREAM, SALT, CANOLA OIL, SKIM MILK POWDER, SALT, SODIUM BICARBONATE, PEACHES, FRUCTOSE, COCONUT OIL, SUGAR, WHEY, CREAM, VEGETABLE GUMS, GUAR GUM, CAROB BEAN GUM, TARA GUM, MONO AND DIGLYCERIDES, NATURAL FLAVOR, VANILLA BEANS, ANNATTO (FOR COLOR), VANILLA EXTRACT                                                                                                                                                                                                                                                                                                                                                                                                                                                                                                                                                                                                               \\\\\n",
       "\t241 & breyers & 68\\_breyers & Layered Dessert Brownie Cheesecake      &  & Love brownie cheesecake? What about Breyers<c2><ae>? Now you can get both delicious desserts in just one scoop! We start with smooth cheesecake Breyers<c2><ae> and stir in real cheesecake pieces and surround it by two layers of chocolate with brownies.\n",
       "\n",
       "Not only delicious, but also made with high quality ingredients like fresh cream, sugar and milk. In fact, our milk and cream is 100\\% Grade A from American cows not treated with artificial growth hormones*. We use colors and flavors from natural sources and only sustainably farmed fruit and vanilla**. Our commitment to using high quality ingredients goes back more than 150 years to give you a great tasting dessert.\n",
       "\n",
       "Make sure you don't miss out on our Breyers<c2><ae> Layered Dessert Brownie Cheesecake. Try it and let us know what you think at !\n",
       "\n",
       "*The FDA states that no significant difference has been shown between dairy derived from rBST-treated and non-rBST-treated cows. **Our product, before the inclusion of any candies, cookies, sauces or fruit from other suppliers, will fully abide by this claim. Raspberries are not sustainably farmed.                                                                                                                                               & 2.8 & 25 & MILK, CORN SYRUP, SUGAR, ENRICHED WHEAT FLOUR, WHEAT FLOUR, NIACIN, REDUCED IRON, THIAMINE MONONITRATE (VITAMIN B1), RIBOFLAVIN (VITAMIN B2), FOLIC ACID, POWDERED SUGAR, SUGAR, CORNSTARCH, COCOA (PROCESSED WITH ALKALI), WATER, PALM KERNEL OIL, SOYBEAN OIL, NONFAT DRY MILK, SOY LECITHIN (EMULSIFIER), NATURAL FLAVORS, FRUCTOSE, CHEESECAKE PIECES WITH GRAHAM CRUST, CREAM CHEESE, PASTEURIZED MILK, CREAM, CHEESE CULTURES, SALT, CAROB BEAN GUM, SUGAR, PASTEURIZED WHOLE EGGS, GRAHAM CRUMB, UNBLEACHED UNENRICHED WHEAT FLOUR, WHOLE WHEAT/GRAHAM FLOUR, SUGAR, CANOLA OIL, MOLASSES, HONEY, SALT, SODIUM BICARBONATE, CORNSTARCH, PALM OIL, NATURAL FLAVOR, SWEETENED LEMON ZEST, LEMON PEEL, SUGAR, LEMON OIL, GUAR GUM, COCONUT OIL, DUTCHED COCOA (PROCESSED WITH ALKALI), WHEY, CREAM, CREAM CHEESE, PASTEURIZED MILK, CREAM, CHEESE CULTURES, SALT, CAROB BEAN GUM, DRIED CANE SYRUP, VEGETABLE GUMS, GUAR, CAROB BEAN GUM, MONO AND DIGLYCERIDES, NATURAL FLAVOR, SALT, PECTIN, SUGAR, ANNATTO (FOR COLOR)\\\\\n",
       "\\end{tabular}\n"
      ],
      "text/markdown": [
       "\n",
       "A data.frame: 6 x 8\n",
       "\n",
       "| <!--/--> | brand &lt;chr&gt; | key &lt;chr&gt; | name &lt;chr&gt; | subhead &lt;chr&gt; | description &lt;chr&gt; | rating &lt;dbl&gt; | rating_count &lt;int&gt; | ingredients &lt;chr&gt; |\n",
       "|---|---|---|---|---|---|---|---|---|\n",
       "| 236 | breyers | 63_breyers | Chocolate Snack Cups 10ct               | <!----> | Breyers<c2><ae> Chocolate ice cream - rich, creamy, with just the right amount of sweetness and real cocoa! Who can resist? It<e2><80><99>s deliciously snackable in a perfectly portioned 3 fl oz. serving ice cream cup.\n",
       "\n",
       "America loves chocolate ice cream and so do we! That fresh cream taste in Breyers<c2><ae> Chocolate ice cream is thanks in part to our partnerships with American farmers, who ensure the highest quality of dairy for our desserts.\n",
       "\n",
       "And that rich chocolate satisfying your taste buds? That<e2><80><99>s real cocoa we use. In fact, we only use real ingredients and colors and flavors from natural sources. Starting with real high quality ingredients is what we think makes the best chocolate ice cream.\n",
       "\n",
       "Try it and see if you agree! Or give Breyers<c2><ae> Chocolate a twist with one of our fun recipes at .\n",
       "\n",
       "*The FDA states that no significant difference has been shown between dairy derived from rBST-treated and non-rBST-treated cows.                                                                                                                                                                                                                                                                                                     | 4.9 | 26 | MILK, CREAM, SUGAR, WATER, DUTCHED COCOA (PROCESSED WITH ALKALI), WHEY, VEGETABLE GUM (TARA), NATURAL FLAVOR                                                                                                                                                                                                                                                                                                                                                                                                                                                                                                                                                                                                                                                                                                                                                                                                                                                                                                                  |\n",
       "| 237 | breyers | 64_breyers | CINNABON<c2><ae>                        | <!----> | Calling all cinnamon roll lovers! We teamed up with CINNABON<c2><ae>, one of our favorite treats, to create our bakery-inspired Breyers<c2><ae> CINNABON<c2><ae>.\n",
       "\n",
       "Bring home the magic of CINNABON<c2><ae> and Breyers<c2><ae> with swirls of gooey cinnamon roll flavor and delicious dough bites in a sweet cinnamon flavored base. It<e2><80><99>s a twist on your classic CINNABON<c2><ae> cinnamon roll that will take your senses on a tasty trip.\n",
       "\n",
       "Not only delicious, but also made with high quality ingredients like fresh cream, sugar and milk. In fact, our milk and cream is 100% Grade A from American cows not treated with artificial growth hormones*. We use colors and flavors from natural sources and only sustainably farmed fruit and vanilla**. Our commitment to using high quality ingredients goes back more than 150 years to give you a great tasting dessert.\n",
       "\n",
       "Try out our Breyers<c2><ae> CINNABON<c2><ae> and let us know what you think at !\n",
       "\n",
       "*The FDA states that no significant difference has been shown between dairy derived from rBST-treated and non-rBST-treated cows. ** Our product, before the inclusion of any candies, cookies, sauces or fruit from other suppliers, will fully abide by this claim. Raspberries are not sustainably farmed. | 4.0 | 28 | MILK, CORN SYRUP, SUGAR, BROWN SUGAR, SOYBEAN OIL, WATER, BUTTER, CREAM, SALT, CORN SYRUP, SPICE, SALT, SOYBEAN LECITHIN, VANILLA EXTRACT, DRIED CANE SYRUP, UNBLEACHED UNENRICHED WHEAT FLOUR, COCONUT OIL, WATER, BUTTER, CREAM, SALT, MOLASSES, SODIUM BICARBONATE, SPICE, CORN SYRUP, SOY LECITHIN, SALT, FRUCTOSE, COCONUT OIL, WHEY, CREAM, VEGETABLE GUMS, GUAR, CAROB BEAN, MONO AND DIGLYCERIDES, NATURAL FLAVOR                                                                                                                                                                                                                                                                                                                                                                                                                                                                                                                                                                                                     |\n",
       "| 238 | breyers | 65_breyers | CarbSmart<e2><84><a2> Caramel Swirl Bar | <!----> | Watching your grams of sugar or carbs? Try our Breyers<c2><ae> CarbSmart<e2><84><a2> Caramel Swirl Bars, with 60 calories, 4g net carbs, 4g sugar, and 3g fiber+ per serving! Sometimes, you just need a treat that you can grab and go and maybe even eat in four bites!\n",
       "\n",
       "We start with fresh 100% Grade A cream from American cows not treated with artificial growth hormones*. Our fruit and vanilla is sustainably farmed and we only use colors and flavors from natural sources. So, while you<e2><80><99>re walking around and enjoying the 4 grams of sugar of a Breyers<c2><ae> CarbSmart<e2><84><a2> Caramel Swirl Bar, you know that even after more than 150 years, we<e2><80><99>re following the spirit of William<e2><80><99>s Pledge of Purity.\n",
       "\n",
       "We hope that you give our Caramel Swirl Bars a try and see if you love them! Or, give our other flavors a try like Almond Bars, Vanilla Bars, and our Fudge Bars!\n",
       "\n",
       "*The FDA states that no significant difference has been shown between dairy derived from rBST-treated and non-rBST-treated cows. +SEE NUTRITION FACTS FOR MORE INFORMATION +NET CARBS ARE CALCULATED BY SUBTRACTING TOTAL DIETARY FIBER AND SUGAR ALCOHOL FROM TOTAL CARBOHYDRATES                                                                         | 4.7 | 18 | MILK, WATER, CARAMEL SWIRL, SUGAR, WATER, CORN SYRUP, HIGH FRUCTOSE CORN SYRUP, NONFAT MILK SOLIDS, BUTTER, CREAM, SALT, SALT, MOLASSES, PECTIN, SOY LECITHIN, NATURAL FLAVOR, POTASSIUM SORBATE (PRESERVATIVE), SODIUM CITRATE, LACTIC ACID, MALTITOL SYRUP, POLYDEXTROSE, COCONUT OIL, WHEY, GLYCERIN, CREAM, SOLUBLE CORN FIBER, VEGETABLE GUMS, CAROB BEAN GUM, GUAR GUM, CARAMEL (FOR COLOR), MONO AND DIGLYCERIDES, NATURAL FLAVOR, ACESULFAME POTASSIUM, SUCRALOSE                                                                                                                                                                                                                                                                                                                                                                                                                                                                                                                                                     |\n",
       "| 239 | breyers | 66_breyers | Layered Dessert S'mores                 | <!----> | Calling all S'mores lovers! Make sure you don't miss out on our Layered Dessert S'mores. We start with smooth Breyers<c2><ae> and stir in sweet graham pieces between two layers of chocolate with marshmallows.\n",
       "\n",
       "Not only delicious, but also made with high quality ingredients like fresh cream, sugar and milk. In fact, our milk and cream is 100% Grade A from American cows not treated with artificial growth hormones*. Our commitment to using high quality ingredients goes back more than 150 years to give you a great tasting dessert.\n",
       "\n",
       "Try Breyers<c2><ae> Layered Dessert S'mores and let us know what you think at !\n",
       "\n",
       "*The FDA states that no significant difference has been shown between dairy derived from rBST-treated and non-rBST-treated cows.                                                                                                                                                                                                                                                                                                                                                                                                                                                                                                                         | 2.5 | 31 | MILK, CORN SYRUP, SUGAR, WHEAT FLOUR, BUTTER, CREAM (MILK), SALT, PALM OIL, CORN SYRUP, NONFAT MILK, WATER, RICE FLOUR, NATURAL FLAVORS, SALT, WHEAT FLOUR, SUGAR, PALM OIL, MOLASSES, SPICES, SALT, BAKING SODA, NATURAL FLAVOR, SOYBEAN LECITHIN, FRUCTOSE, COCONUT OIL, DUTCHED COCOA (PROCESSED WITH ALKALI), WHEY, CREAM, VEGETABLE GUMS, GUAR, CAROB BEAN, MONO AND DIGLYCERIDES, NATURAL FLAVOR, VANILLA EXTRACT                                                                                                                                                                                                                                                                                                                                                                                                                                                                                                                                                                                                       |\n",
       "| 240 | breyers | 67_breyers | Layered Dessert Peach Cobbler           | <!----> | Love peach cobbler topped with Breyers<c2><ae>? Then make sure you don't miss out on our Limited Edition Peach Cobbler Layered Dessert. We start with smooth Breyers<c2><ae> and stir in real buttery shortbread pieces between two layers of peach with peach pieces. The experience of peach cobbler topped with Breyers, all in one scoop!\n",
       "\n",
       "Not only delicious, but also made with high quality ingredients like fresh cream, sugar and milk. In fact, our milk and cream is 100% Grade A from American cows not treated with artificial growth hormones*. We use colors and flavors from natural sources and only sustainably farmed fruit and vanilla**.\n",
       "\n",
       "Try Breyers<c2><ae> Layered Dessert Peach Cobbler and let us know what you think at !\n",
       "\n",
       "*The FDA states that no significant difference has been shown between dairy derived from rBST-treated and non-rBST-treated cows. **In Breyers<c2><ae> Cookies &amp; Candies, our product, before the inclusion of other cookies, candies, sauces or fruit from other suppliers, will abide by this claim. Raspberries are not sustainably farmed.                                                                                                                                                                                             | 3.2 | 38 | MILK, CORN SYRUP, ENRICHED WHEAT FLOUR, WHEAT FLOUR, NIACIN, REDUCED IRON, THIAMIN MONONITRATE, RIBOFLAVIN, FOLIC ACID, SUGAR, BUTTER, CREAM, SALT, CANOLA OIL, SKIM MILK POWDER, SALT, SODIUM BICARBONATE, PEACHES, FRUCTOSE, COCONUT OIL, SUGAR, WHEY, CREAM, VEGETABLE GUMS, GUAR GUM, CAROB BEAN GUM, TARA GUM, MONO AND DIGLYCERIDES, NATURAL FLAVOR, VANILLA BEANS, ANNATTO (FOR COLOR), VANILLA EXTRACT                                                                                                                                                                                                                                                                                                                                                                                                                                                                                                                                                                                                                |\n",
       "| 241 | breyers | 68_breyers | Layered Dessert Brownie Cheesecake      | <!----> | Love brownie cheesecake? What about Breyers<c2><ae>? Now you can get both delicious desserts in just one scoop! We start with smooth cheesecake Breyers<c2><ae> and stir in real cheesecake pieces and surround it by two layers of chocolate with brownies.\n",
       "\n",
       "Not only delicious, but also made with high quality ingredients like fresh cream, sugar and milk. In fact, our milk and cream is 100% Grade A from American cows not treated with artificial growth hormones*. We use colors and flavors from natural sources and only sustainably farmed fruit and vanilla**. Our commitment to using high quality ingredients goes back more than 150 years to give you a great tasting dessert.\n",
       "\n",
       "Make sure you don't miss out on our Breyers<c2><ae> Layered Dessert Brownie Cheesecake. Try it and let us know what you think at !\n",
       "\n",
       "*The FDA states that no significant difference has been shown between dairy derived from rBST-treated and non-rBST-treated cows. **Our product, before the inclusion of any candies, cookies, sauces or fruit from other suppliers, will fully abide by this claim. Raspberries are not sustainably farmed.                                                                                                                                               | 2.8 | 25 | MILK, CORN SYRUP, SUGAR, ENRICHED WHEAT FLOUR, WHEAT FLOUR, NIACIN, REDUCED IRON, THIAMINE MONONITRATE (VITAMIN B1), RIBOFLAVIN (VITAMIN B2), FOLIC ACID, POWDERED SUGAR, SUGAR, CORNSTARCH, COCOA (PROCESSED WITH ALKALI), WATER, PALM KERNEL OIL, SOYBEAN OIL, NONFAT DRY MILK, SOY LECITHIN (EMULSIFIER), NATURAL FLAVORS, FRUCTOSE, CHEESECAKE PIECES WITH GRAHAM CRUST, CREAM CHEESE, PASTEURIZED MILK, CREAM, CHEESE CULTURES, SALT, CAROB BEAN GUM, SUGAR, PASTEURIZED WHOLE EGGS, GRAHAM CRUMB, UNBLEACHED UNENRICHED WHEAT FLOUR, WHOLE WHEAT/GRAHAM FLOUR, SUGAR, CANOLA OIL, MOLASSES, HONEY, SALT, SODIUM BICARBONATE, CORNSTARCH, PALM OIL, NATURAL FLAVOR, SWEETENED LEMON ZEST, LEMON PEEL, SUGAR, LEMON OIL, GUAR GUM, COCONUT OIL, DUTCHED COCOA (PROCESSED WITH ALKALI), WHEY, CREAM, CREAM CHEESE, PASTEURIZED MILK, CREAM, CHEESE CULTURES, SALT, CAROB BEAN GUM, DRIED CANE SYRUP, VEGETABLE GUMS, GUAR, CAROB BEAN GUM, MONO AND DIGLYCERIDES, NATURAL FLAVOR, SALT, PECTIN, SUGAR, ANNATTO (FOR COLOR) |\n",
       "\n"
      ],
      "text/plain": [
       "    brand   key        name                                    subhead\n",
       "236 breyers 63_breyers Chocolate Snack Cups 10ct                      \n",
       "237 breyers 64_breyers CINNABON\\302\\256                               \n",
       "238 breyers 65_breyers CarbSmart\\342\\204\\242 Caramel Swirl Bar        \n",
       "239 breyers 66_breyers Layered Dessert S'mores                        \n",
       "240 breyers 67_breyers Layered Dessert Peach Cobbler                  \n",
       "241 breyers 68_breyers Layered Dessert Brownie Cheesecake             \n",
       "    description                                                                                                                                                                                                                                                                                                                                                                                                                                                                                                                                                                                                                                                                                                                                                                                                                                                                                                                                                                                                                                                                                                                                                                                                                                                                                          \n",
       "236 Breyers\\302\\256 Chocolate ice cream - rich, creamy, with just the right amount of sweetness and real cocoa! Who can resist? It\\342\\200\\231s deliciously snackable in a perfectly portioned 3 fl oz. serving ice cream cup.\\n\\nAmerica loves chocolate ice cream and so do we! That fresh cream taste in Breyers\\302\\256 Chocolate ice cream is thanks in part to our partnerships with American farmers, who ensure the highest quality of dairy for our desserts.\\n\\nAnd that rich chocolate satisfying your taste buds? That\\342\\200\\231s real cocoa we use. In fact, we only use real ingredients and colors and flavors from natural sources. Starting with real high quality ingredients is what we think makes the best chocolate ice cream.\\n\\nTry it and see if you agree! Or give Breyers\\302\\256 Chocolate a twist with one of our fun recipes at .\\n\\n*The FDA states that no significant difference has been shown between dairy derived from rBST-treated and non-rBST-treated cows.                                                                                                                                                                                                                                                                                                    \n",
       "237 Calling all cinnamon roll lovers! We teamed up with CINNABON\\302\\256, one of our favorite treats, to create our bakery-inspired Breyers\\302\\256 CINNABON\\302\\256.\\n\\nBring home the magic of CINNABON\\302\\256 and Breyers\\302\\256 with swirls of gooey cinnamon roll flavor and delicious dough bites in a sweet cinnamon flavored base. It\\342\\200\\231s a twist on your classic CINNABON\\302\\256 cinnamon roll that will take your senses on a tasty trip.\\n\\nNot only delicious, but also made with high quality ingredients like fresh cream, sugar and milk. In fact, our milk and cream is 100% Grade A from American cows not treated with artificial growth hormones*. We use colors and flavors from natural sources and only sustainably farmed fruit and vanilla**. Our commitment to using high quality ingredients goes back more than 150 years to give you a great tasting dessert.\\n\\nTry out our Breyers\\302\\256 CINNABON\\302\\256 and let us know what you think at !\\n\\n*The FDA states that no significant difference has been shown between dairy derived from rBST-treated and non-rBST-treated cows. ** Our product, before the inclusion of any candies, cookies, sauces or fruit from other suppliers, will fully abide by this claim. Raspberries are not sustainably farmed.\n",
       "238 Watching your grams of sugar or carbs? Try our Breyers\\302\\256 CarbSmart\\342\\204\\242 Caramel Swirl Bars, with 60 calories, 4g net carbs, 4g sugar, and 3g fiber+ per serving! Sometimes, you just need a treat that you can grab and go and maybe even eat in four bites!\\n\\nWe start with fresh 100% Grade A cream from American cows not treated with artificial growth hormones*. Our fruit and vanilla is sustainably farmed and we only use colors and flavors from natural sources. So, while you\\342\\200\\231re walking around and enjoying the 4 grams of sugar of a Breyers\\302\\256 CarbSmart\\342\\204\\242 Caramel Swirl Bar, you know that even after more than 150 years, we\\342\\200\\231re following the spirit of William\\342\\200\\231s Pledge of Purity.\\n\\nWe hope that you give our Caramel Swirl Bars a try and see if you love them! Or, give our other flavors a try like Almond Bars, Vanilla Bars, and our Fudge Bars!\\n\\n*The FDA states that no significant difference has been shown between dairy derived from rBST-treated and non-rBST-treated cows. +SEE NUTRITION FACTS FOR MORE INFORMATION +NET CARBS ARE CALCULATED BY SUBTRACTING TOTAL DIETARY FIBER AND SUGAR ALCOHOL FROM TOTAL CARBOHYDRATES                                                                        \n",
       "239 Calling all S'mores lovers! Make sure you don't miss out on our Layered Dessert S'mores. We start with smooth Breyers\\302\\256 and stir in sweet graham pieces between two layers of chocolate with marshmallows.\\n\\nNot only delicious, but also made with high quality ingredients like fresh cream, sugar and milk. In fact, our milk and cream is 100% Grade A from American cows not treated with artificial growth hormones*. Our commitment to using high quality ingredients goes back more than 150 years to give you a great tasting dessert.\\n\\nTry Breyers\\302\\256 Layered Dessert S'mores and let us know what you think at !\\n\\n*The FDA states that no significant difference has been shown between dairy derived from rBST-treated and non-rBST-treated cows.                                                                                                                                                                                                                                                                                                                                                                                                                                                                                                                        \n",
       "240 Love peach cobbler topped with Breyers\\302\\256? Then make sure you don't miss out on our Limited Edition Peach Cobbler Layered Dessert. We start with smooth Breyers\\302\\256 and stir in real buttery shortbread pieces between two layers of peach with peach pieces. The experience of peach cobbler topped with Breyers, all in one scoop!\\n\\nNot only delicious, but also made with high quality ingredients like fresh cream, sugar and milk. In fact, our milk and cream is 100% Grade A from American cows not treated with artificial growth hormones*. We use colors and flavors from natural sources and only sustainably farmed fruit and vanilla**.\\n\\nTry Breyers\\302\\256 Layered Dessert Peach Cobbler and let us know what you think at !\\n\\n*The FDA states that no significant difference has been shown between dairy derived from rBST-treated and non-rBST-treated cows. **In Breyers\\302\\256 Cookies & Candies, our product, before the inclusion of other cookies, candies, sauces or fruit from other suppliers, will abide by this claim. Raspberries are not sustainably farmed.                                                                                                                                                                                            \n",
       "241 Love brownie cheesecake? What about Breyers\\302\\256? Now you can get both delicious desserts in just one scoop! We start with smooth cheesecake Breyers\\302\\256 and stir in real cheesecake pieces and surround it by two layers of chocolate with brownies.\\n\\nNot only delicious, but also made with high quality ingredients like fresh cream, sugar and milk. In fact, our milk and cream is 100% Grade A from American cows not treated with artificial growth hormones*. We use colors and flavors from natural sources and only sustainably farmed fruit and vanilla**. Our commitment to using high quality ingredients goes back more than 150 years to give you a great tasting dessert.\\n\\nMake sure you don't miss out on our Breyers\\302\\256 Layered Dessert Brownie Cheesecake. Try it and let us know what you think at !\\n\\n*The FDA states that no significant difference has been shown between dairy derived from rBST-treated and non-rBST-treated cows. **Our product, before the inclusion of any candies, cookies, sauces or fruit from other suppliers, will fully abide by this claim. Raspberries are not sustainably farmed.                                                                                                                                              \n",
       "    rating rating_count\n",
       "236 4.9    26          \n",
       "237 4.0    28          \n",
       "238 4.7    18          \n",
       "239 2.5    31          \n",
       "240 3.2    38          \n",
       "241 2.8    25          \n",
       "    ingredients                                                                                                                                                                                                                                                                                                                                                                                                                                                                                                                                                                                                                                                                                                                                                                                                                                                                                                                                                                                                                  \n",
       "236 MILK, CREAM, SUGAR, WATER, DUTCHED COCOA (PROCESSED WITH ALKALI), WHEY, VEGETABLE GUM (TARA), NATURAL FLAVOR                                                                                                                                                                                                                                                                                                                                                                                                                                                                                                                                                                                                                                                                                                                                                                                                                                                                                                                 \n",
       "237 MILK, CORN SYRUP, SUGAR, BROWN SUGAR, SOYBEAN OIL, WATER, BUTTER, CREAM, SALT, CORN SYRUP, SPICE, SALT, SOYBEAN LECITHIN, VANILLA EXTRACT, DRIED CANE SYRUP, UNBLEACHED UNENRICHED WHEAT FLOUR, COCONUT OIL, WATER, BUTTER, CREAM, SALT, MOLASSES, SODIUM BICARBONATE, SPICE, CORN SYRUP, SOY LECITHIN, SALT, FRUCTOSE, COCONUT OIL, WHEY, CREAM, VEGETABLE GUMS, GUAR, CAROB BEAN, MONO AND DIGLYCERIDES, NATURAL FLAVOR                                                                                                                                                                                                                                                                                                                                                                                                                                                                                                                                                                                                    \n",
       "238 MILK, WATER, CARAMEL SWIRL, SUGAR, WATER, CORN SYRUP, HIGH FRUCTOSE CORN SYRUP, NONFAT MILK SOLIDS, BUTTER, CREAM, SALT, SALT, MOLASSES, PECTIN, SOY LECITHIN, NATURAL FLAVOR, POTASSIUM SORBATE (PRESERVATIVE), SODIUM CITRATE, LACTIC ACID, MALTITOL SYRUP, POLYDEXTROSE, COCONUT OIL, WHEY, GLYCERIN, CREAM, SOLUBLE CORN FIBER, VEGETABLE GUMS, CAROB BEAN GUM, GUAR GUM, CARAMEL (FOR COLOR), MONO AND DIGLYCERIDES, NATURAL FLAVOR, ACESULFAME POTASSIUM, SUCRALOSE                                                                                                                                                                                                                                                                                                                                                                                                                                                                                                                                                    \n",
       "239 MILK, CORN SYRUP, SUGAR, WHEAT FLOUR, BUTTER, CREAM (MILK), SALT, PALM OIL, CORN SYRUP, NONFAT MILK, WATER, RICE FLOUR, NATURAL FLAVORS, SALT, WHEAT FLOUR, SUGAR, PALM OIL, MOLASSES, SPICES, SALT, BAKING SODA, NATURAL FLAVOR, SOYBEAN LECITHIN, FRUCTOSE, COCONUT OIL, DUTCHED COCOA (PROCESSED WITH ALKALI), WHEY, CREAM, VEGETABLE GUMS, GUAR, CAROB BEAN, MONO AND DIGLYCERIDES, NATURAL FLAVOR, VANILLA EXTRACT                                                                                                                                                                                                                                                                                                                                                                                                                                                                                                                                                                                                      \n",
       "240 MILK, CORN SYRUP, ENRICHED WHEAT FLOUR, WHEAT FLOUR, NIACIN, REDUCED IRON, THIAMIN MONONITRATE, RIBOFLAVIN, FOLIC ACID, SUGAR, BUTTER, CREAM, SALT, CANOLA OIL, SKIM MILK POWDER, SALT, SODIUM BICARBONATE, PEACHES, FRUCTOSE, COCONUT OIL, SUGAR, WHEY, CREAM, VEGETABLE GUMS, GUAR GUM, CAROB BEAN GUM, TARA GUM, MONO AND DIGLYCERIDES, NATURAL FLAVOR, VANILLA BEANS, ANNATTO (FOR COLOR), VANILLA EXTRACT                                                                                                                                                                                                                                                                                                                                                                                                                                                                                                                                                                                                               \n",
       "241 MILK, CORN SYRUP, SUGAR, ENRICHED WHEAT FLOUR, WHEAT FLOUR, NIACIN, REDUCED IRON, THIAMINE MONONITRATE (VITAMIN B1), RIBOFLAVIN (VITAMIN B2), FOLIC ACID, POWDERED SUGAR, SUGAR, CORNSTARCH, COCOA (PROCESSED WITH ALKALI), WATER, PALM KERNEL OIL, SOYBEAN OIL, NONFAT DRY MILK, SOY LECITHIN (EMULSIFIER), NATURAL FLAVORS, FRUCTOSE, CHEESECAKE PIECES WITH GRAHAM CRUST, CREAM CHEESE, PASTEURIZED MILK, CREAM, CHEESE CULTURES, SALT, CAROB BEAN GUM, SUGAR, PASTEURIZED WHOLE EGGS, GRAHAM CRUMB, UNBLEACHED UNENRICHED WHEAT FLOUR, WHOLE WHEAT/GRAHAM FLOUR, SUGAR, CANOLA OIL, MOLASSES, HONEY, SALT, SODIUM BICARBONATE, CORNSTARCH, PALM OIL, NATURAL FLAVOR, SWEETENED LEMON ZEST, LEMON PEEL, SUGAR, LEMON OIL, GUAR GUM, COCONUT OIL, DUTCHED COCOA (PROCESSED WITH ALKALI), WHEY, CREAM, CREAM CHEESE, PASTEURIZED MILK, CREAM, CHEESE CULTURES, SALT, CAROB BEAN GUM, DRIED CANE SYRUP, VEGETABLE GUMS, GUAR, CAROB BEAN GUM, MONO AND DIGLYCERIDES, NATURAL FLAVOR, SALT, PECTIN, SUGAR, ANNATTO (FOR COLOR)"
      ]
     },
     "metadata": {},
     "output_type": "display_data"
    }
   ],
   "source": []
  },
  {
   "cell_type": "code",
   "execution_count": 11,
   "id": "9a9afd3e-a0d4-40d5-a927-53729ed1e1c6",
   "metadata": {
    "scrolled": true
   },
   "outputs": [
    {
     "data": {
      "text/html": [
       "<style>\n",
       ".list-inline {list-style: none; margin:0; padding: 0}\n",
       ".list-inline>li {display: inline-block}\n",
       ".list-inline>li:not(:last-child)::after {content: \"\\00b7\"; padding: 0 .5ex}\n",
       "</style>\n",
       "<ol class=list-inline><li>241</li><li>8</li></ol>\n"
      ],
      "text/latex": [
       "\\begin{enumerate*}\n",
       "\\item 241\n",
       "\\item 8\n",
       "\\end{enumerate*}\n"
      ],
      "text/markdown": [
       "1. 241\n",
       "2. 8\n",
       "\n",
       "\n"
      ],
      "text/plain": [
       "[1] 241   8"
      ]
     },
     "metadata": {},
     "output_type": "display_data"
    }
   ],
   "source": [
    "\n"
   ]
  },
  {
   "cell_type": "code",
   "execution_count": 12,
   "id": "956f1c95-3492-414e-8427-36bf84c157b0",
   "metadata": {},
   "outputs": [
    {
     "data": {
      "text/plain": [
       "\n",
       "     bj breyers      hd talenti \n",
       "     57      69      70      45 "
      ]
     },
     "metadata": {},
     "output_type": "display_data"
    }
   ],
   "source": [
    "table(myDF1$brand)"
   ]
  },
  {
   "cell_type": "code",
   "execution_count": 19,
   "id": "2159979a-1c3c-49ea-8140-5ad3a70cd43b",
   "metadata": {},
   "outputs": [
    {
     "data": {
      "text/html": [
       "<table class=\"dataframe\">\n",
       "<caption>A data.frame: 6 x 13</caption>\n",
       "<thead>\n",
       "\t<tr><th></th><th scope=col>brand</th><th scope=col>key</th><th scope=col>author</th><th scope=col>date</th><th scope=col>stars</th><th scope=col>title</th><th scope=col>helpful_yes</th><th scope=col>helpful_no</th><th scope=col>text</th><th scope=col>taste</th><th scope=col>ingredients</th><th scope=col>texture</th><th scope=col>likes</th></tr>\n",
       "\t<tr><th></th><th scope=col>&lt;chr&gt;</th><th scope=col>&lt;chr&gt;</th><th scope=col>&lt;chr&gt;</th><th scope=col>&lt;chr&gt;</th><th scope=col>&lt;int&gt;</th><th scope=col>&lt;chr&gt;</th><th scope=col>&lt;dbl&gt;</th><th scope=col>&lt;dbl&gt;</th><th scope=col>&lt;chr&gt;</th><th scope=col>&lt;dbl&gt;</th><th scope=col>&lt;dbl&gt;</th><th scope=col>&lt;dbl&gt;</th><th scope=col>&lt;chr&gt;</th></tr>\n",
       "</thead>\n",
       "<tbody>\n",
       "\t<tr><th scope=row>1</th><td>bj</td><td>0_bj</td><td>Ilovebennjerry</td><td>2017-04-15</td><td>3</td><td>Not enough brownies!                   </td><td>10</td><td>3</td><td>Super good, don't get me wrong. But I came for the caramel and brownies, not the sweet cream. The packaging made it seem like brownies were packed and bountiful *crying frowny emoji* I'd say the taste of this was amazing, but the ratio of brownie to sweet cream was disappointing. Liked it regardless but probably won't buy again simply because it didn't live up to its promising package. I'll find another one that has a better ratio and wayyy more yummy chewy brownies.\n",
       "Overall, good flavor, texture, idea, and brownies. Not so great caramel/sweet cream/ brownie RATIO. Just add more brownies. Please.                                                                                                                 </td><td>NA</td><td>NA</td><td>NA</td><td></td></tr>\n",
       "\t<tr><th scope=row>2</th><td>bj</td><td>0_bj</td><td>Sweettooth909 </td><td>2020-01-05</td><td>5</td><td>I<e2><80><99>m OBSESSED with this pint!</td><td> 3</td><td>0</td><td>I decided to try it out although I<e2><80><99>m not a huge caramel fan, and the first buy was ok, didn<e2><80><99>t like the caramel too much and for some reason that specific pint barely had any brownies! Like there were some on top but from the middle to the bottom? Zilch. Nada. Nothing! It was disappointing. But for some reason, I bought it again and I really do believe it was just that point bcuz the second one was glorious!! I had a big brownie chunk in EVERY bite. Plus the caramel didn<e2><80><99>t bother me as much and I took a liking to it. Conclusion: I<e2><80><99>m on my fifth pint, of the week and I<e2><80><99>m going back to get my daily pint cus I<e2><80><99>m kinda sick and need some happiness.</td><td>NA</td><td>NA</td><td>NA</td><td></td></tr>\n",
       "\t<tr><th scope=row>3</th><td>bj</td><td>0_bj</td><td>LaTanga71     </td><td>2018-04-26</td><td>3</td><td>My favorite...More Caramel Please      </td><td> 5</td><td>2</td><td>My caramel core begins to disappear about half way through. I only buy this for the caramel core. The first time I purchased this I was not even aware that there were blonde bits in there. You had me a salted caramel core, well this is the fourth pint that I have purchased and the caramel is plentiful at the top then it begins to get sparse about half way down at 3/4s of the way down its gone. It works out in my husbands favor because he doesn't care for the caramel so he gets to finish my pint while having a full pint of his choice. Please please please, its called salted caramel core for a reason. Let the caramel flow through the core. P.S. You could put a little extra in there, I totally would not mind.  </td><td>NA</td><td>NA</td><td>NA</td><td></td></tr>\n",
       "\t<tr><th scope=row>4</th><td>bj</td><td>0_bj</td><td>chicago220    </td><td>2018-01-14</td><td>5</td><td>Obsessed!!!                            </td><td>24</td><td>1</td><td>Why are people complaining about the blonde brownies? If you don<e2><80><99>t like blonde brownies, get ice cream with fudge brownies! I LOVE the blonde brownies and cannot get enough of them. This ice cream is by far my favorite. I have driven to multiple stores to try and find it... and when I do, I stock up! I<e2><80><99>ve tried other flavors when I can<e2><80><99>t find this one, and none of them even come close to making me as happy as this does! I<e2><80><99>d say sometimes the caramel to brownie ratio is a little off at times (more brownies please!), but I<e2><80><99>ll still always enjoy it nevertheless!                                                                                                 </td><td>NA</td><td>NA</td><td>NA</td><td></td></tr>\n",
       "\t<tr><th scope=row>5</th><td>bj</td><td>0_bj</td><td>Kassidyk      </td><td>2020-07-24</td><td>1</td><td>Worst Ice Cream Ever!                  </td><td> 1</td><td>5</td><td>This ice cream is worst ice cream I<e2><80><99>ve ever tasted. I was beyond excited when I picked it up today and couldn<e2><80><99>t wait to get home and try it. First the sweet cream ice cream has no flavour. But that<e2><80><99>s fine I could get past that, but the salted caramel core is what<e2><80><99>s really wrong. It<e2><80><99>s disgusting and so salty it<e2><80><99>s actually inedible. I<e2><80><99>ve had ice cream before that I have really enjoyed but never to the point where I physically can not stomach it. I love salted caramel but this is just another level. I actually came here to read the reviews and see how others thought of it just in case mine was a bad batch. Never again!                 </td><td>NA</td><td>NA</td><td>NA</td><td></td></tr>\n",
       "\t<tr><th scope=row>6</th><td>bj</td><td>0_bj</td><td>Nikiera       </td><td>2020-07-23</td><td>2</td><td>Way Too Salty                          </td><td> 3</td><td>1</td><td>I bought this last night to go with Louisiana Crunch cake because I was craving that salty and sweet flavor. Unfortunately, I was not thrilled with the salted caramel core of this ice cream. Usually, when you have salted caramel, the salt enhances the flavor of the caramel. The salt in this core OVERWHELMED everything, even the cake. It was disappointing to not enjoy my dessert and I doubt I'll be finishing this pint of ice cream, which is a shame because you should never have to throw away ice cream.                                                                                                                                                                                                                   </td><td>NA</td><td>NA</td><td>NA</td><td></td></tr>\n",
       "</tbody>\n",
       "</table>\n"
      ],
      "text/latex": [
       "A data.frame: 6 x 13\n",
       "\\begin{tabular}{r|lllllllllllll}\n",
       "  & brand & key & author & date & stars & title & helpful\\_yes & helpful\\_no & text & taste & ingredients & texture & likes\\\\\n",
       "  & <chr> & <chr> & <chr> & <chr> & <int> & <chr> & <dbl> & <dbl> & <chr> & <dbl> & <dbl> & <dbl> & <chr>\\\\\n",
       "\\hline\n",
       "\t1 & bj & 0\\_bj & Ilovebennjerry & 2017-04-15 & 3 & Not enough brownies!                    & 10 & 3 & Super good, don't get me wrong. But I came for the caramel and brownies, not the sweet cream. The packaging made it seem like brownies were packed and bountiful *crying frowny emoji* I'd say the taste of this was amazing, but the ratio of brownie to sweet cream was disappointing. Liked it regardless but probably won't buy again simply because it didn't live up to its promising package. I'll find another one that has a better ratio and wayyy more yummy chewy brownies.\n",
       "Overall, good flavor, texture, idea, and brownies. Not so great caramel/sweet cream/ brownie RATIO. Just add more brownies. Please.                                                                                                                  & NA & NA & NA & \\\\\n",
       "\t2 & bj & 0\\_bj & Sweettooth909  & 2020-01-05 & 5 & I<e2><80><99>m OBSESSED with this pint! &  3 & 0 & I decided to try it out although I<e2><80><99>m not a huge caramel fan, and the first buy was ok, didn<e2><80><99>t like the caramel too much and for some reason that specific pint barely had any brownies! Like there were some on top but from the middle to the bottom? Zilch. Nada. Nothing! It was disappointing. But for some reason, I bought it again and I really do believe it was just that point bcuz the second one was glorious!! I had a big brownie chunk in EVERY bite. Plus the caramel didn<e2><80><99>t bother me as much and I took a liking to it. Conclusion: I<e2><80><99>m on my fifth pint, of the week and I<e2><80><99>m going back to get my daily pint cus I<e2><80><99>m kinda sick and need some happiness. & NA & NA & NA & \\\\\n",
       "\t3 & bj & 0\\_bj & LaTanga71      & 2018-04-26 & 3 & My favorite...More Caramel Please       &  5 & 2 & My caramel core begins to disappear about half way through. I only buy this for the caramel core. The first time I purchased this I was not even aware that there were blonde bits in there. You had me a salted caramel core, well this is the fourth pint that I have purchased and the caramel is plentiful at the top then it begins to get sparse about half way down at 3/4s of the way down its gone. It works out in my husbands favor because he doesn't care for the caramel so he gets to finish my pint while having a full pint of his choice. Please please please, its called salted caramel core for a reason. Let the caramel flow through the core. P.S. You could put a little extra in there, I totally would not mind.   & NA & NA & NA & \\\\\n",
       "\t4 & bj & 0\\_bj & chicago220     & 2018-01-14 & 5 & Obsessed!!!                             & 24 & 1 & Why are people complaining about the blonde brownies? If you don<e2><80><99>t like blonde brownies, get ice cream with fudge brownies! I LOVE the blonde brownies and cannot get enough of them. This ice cream is by far my favorite. I have driven to multiple stores to try and find it... and when I do, I stock up! I<e2><80><99>ve tried other flavors when I can<e2><80><99>t find this one, and none of them even come close to making me as happy as this does! I<e2><80><99>d say sometimes the caramel to brownie ratio is a little off at times (more brownies please!), but I<e2><80><99>ll still always enjoy it nevertheless!                                                                                                  & NA & NA & NA & \\\\\n",
       "\t5 & bj & 0\\_bj & Kassidyk       & 2020-07-24 & 1 & Worst Ice Cream Ever!                   &  1 & 5 & This ice cream is worst ice cream I<e2><80><99>ve ever tasted. I was beyond excited when I picked it up today and couldn<e2><80><99>t wait to get home and try it. First the sweet cream ice cream has no flavour. But that<e2><80><99>s fine I could get past that, but the salted caramel core is what<e2><80><99>s really wrong. It<e2><80><99>s disgusting and so salty it<e2><80><99>s actually inedible. I<e2><80><99>ve had ice cream before that I have really enjoyed but never to the point where I physically can not stomach it. I love salted caramel but this is just another level. I actually came here to read the reviews and see how others thought of it just in case mine was a bad batch. Never again!                  & NA & NA & NA & \\\\\n",
       "\t6 & bj & 0\\_bj & Nikiera        & 2020-07-23 & 2 & Way Too Salty                           &  3 & 1 & I bought this last night to go with Louisiana Crunch cake because I was craving that salty and sweet flavor. Unfortunately, I was not thrilled with the salted caramel core of this ice cream. Usually, when you have salted caramel, the salt enhances the flavor of the caramel. The salt in this core OVERWHELMED everything, even the cake. It was disappointing to not enjoy my dessert and I doubt I'll be finishing this pint of ice cream, which is a shame because you should never have to throw away ice cream.                                                                                                                                                                                                                    & NA & NA & NA & \\\\\n",
       "\\end{tabular}\n"
      ],
      "text/markdown": [
       "\n",
       "A data.frame: 6 x 13\n",
       "\n",
       "| <!--/--> | brand &lt;chr&gt; | key &lt;chr&gt; | author &lt;chr&gt; | date &lt;chr&gt; | stars &lt;int&gt; | title &lt;chr&gt; | helpful_yes &lt;dbl&gt; | helpful_no &lt;dbl&gt; | text &lt;chr&gt; | taste &lt;dbl&gt; | ingredients &lt;dbl&gt; | texture &lt;dbl&gt; | likes &lt;chr&gt; |\n",
       "|---|---|---|---|---|---|---|---|---|---|---|---|---|---|\n",
       "| 1 | bj | 0_bj | Ilovebennjerry | 2017-04-15 | 3 | Not enough brownies!                    | 10 | 3 | Super good, don't get me wrong. But I came for the caramel and brownies, not the sweet cream. The packaging made it seem like brownies were packed and bountiful *crying frowny emoji* I'd say the taste of this was amazing, but the ratio of brownie to sweet cream was disappointing. Liked it regardless but probably won't buy again simply because it didn't live up to its promising package. I'll find another one that has a better ratio and wayyy more yummy chewy brownies.\n",
       "Overall, good flavor, texture, idea, and brownies. Not so great caramel/sweet cream/ brownie RATIO. Just add more brownies. Please.                                                                                                                  | NA | NA | NA | <!----> |\n",
       "| 2 | bj | 0_bj | Sweettooth909  | 2020-01-05 | 5 | I<e2><80><99>m OBSESSED with this pint! |  3 | 0 | I decided to try it out although I<e2><80><99>m not a huge caramel fan, and the first buy was ok, didn<e2><80><99>t like the caramel too much and for some reason that specific pint barely had any brownies! Like there were some on top but from the middle to the bottom? Zilch. Nada. Nothing! It was disappointing. But for some reason, I bought it again and I really do believe it was just that point bcuz the second one was glorious!! I had a big brownie chunk in EVERY bite. Plus the caramel didn<e2><80><99>t bother me as much and I took a liking to it. Conclusion: I<e2><80><99>m on my fifth pint, of the week and I<e2><80><99>m going back to get my daily pint cus I<e2><80><99>m kinda sick and need some happiness. | NA | NA | NA | <!----> |\n",
       "| 3 | bj | 0_bj | LaTanga71      | 2018-04-26 | 3 | My favorite...More Caramel Please       |  5 | 2 | My caramel core begins to disappear about half way through. I only buy this for the caramel core. The first time I purchased this I was not even aware that there were blonde bits in there. You had me a salted caramel core, well this is the fourth pint that I have purchased and the caramel is plentiful at the top then it begins to get sparse about half way down at 3/4s of the way down its gone. It works out in my husbands favor because he doesn't care for the caramel so he gets to finish my pint while having a full pint of his choice. Please please please, its called salted caramel core for a reason. Let the caramel flow through the core. P.S. You could put a little extra in there, I totally would not mind.   | NA | NA | NA | <!----> |\n",
       "| 4 | bj | 0_bj | chicago220     | 2018-01-14 | 5 | Obsessed!!!                             | 24 | 1 | Why are people complaining about the blonde brownies? If you don<e2><80><99>t like blonde brownies, get ice cream with fudge brownies! I LOVE the blonde brownies and cannot get enough of them. This ice cream is by far my favorite. I have driven to multiple stores to try and find it... and when I do, I stock up! I<e2><80><99>ve tried other flavors when I can<e2><80><99>t find this one, and none of them even come close to making me as happy as this does! I<e2><80><99>d say sometimes the caramel to brownie ratio is a little off at times (more brownies please!), but I<e2><80><99>ll still always enjoy it nevertheless!                                                                                                  | NA | NA | NA | <!----> |\n",
       "| 5 | bj | 0_bj | Kassidyk       | 2020-07-24 | 1 | Worst Ice Cream Ever!                   |  1 | 5 | This ice cream is worst ice cream I<e2><80><99>ve ever tasted. I was beyond excited when I picked it up today and couldn<e2><80><99>t wait to get home and try it. First the sweet cream ice cream has no flavour. But that<e2><80><99>s fine I could get past that, but the salted caramel core is what<e2><80><99>s really wrong. It<e2><80><99>s disgusting and so salty it<e2><80><99>s actually inedible. I<e2><80><99>ve had ice cream before that I have really enjoyed but never to the point where I physically can not stomach it. I love salted caramel but this is just another level. I actually came here to read the reviews and see how others thought of it just in case mine was a bad batch. Never again!                  | NA | NA | NA | <!----> |\n",
       "| 6 | bj | 0_bj | Nikiera        | 2020-07-23 | 2 | Way Too Salty                           |  3 | 1 | I bought this last night to go with Louisiana Crunch cake because I was craving that salty and sweet flavor. Unfortunately, I was not thrilled with the salted caramel core of this ice cream. Usually, when you have salted caramel, the salt enhances the flavor of the caramel. The salt in this core OVERWHELMED everything, even the cake. It was disappointing to not enjoy my dessert and I doubt I'll be finishing this pint of ice cream, which is a shame because you should never have to throw away ice cream.                                                                                                                                                                                                                    | NA | NA | NA | <!----> |\n",
       "\n"
      ],
      "text/plain": [
       "  brand key  author         date       stars\n",
       "1 bj    0_bj Ilovebennjerry 2017-04-15 3    \n",
       "2 bj    0_bj Sweettooth909  2020-01-05 5    \n",
       "3 bj    0_bj LaTanga71      2018-04-26 3    \n",
       "4 bj    0_bj chicago220     2018-01-14 5    \n",
       "5 bj    0_bj Kassidyk       2020-07-24 1    \n",
       "6 bj    0_bj Nikiera        2020-07-23 2    \n",
       "  title                                   helpful_yes helpful_no\n",
       "1 Not enough brownies!                    10          3         \n",
       "2 I\\342\\200\\231m OBSESSED with this pint!  3          0         \n",
       "3 My favorite...More Caramel Please        5          2         \n",
       "4 Obsessed!!!                             24          1         \n",
       "5 Worst Ice Cream Ever!                    1          5         \n",
       "6 Way Too Salty                            3          1         \n",
       "  text                                                                                                                                                                                                                                                                                                                                                                                                                                                                                                                                                                                                                                                                                                                                         \n",
       "1 Super good, don't get me wrong. But I came for the caramel and brownies, not the sweet cream. The packaging made it seem like brownies were packed and bountiful *crying frowny emoji* I'd say the taste of this was amazing, but the ratio of brownie to sweet cream was disappointing. Liked it regardless but probably won't buy again simply because it didn't live up to its promising package. I'll find another one that has a better ratio and wayyy more yummy chewy brownies.\\nOverall, good flavor, texture, idea, and brownies. Not so great caramel/sweet cream/ brownie RATIO. Just add more brownies. Please.                                                                                                                 \n",
       "2 I decided to try it out although I\\342\\200\\231m not a huge caramel fan, and the first buy was ok, didn\\342\\200\\231t like the caramel too much and for some reason that specific pint barely had any brownies! Like there were some on top but from the middle to the bottom? Zilch. Nada. Nothing! It was disappointing. But for some reason, I bought it again and I really do believe it was just that point bcuz the second one was glorious!! I had a big brownie chunk in EVERY bite. Plus the caramel didn\\342\\200\\231t bother me as much and I took a liking to it. Conclusion: I\\342\\200\\231m on my fifth pint, of the week and I\\342\\200\\231m going back to get my daily pint cus I\\342\\200\\231m kinda sick and need some happiness.\n",
       "3 My caramel core begins to disappear about half way through. I only buy this for the caramel core. The first time I purchased this I was not even aware that there were blonde bits in there. You had me a salted caramel core, well this is the fourth pint that I have purchased and the caramel is plentiful at the top then it begins to get sparse about half way down at 3/4s of the way down its gone. It works out in my husbands favor because he doesn't care for the caramel so he gets to finish my pint while having a full pint of his choice. Please please please, its called salted caramel core for a reason. Let the caramel flow through the core. P.S. You could put a little extra in there, I totally would not mind.  \n",
       "4 Why are people complaining about the blonde brownies? If you don\\342\\200\\231t like blonde brownies, get ice cream with fudge brownies! I LOVE the blonde brownies and cannot get enough of them. This ice cream is by far my favorite. I have driven to multiple stores to try and find it... and when I do, I stock up! I\\342\\200\\231ve tried other flavors when I can\\342\\200\\231t find this one, and none of them even come close to making me as happy as this does! I\\342\\200\\231d say sometimes the caramel to brownie ratio is a little off at times (more brownies please!), but I\\342\\200\\231ll still always enjoy it nevertheless!                                                                                                 \n",
       "5 This ice cream is worst ice cream I\\342\\200\\231ve ever tasted. I was beyond excited when I picked it up today and couldn\\342\\200\\231t wait to get home and try it. First the sweet cream ice cream has no flavour. But that\\342\\200\\231s fine I could get past that, but the salted caramel core is what\\342\\200\\231s really wrong. It\\342\\200\\231s disgusting and so salty it\\342\\200\\231s actually inedible. I\\342\\200\\231ve had ice cream before that I have really enjoyed but never to the point where I physically can not stomach it. I love salted caramel but this is just another level. I actually came here to read the reviews and see how others thought of it just in case mine was a bad batch. Never again!                 \n",
       "6 I bought this last night to go with Louisiana Crunch cake because I was craving that salty and sweet flavor. Unfortunately, I was not thrilled with the salted caramel core of this ice cream. Usually, when you have salted caramel, the salt enhances the flavor of the caramel. The salt in this core OVERWHELMED everything, even the cake. It was disappointing to not enjoy my dessert and I doubt I'll be finishing this pint of ice cream, which is a shame because you should never have to throw away ice cream.                                                                                                                                                                                                                   \n",
       "  taste ingredients texture likes\n",
       "1 NA    NA          NA           \n",
       "2 NA    NA          NA           \n",
       "3 NA    NA          NA           \n",
       "4 NA    NA          NA           \n",
       "5 NA    NA          NA           \n",
       "6 NA    NA          NA           "
      ]
     },
     "metadata": {},
     "output_type": "display_data"
    }
   ],
   "source": [
    "myDF <- read.csv(\"/anvil/projects/tdm/data/icecream/combined/reviews.csv\")\n",
    "head(myDF)"
   ]
  },
  {
   "cell_type": "code",
   "execution_count": 7,
   "id": "4943d9d9-fda0-4f03-8ba1-daed71f429ec",
   "metadata": {},
   "outputs": [
    {
     "data": {
      "text/html": [
       "<table class=\"dataframe\">\n",
       "<caption>A data.frame: 6 x 13</caption>\n",
       "<thead>\n",
       "\t<tr><th></th><th scope=col>brand</th><th scope=col>key</th><th scope=col>author</th><th scope=col>date</th><th scope=col>stars</th><th scope=col>title</th><th scope=col>helpful_yes</th><th scope=col>helpful_no</th><th scope=col>text</th><th scope=col>taste</th><th scope=col>ingredients</th><th scope=col>texture</th><th scope=col>likes</th></tr>\n",
       "\t<tr><th></th><th scope=col>&lt;chr&gt;</th><th scope=col>&lt;chr&gt;</th><th scope=col>&lt;chr&gt;</th><th scope=col>&lt;chr&gt;</th><th scope=col>&lt;int&gt;</th><th scope=col>&lt;chr&gt;</th><th scope=col>&lt;dbl&gt;</th><th scope=col>&lt;dbl&gt;</th><th scope=col>&lt;chr&gt;</th><th scope=col>&lt;dbl&gt;</th><th scope=col>&lt;dbl&gt;</th><th scope=col>&lt;dbl&gt;</th><th scope=col>&lt;chr&gt;</th></tr>\n",
       "</thead>\n",
       "<tbody>\n",
       "\t<tr><th scope=row>21669</th><td>breyers</td><td>68_breyers</td><td>SoCalStevie</td><td>2020-06-29</td><td>5</td><td>It's tasty adventure!                   </td><td>0</td><td>0</td><td>This is my favorite dessert right now. I am a big fan of the bits of chocolate in the ice cream, so this favor provides a wonderful punch!      </td><td>NA</td><td>NA</td><td>NA</td><td></td></tr>\n",
       "\t<tr><th scope=row>21670</th><td>breyers</td><td>68_breyers</td><td>Randi      </td><td>2020-04-22</td><td>1</td><td>Terrible missing the chocolate ice cream</td><td>0</td><td>0</td><td>There was no chocolate ice cream in this at all, this was very very disappointing, didn<e2><80><99>t even come close to looking like the package</td><td>NA</td><td>NA</td><td>NA</td><td></td></tr>\n",
       "\t<tr><th scope=row>21671</th><td>breyers</td><td>68_breyers</td><td>Bethie     </td><td>2020-09-08</td><td>1</td><td>Terrible                                </td><td>0</td><td>0</td><td>This ice cream has no flavor at all. No one in the entire family liked it. Kids refusing ice cream - for real?                                  </td><td>NA</td><td>NA</td><td>NA</td><td></td></tr>\n",
       "\t<tr><th scope=row>21672</th><td>breyers</td><td>68_breyers</td><td>Nshaw1994  </td><td>2020-09-09</td><td>5</td><td>Flavor of the week!                     </td><td>0</td><td>0</td><td>Absolutely love this flavor! The only thing that would make it better is caramel and cookie dough bites!                                        </td><td>NA</td><td>NA</td><td>NA</td><td></td></tr>\n",
       "\t<tr><th scope=row>21673</th><td>breyers</td><td>68_breyers</td><td>PamelaG    </td><td>2020-06-01</td><td>5</td><td>Love this flavor!!                      </td><td>0</td><td>0</td><td>Brilliant combo - love the cheesecake and brownie chunks - please keep making this!!                                                            </td><td>NA</td><td>NA</td><td>NA</td><td></td></tr>\n",
       "\t<tr><th scope=row>21674</th><td>breyers</td><td>68_breyers</td><td>Fanchon    </td><td>2020-08-22</td><td>5</td><td>Great                                   </td><td>0</td><td>0</td><td>Has a delicious taste with all natural ingredients                                                                                              </td><td>NA</td><td>NA</td><td>NA</td><td></td></tr>\n",
       "</tbody>\n",
       "</table>\n"
      ],
      "text/latex": [
       "A data.frame: 6 x 13\n",
       "\\begin{tabular}{r|lllllllllllll}\n",
       "  & brand & key & author & date & stars & title & helpful\\_yes & helpful\\_no & text & taste & ingredients & texture & likes\\\\\n",
       "  & <chr> & <chr> & <chr> & <chr> & <int> & <chr> & <dbl> & <dbl> & <chr> & <dbl> & <dbl> & <dbl> & <chr>\\\\\n",
       "\\hline\n",
       "\t21669 & breyers & 68\\_breyers & SoCalStevie & 2020-06-29 & 5 & It's tasty adventure!                    & 0 & 0 & This is my favorite dessert right now. I am a big fan of the bits of chocolate in the ice cream, so this favor provides a wonderful punch!       & NA & NA & NA & \\\\\n",
       "\t21670 & breyers & 68\\_breyers & Randi       & 2020-04-22 & 1 & Terrible missing the chocolate ice cream & 0 & 0 & There was no chocolate ice cream in this at all, this was very very disappointing, didn<e2><80><99>t even come close to looking like the package & NA & NA & NA & \\\\\n",
       "\t21671 & breyers & 68\\_breyers & Bethie      & 2020-09-08 & 1 & Terrible                                 & 0 & 0 & This ice cream has no flavor at all. No one in the entire family liked it. Kids refusing ice cream - for real?                                   & NA & NA & NA & \\\\\n",
       "\t21672 & breyers & 68\\_breyers & Nshaw1994   & 2020-09-09 & 5 & Flavor of the week!                      & 0 & 0 & Absolutely love this flavor! The only thing that would make it better is caramel and cookie dough bites!                                         & NA & NA & NA & \\\\\n",
       "\t21673 & breyers & 68\\_breyers & PamelaG     & 2020-06-01 & 5 & Love this flavor!!                       & 0 & 0 & Brilliant combo - love the cheesecake and brownie chunks - please keep making this!!                                                             & NA & NA & NA & \\\\\n",
       "\t21674 & breyers & 68\\_breyers & Fanchon     & 2020-08-22 & 5 & Great                                    & 0 & 0 & Has a delicious taste with all natural ingredients                                                                                               & NA & NA & NA & \\\\\n",
       "\\end{tabular}\n"
      ],
      "text/markdown": [
       "\n",
       "A data.frame: 6 x 13\n",
       "\n",
       "| <!--/--> | brand &lt;chr&gt; | key &lt;chr&gt; | author &lt;chr&gt; | date &lt;chr&gt; | stars &lt;int&gt; | title &lt;chr&gt; | helpful_yes &lt;dbl&gt; | helpful_no &lt;dbl&gt; | text &lt;chr&gt; | taste &lt;dbl&gt; | ingredients &lt;dbl&gt; | texture &lt;dbl&gt; | likes &lt;chr&gt; |\n",
       "|---|---|---|---|---|---|---|---|---|---|---|---|---|---|\n",
       "| 21669 | breyers | 68_breyers | SoCalStevie | 2020-06-29 | 5 | It's tasty adventure!                    | 0 | 0 | This is my favorite dessert right now. I am a big fan of the bits of chocolate in the ice cream, so this favor provides a wonderful punch!       | NA | NA | NA | <!----> |\n",
       "| 21670 | breyers | 68_breyers | Randi       | 2020-04-22 | 1 | Terrible missing the chocolate ice cream | 0 | 0 | There was no chocolate ice cream in this at all, this was very very disappointing, didn<e2><80><99>t even come close to looking like the package | NA | NA | NA | <!----> |\n",
       "| 21671 | breyers | 68_breyers | Bethie      | 2020-09-08 | 1 | Terrible                                 | 0 | 0 | This ice cream has no flavor at all. No one in the entire family liked it. Kids refusing ice cream - for real?                                   | NA | NA | NA | <!----> |\n",
       "| 21672 | breyers | 68_breyers | Nshaw1994   | 2020-09-09 | 5 | Flavor of the week!                      | 0 | 0 | Absolutely love this flavor! The only thing that would make it better is caramel and cookie dough bites!                                         | NA | NA | NA | <!----> |\n",
       "| 21673 | breyers | 68_breyers | PamelaG     | 2020-06-01 | 5 | Love this flavor!!                       | 0 | 0 | Brilliant combo - love the cheesecake and brownie chunks - please keep making this!!                                                             | NA | NA | NA | <!----> |\n",
       "| 21674 | breyers | 68_breyers | Fanchon     | 2020-08-22 | 5 | Great                                    | 0 | 0 | Has a delicious taste with all natural ingredients                                                                                               | NA | NA | NA | <!----> |\n",
       "\n"
      ],
      "text/plain": [
       "      brand   key        author      date       stars\n",
       "21669 breyers 68_breyers SoCalStevie 2020-06-29 5    \n",
       "21670 breyers 68_breyers Randi       2020-04-22 1    \n",
       "21671 breyers 68_breyers Bethie      2020-09-08 1    \n",
       "21672 breyers 68_breyers Nshaw1994   2020-09-09 5    \n",
       "21673 breyers 68_breyers PamelaG     2020-06-01 5    \n",
       "21674 breyers 68_breyers Fanchon     2020-08-22 5    \n",
       "      title                                    helpful_yes helpful_no\n",
       "21669 It's tasty adventure!                    0           0         \n",
       "21670 Terrible missing the chocolate ice cream 0           0         \n",
       "21671 Terrible                                 0           0         \n",
       "21672 Flavor of the week!                      0           0         \n",
       "21673 Love this flavor!!                       0           0         \n",
       "21674 Great                                    0           0         \n",
       "      text                                                                                                                                            \n",
       "21669 This is my favorite dessert right now. I am a big fan of the bits of chocolate in the ice cream, so this favor provides a wonderful punch!      \n",
       "21670 There was no chocolate ice cream in this at all, this was very very disappointing, didn\\342\\200\\231t even come close to looking like the package\n",
       "21671 This ice cream has no flavor at all. No one in the entire family liked it. Kids refusing ice cream - for real?                                  \n",
       "21672 Absolutely love this flavor! The only thing that would make it better is caramel and cookie dough bites!                                        \n",
       "21673 Brilliant combo - love the cheesecake and brownie chunks - please keep making this!!                                                            \n",
       "21674 Has a delicious taste with all natural ingredients                                                                                              \n",
       "      taste ingredients texture likes\n",
       "21669 NA    NA          NA           \n",
       "21670 NA    NA          NA           \n",
       "21671 NA    NA          NA           \n",
       "21672 NA    NA          NA           \n",
       "21673 NA    NA          NA           \n",
       "21674 NA    NA          NA           "
      ]
     },
     "metadata": {},
     "output_type": "display_data"
    }
   ],
   "source": [
    "tail(myDF)"
   ]
  },
  {
   "cell_type": "code",
   "execution_count": 20,
   "id": "b3f11581-aab5-498b-9f38-410cec7c4f70",
   "metadata": {},
   "outputs": [
    {
     "data": {
      "text/html": [
       "<style>\n",
       ".list-inline {list-style: none; margin:0; padding: 0}\n",
       ".list-inline>li {display: inline-block}\n",
       ".list-inline>li:not(:last-child)::after {content: \"\\00b7\"; padding: 0 .5ex}\n",
       "</style>\n",
       "<ol class=list-inline><li>21674</li><li>13</li></ol>\n"
      ],
      "text/latex": [
       "\\begin{enumerate*}\n",
       "\\item 21674\n",
       "\\item 13\n",
       "\\end{enumerate*}\n"
      ],
      "text/markdown": [
       "1. 21674\n",
       "2. 13\n",
       "\n",
       "\n"
      ],
      "text/plain": [
       "[1] 21674    13"
      ]
     },
     "metadata": {},
     "output_type": "display_data"
    }
   ],
   "source": [
    "dim(myDF)"
   ]
  },
  {
   "cell_type": "code",
   "execution_count": 9,
   "id": "8dc6ae19-a685-4d6b-ac2d-b790b83365bd",
   "metadata": {},
   "outputs": [
    {
     "data": {
      "text/plain": [
       "\n",
       "     bj breyers      hd talenti \n",
       "   7943    5007    4655    4069 "
      ]
     },
     "metadata": {},
     "output_type": "display_data"
    }
   ],
   "source": [
    "table(myDF$brand)"
   ]
  },
  {
   "cell_type": "markdown",
   "id": "0d552245-b4d6-474a-9cc9-fa7b8e674d55",
   "metadata": {},
   "source": [
    "according to the output , bj has 7943 reviews , breyers has 5007 reviwes , hd has 4655 reviews and talenti has 4069 reviews. "
   ]
  },
  {
   "cell_type": "markdown",
   "id": "88c9cdac-3e92-498f-83fa-e089bfc44ac8",
   "metadata": {},
   "source": [
    "## Question 5"
   ]
  },
  {
   "cell_type": "code",
   "execution_count": 2,
   "id": "d370d7c9-06db-42b9-b75f-240481a5c491",
   "metadata": {},
   "outputs": [
    {
     "data": {
      "image/png": "[encoded data removed]",
      "text/plain": [
       "plot without title"
      ]
     },
     "metadata": {
      "image/png": {
       "height": 420,
       "width": 420
      }
     },
     "output_type": "display_data"
    }
   ],
   "source": [
    "# code here\n",
    "myDF <- read.csv(\"/anvil/projects/tdm/data/icecream/combined/products.csv\")\n",
    "plot(table(myDF$brand))"
   ]
  },
  {
   "cell_type": "code",
   "execution_count": 8,
   "id": "b6bcf15d-4357-4c3f-9196-7fec85dc4e21",
   "metadata": {
    "scrolled": true
   },
   "outputs": [
    {
     "data": {
      "image/png": "[encoded data removed]",
      "text/plain": [
       "plot without title"
      ]
     },
     "metadata": {
      "image/png": {
       "height": 420,
       "width": 420
      }
     },
     "output_type": "display_data"
    }
   ],
   "source": [
    "myDF <- read.csv(\"/anvil/projects/tdm/data/icecream/combined/reviews.csv\")\n",
    "plot(table(myDF$brand))\n"
   ]
  },
  {
   "cell_type": "markdown",
   "id": "9fbf00fb-2418-460f-ae94-2a32b0c28952",
   "metadata": {},
   "source": [
    "for products plot , breyers and hd are more than bj and talenti at  approximately 70 units followed by bj at 58 and talenti at 45 . for reviews bj has the highest reviwes at 8000 followed by breyers at approximatley 5000 . hd had aroud 4200 reviwes and talenti has around 400 reviews. "
   ]
  },
  {
   "cell_type": "markdown",
   "id": "f76442d6-d02e-4f26-b9d6-c3183e1d6929",
   "metadata": {},
   "source": [
    "## Pledge\n",
    "\n",
    "By submitting this work I hereby pledge that this is my own, personal work. I've acknowledged in the designated place at the top of this file all sources that I used to complete said work, including but not limited to: online resources, books, and electronic communications. I've noted all collaboration with fellow students and/or TA's. I did not copy or plagiarize another's work.\n",
    "\n",
    "> As a Boilermaker pursuing academic excellence, I pledge to be honest and true in all that I do. Accountable together – We are Purdue."
   ]
  }
 ],
 "metadata": {
  "kernelspec": {
   "display_name": "seminar-r",
   "language": "R",
   "name": "seminar-r"
  },
  "language_info": {
   "codemirror_mode": "r",
   "file_extension": ".r",
   "mimetype": "text/x-r-source",
   "name": "R",
   "pygments_lexer": "r",
   "version": "4.3.1"
  }
 },
 "nbformat": 4,
 "nbformat_minor": 5
}
